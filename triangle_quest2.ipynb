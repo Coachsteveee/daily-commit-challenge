{
 "cells": [
  {
   "cell_type": "markdown",
   "metadata": {},
   "source": [
    "# Triangle Quest 2\r\n",
    "\r\n",
    "You are given a positive integer `N`.\r\n",
    "Your task is to print a palindromic triangle of size `N`.\r\n",
    "\r\n",
    "For example, a palindromic triangle of size `5` is:\r\n",
    "\r\n",
    "1\r\n",
    "\r\n",
    "121\r\n",
    "\r\n",
    "12321\r\n",
    "\r\n",
    "1234321\r\n",
    "\r\n",
    "123454321\r\n",
    "\r\n",
    "You can't take more than two lines. The first line (a for-statement) is already written for you.\r\n",
    "You have to complete the code using exactly one print statement.\r\n",
    "\r\n",
    "Note:\r\n",
    "Using anything related to strings will give a score of `0`.\r\n",
    "Using more than one for-statement will give a score of `0`."
   ]
  },
  {
   "cell_type": "code",
   "execution_count": 16,
   "metadata": {},
   "outputs": [
    {
     "name": "stdout",
     "output_type": "stream",
     "text": [
      "1\n",
      "121\n",
      "12321\n",
      "1234321\n"
     ]
    }
   ],
   "source": [
    "for i in range(1,int(input())+1):\r\n",
    "    print(((10**i)//(9))**2)"
   ]
  }
 ],
 "metadata": {
  "interpreter": {
   "hash": "25bf1dab56f13e21d80318cd5e789e076f92a14fa9924f370a2a818164c863f4"
  },
  "kernelspec": {
   "display_name": "Python 3.9.5 64-bit",
   "name": "python3"
  },
  "language_info": {
   "codemirror_mode": {
    "name": "ipython",
    "version": 3
   },
   "file_extension": ".py",
   "mimetype": "text/x-python",
   "name": "python",
   "nbconvert_exporter": "python",
   "pygments_lexer": "ipython3",
   "version": "3.9.5"
  },
  "orig_nbformat": 4
 },
 "nbformat": 4,
 "nbformat_minor": 2
}