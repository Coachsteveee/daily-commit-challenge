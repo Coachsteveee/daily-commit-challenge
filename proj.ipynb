{
 "metadata": {
  "language_info": {
   "codemirror_mode": {
    "name": "ipython",
    "version": 3
   },
   "file_extension": ".py",
   "mimetype": "text/x-python",
   "name": "python",
   "nbconvert_exporter": "python",
   "pygments_lexer": "ipython3",
   "version": "3.8.5"
  },
  "orig_nbformat": 2,
  "kernelspec": {
   "name": "python385jvsc74a57bd0fcacb0d89bdc76782d0ff50e754bad43e70c316d03dffa43b10c8e9d148ca8c0",
   "display_name": "Python 3.8.5 64-bit ('base': conda)"
  },
  "metadata": {
   "interpreter": {
    "hash": "e87d0413bca7eaa104f583652c3ef7628c5ba006737aef04131a6fafee4558c9"
   }
  }
 },
 "nbformat": 4,
 "nbformat_minor": 2,
 "cells": [
  {
   "source": [
    "# 1.\n",
    "import necessary libs"
   ],
   "cell_type": "markdown",
   "metadata": {}
  },
  {
   "cell_type": "code",
   "execution_count": 151,
   "metadata": {},
   "outputs": [],
   "source": [
    "#from pandas_datareader import data, wb\n",
    "\n",
    "import pandas as pd\n",
    "import numpy as np\n",
    "%matplotlib inline\n",
    "\n",
    "import seaborn as sns"
   ]
  },
  {
   "source": [
    "# 2.\n",
    "import dataset and drop bad indexes"
   ],
   "cell_type": "markdown",
   "metadata": {}
  },
  {
   "cell_type": "code",
   "execution_count": 3,
   "metadata": {},
   "outputs": [],
   "source": [
    "disney  = pd.read_csv('disney_movies.csv', index_col=0)"
   ]
  },
  {
   "source": [
    "# 3.\n",
    "preview dataset"
   ],
   "cell_type": "markdown",
   "metadata": {}
  },
  {
   "cell_type": "code",
   "execution_count": 4,
   "metadata": {},
   "outputs": [
    {
     "output_type": "execute_result",
     "data": {
      "text/plain": [
       "                             title       Production company        Country  \\\n",
       "0          Academy Award Review of  Walt Disney Productions  United States   \n",
       "1  Snow White and the Seven Dwarfs  Walt Disney Productions  United States   \n",
       "2                        Pinocchio  Walt Disney Productions  United States   \n",
       "3                         Fantasia  Walt Disney Productions  United States   \n",
       "4             The Reluctant Dragon  Walt Disney Productions  United States   \n",
       "\n",
       "  Language  Running time     Budget    Box office Release date  imdb  \\\n",
       "0  English          41.0        NaN  4.547200e+01    5/19/1937   7.2   \n",
       "1  English          83.0  1490000.0  4.180000e+08   12/21/1937   7.6   \n",
       "2  English          88.0  2600000.0  1.640000e+08     2/7/1940   7.4   \n",
       "3  English         126.0  2280000.0  8.330000e+07   11/13/1940   7.7   \n",
       "4  English          74.0   600000.0  9.600000e+05    6/20/1941   6.9   \n",
       "\n",
       "   metascore rotten_tomatoes  \\\n",
       "0        NaN             NaN   \n",
       "1       95.0             NaN   \n",
       "2       99.0             73%   \n",
       "3       96.0             95%   \n",
       "4        NaN             68%   \n",
       "\n",
       "                                         Directed by  \\\n",
       "0                                                NaN   \n",
       "1  ['David Hand (supervising)', 'William Cottrell...   \n",
       "2  ['Ben Sharpsteen', 'Hamilton Luske', 'Bill Rob...   \n",
       "3  ['Samuel Armstrong', 'James Algar', 'Bill Robe...   \n",
       "4  ['Alfred Werker', '(live action)', 'Hamilton L...   \n",
       "\n",
       "                         Produced by  \\\n",
       "0                                NaN   \n",
       "1                        Walt Disney   \n",
       "2                        Walt Disney   \n",
       "3  ['Walt Disney', 'Ben Sharpsteen']   \n",
       "4                        Walt Disney   \n",
       "\n",
       "                                            Based on  \\\n",
       "0                                                NaN   \n",
       "1         ['Snow White', 'by The', 'Brothers Grimm']   \n",
       "2  ['The Adventures of Pinocchio', 'by', 'Carlo C...   \n",
       "3                                                NaN   \n",
       "4                                                NaN   \n",
       "\n",
       "                                            Starring  \\\n",
       "0                                                NaN   \n",
       "1  ['Adriana Caselotti', 'Lucille La Verne', 'Har...   \n",
       "2  ['Cliff Edwards', 'Dickie Jones', 'Christian R...   \n",
       "3              ['Leopold Stokowski', 'Deems Taylor']   \n",
       "4  ['Robert Benchley', 'Frances Gifford', 'Buddy ...   \n",
       "\n",
       "                                            Music by      Distributed by  \\\n",
       "0                                                NaN                 NaN   \n",
       "1  ['Frank Churchill', 'Paul Smith', 'Leigh Harli...  RKO Radio Pictures   \n",
       "2                 ['Leigh Harline', 'Paul J. Smith']  RKO Radio Pictures   \n",
       "3                                        See program  RKO Radio Pictures   \n",
       "4                 ['Frank Churchill', 'Larry Morey']  RKO Radio Pictures   \n",
       "\n",
       "    Cinematography        Edited by Screenplay by  \n",
       "0              NaN              NaN           NaN  \n",
       "1              NaN              NaN           NaN  \n",
       "2              NaN              NaN           NaN  \n",
       "3  James Wong Howe              NaN           NaN  \n",
       "4     Bert Giennon  Paul Weatherwax           NaN  "
      ],
      "text/html": "<div>\n<style scoped>\n    .dataframe tbody tr th:only-of-type {\n        vertical-align: middle;\n    }\n\n    .dataframe tbody tr th {\n        vertical-align: top;\n    }\n\n    .dataframe thead th {\n        text-align: right;\n    }\n</style>\n<table border=\"1\" class=\"dataframe\">\n  <thead>\n    <tr style=\"text-align: right;\">\n      <th></th>\n      <th>title</th>\n      <th>Production company</th>\n      <th>Country</th>\n      <th>Language</th>\n      <th>Running time</th>\n      <th>Budget</th>\n      <th>Box office</th>\n      <th>Release date</th>\n      <th>imdb</th>\n      <th>metascore</th>\n      <th>rotten_tomatoes</th>\n      <th>Directed by</th>\n      <th>Produced by</th>\n      <th>Based on</th>\n      <th>Starring</th>\n      <th>Music by</th>\n      <th>Distributed by</th>\n      <th>Cinematography</th>\n      <th>Edited by</th>\n      <th>Screenplay by</th>\n    </tr>\n  </thead>\n  <tbody>\n    <tr>\n      <th>0</th>\n      <td>Academy Award Review of</td>\n      <td>Walt Disney Productions</td>\n      <td>United States</td>\n      <td>English</td>\n      <td>41.0</td>\n      <td>NaN</td>\n      <td>4.547200e+01</td>\n      <td>5/19/1937</td>\n      <td>7.2</td>\n      <td>NaN</td>\n      <td>NaN</td>\n      <td>NaN</td>\n      <td>NaN</td>\n      <td>NaN</td>\n      <td>NaN</td>\n      <td>NaN</td>\n      <td>NaN</td>\n      <td>NaN</td>\n      <td>NaN</td>\n      <td>NaN</td>\n    </tr>\n    <tr>\n      <th>1</th>\n      <td>Snow White and the Seven Dwarfs</td>\n      <td>Walt Disney Productions</td>\n      <td>United States</td>\n      <td>English</td>\n      <td>83.0</td>\n      <td>1490000.0</td>\n      <td>4.180000e+08</td>\n      <td>12/21/1937</td>\n      <td>7.6</td>\n      <td>95.0</td>\n      <td>NaN</td>\n      <td>['David Hand (supervising)', 'William Cottrell...</td>\n      <td>Walt Disney</td>\n      <td>['Snow White', 'by The', 'Brothers Grimm']</td>\n      <td>['Adriana Caselotti', 'Lucille La Verne', 'Har...</td>\n      <td>['Frank Churchill', 'Paul Smith', 'Leigh Harli...</td>\n      <td>RKO Radio Pictures</td>\n      <td>NaN</td>\n      <td>NaN</td>\n      <td>NaN</td>\n    </tr>\n    <tr>\n      <th>2</th>\n      <td>Pinocchio</td>\n      <td>Walt Disney Productions</td>\n      <td>United States</td>\n      <td>English</td>\n      <td>88.0</td>\n      <td>2600000.0</td>\n      <td>1.640000e+08</td>\n      <td>2/7/1940</td>\n      <td>7.4</td>\n      <td>99.0</td>\n      <td>73%</td>\n      <td>['Ben Sharpsteen', 'Hamilton Luske', 'Bill Rob...</td>\n      <td>Walt Disney</td>\n      <td>['The Adventures of Pinocchio', 'by', 'Carlo C...</td>\n      <td>['Cliff Edwards', 'Dickie Jones', 'Christian R...</td>\n      <td>['Leigh Harline', 'Paul J. Smith']</td>\n      <td>RKO Radio Pictures</td>\n      <td>NaN</td>\n      <td>NaN</td>\n      <td>NaN</td>\n    </tr>\n    <tr>\n      <th>3</th>\n      <td>Fantasia</td>\n      <td>Walt Disney Productions</td>\n      <td>United States</td>\n      <td>English</td>\n      <td>126.0</td>\n      <td>2280000.0</td>\n      <td>8.330000e+07</td>\n      <td>11/13/1940</td>\n      <td>7.7</td>\n      <td>96.0</td>\n      <td>95%</td>\n      <td>['Samuel Armstrong', 'James Algar', 'Bill Robe...</td>\n      <td>['Walt Disney', 'Ben Sharpsteen']</td>\n      <td>NaN</td>\n      <td>['Leopold Stokowski', 'Deems Taylor']</td>\n      <td>See program</td>\n      <td>RKO Radio Pictures</td>\n      <td>James Wong Howe</td>\n      <td>NaN</td>\n      <td>NaN</td>\n    </tr>\n    <tr>\n      <th>4</th>\n      <td>The Reluctant Dragon</td>\n      <td>Walt Disney Productions</td>\n      <td>United States</td>\n      <td>English</td>\n      <td>74.0</td>\n      <td>600000.0</td>\n      <td>9.600000e+05</td>\n      <td>6/20/1941</td>\n      <td>6.9</td>\n      <td>NaN</td>\n      <td>68%</td>\n      <td>['Alfred Werker', '(live action)', 'Hamilton L...</td>\n      <td>Walt Disney</td>\n      <td>NaN</td>\n      <td>['Robert Benchley', 'Frances Gifford', 'Buddy ...</td>\n      <td>['Frank Churchill', 'Larry Morey']</td>\n      <td>RKO Radio Pictures</td>\n      <td>Bert Giennon</td>\n      <td>Paul Weatherwax</td>\n      <td>NaN</td>\n    </tr>\n  </tbody>\n</table>\n</div>"
     },
     "metadata": {},
     "execution_count": 4
    }
   ],
   "source": [
    "disney.head()"
   ]
  },
  {
   "source": [
    "# 4 \n",
    "find total number of NaN values"
   ],
   "cell_type": "markdown",
   "metadata": {}
  },
  {
   "cell_type": "code",
   "execution_count": 5,
   "metadata": {},
   "outputs": [
    {
     "output_type": "execute_result",
     "data": {
      "text/plain": [
       "1202"
      ]
     },
     "metadata": {},
     "execution_count": 5
    }
   ],
   "source": [
    "missing_val = disney.isnull().sum().sum()\n",
    "\n",
    "missing_val"
   ]
  },
  {
   "source": [
    "# 5. \n",
    "drop NaN values"
   ],
   "cell_type": "markdown",
   "metadata": {}
  },
  {
   "cell_type": "code",
   "execution_count": 6,
   "metadata": {},
   "outputs": [
    {
     "output_type": "execute_result",
     "data": {
      "text/plain": [
       "                          title       Production company        Country  \\\n",
       "0             Song of the South  Walt Disney Productions  United States   \n",
       "1  20,000 Leagues Under the Sea  Walt Disney Productions  United States   \n",
       "2                  Mary Poppins  Walt Disney Productions  United States   \n",
       "3      Bedknobs and Broomsticks  Walt Disney Productions  United States   \n",
       "4                 Freaky Friday  Walt Disney Productions  United States   \n",
       "\n",
       "  Language  Running time     Budget   Box office Release date  imdb  \\\n",
       "0  English          94.0  2125000.0   65000000.0   11/12/1946   7.1   \n",
       "1  English         127.0  5000000.0   28200000.0   12/23/1954   7.2   \n",
       "2  English         139.0        4.4  103100000.0    8/27/1964   7.8   \n",
       "3  English         118.0  6300000.0   17900000.0    10/7/1971   7.1   \n",
       "4  English          95.0  5000000.0   36000000.0   12/20/1976   6.2   \n",
       "\n",
       "   metascore rotten_tomatoes  \\\n",
       "0       54.0             50%   \n",
       "1       83.0             89%   \n",
       "2       88.0            100%   \n",
       "3       59.0             66%   \n",
       "4       70.0             88%   \n",
       "\n",
       "                                         Directed by  Produced by  \\\n",
       "0  ['Live action:', 'Harve Foster', 'Animation:',...  Walt Disney   \n",
       "1                                  Richard Fleischer  Walt Disney   \n",
       "2                                   Robert Stevenson  Walt Disney   \n",
       "3                                   Robert Stevenson   Bill Walsh   \n",
       "4                                        Gary Nelson   Ron Miller   \n",
       "\n",
       "                                            Based on  \\\n",
       "0      ['Uncle Remus', 'by', 'Joel Chandler Harris']   \n",
       "1  ['Twenty Thousand Leagues Under the Sea', 'by'...   \n",
       "2            ['Mary Poppins', 'by', 'P. L. Travers']   \n",
       "3  ['The Magic Bedknob', '&', 'Bonfires and Broom...   \n",
       "4               ['Freaky Friday', 'by Mary Rodgers']   \n",
       "\n",
       "                                            Starring  \\\n",
       "0  ['James Baskett', 'Bobby Driscoll', 'Luana Pat...   \n",
       "1  ['Kirk Douglas', 'James Mason', 'Paul Lukas', ...   \n",
       "2  ['Julie Andrews', 'Dick Van Dyke', 'David Toml...   \n",
       "3  ['Angela Lansbury', 'David Tomlinson', 'John E...   \n",
       "4   ['Jodie Foster', 'Barbara Harris', 'John Astin']   \n",
       "\n",
       "                                            Music by  \\\n",
       "0  ['Edward Plumb', 'Daniele Amfitheatrof', 'Paul...   \n",
       "1  ['Paul Smith', 'Joseph S. Dubin', '(orchestrat...   \n",
       "2        ['Richard M. Sherman', 'Robert B. Sherman']   \n",
       "3                                       Irwin Kostal   \n",
       "4                                      Johnny Mandel   \n",
       "\n",
       "             Distributed by      Cinematography          Edited by  \\\n",
       "0        RKO Radio Pictures        Gregg Toland  William M. Morgan   \n",
       "1  Buena Vista Distribution        Franz Planer      Elmo Williams   \n",
       "2  Buena Vista Distribution       Edward Colman   Cotton Warburton   \n",
       "3  Buena Vista Distribution   Frank V. Phillips   Cotton Warburton   \n",
       "4  Buena Vista Distribution  Charles F. Wheeler   Cotton Warburton   \n",
       "\n",
       "                                       Screenplay by  \n",
       "0  ['Live action:', 'Morton Grant', 'Maurice Rapf...  \n",
       "1                                        Earl Felton  \n",
       "2                      ['Bill Walsh', 'Don DaGradi']  \n",
       "3                      ['Bill Walsh', 'Don DaGradi']  \n",
       "4                                       Mary Rodgers  "
      ],
      "text/html": "<div>\n<style scoped>\n    .dataframe tbody tr th:only-of-type {\n        vertical-align: middle;\n    }\n\n    .dataframe tbody tr th {\n        vertical-align: top;\n    }\n\n    .dataframe thead th {\n        text-align: right;\n    }\n</style>\n<table border=\"1\" class=\"dataframe\">\n  <thead>\n    <tr style=\"text-align: right;\">\n      <th></th>\n      <th>title</th>\n      <th>Production company</th>\n      <th>Country</th>\n      <th>Language</th>\n      <th>Running time</th>\n      <th>Budget</th>\n      <th>Box office</th>\n      <th>Release date</th>\n      <th>imdb</th>\n      <th>metascore</th>\n      <th>rotten_tomatoes</th>\n      <th>Directed by</th>\n      <th>Produced by</th>\n      <th>Based on</th>\n      <th>Starring</th>\n      <th>Music by</th>\n      <th>Distributed by</th>\n      <th>Cinematography</th>\n      <th>Edited by</th>\n      <th>Screenplay by</th>\n    </tr>\n  </thead>\n  <tbody>\n    <tr>\n      <th>0</th>\n      <td>Song of the South</td>\n      <td>Walt Disney Productions</td>\n      <td>United States</td>\n      <td>English</td>\n      <td>94.0</td>\n      <td>2125000.0</td>\n      <td>65000000.0</td>\n      <td>11/12/1946</td>\n      <td>7.1</td>\n      <td>54.0</td>\n      <td>50%</td>\n      <td>['Live action:', 'Harve Foster', 'Animation:',...</td>\n      <td>Walt Disney</td>\n      <td>['Uncle Remus', 'by', 'Joel Chandler Harris']</td>\n      <td>['James Baskett', 'Bobby Driscoll', 'Luana Pat...</td>\n      <td>['Edward Plumb', 'Daniele Amfitheatrof', 'Paul...</td>\n      <td>RKO Radio Pictures</td>\n      <td>Gregg Toland</td>\n      <td>William M. Morgan</td>\n      <td>['Live action:', 'Morton Grant', 'Maurice Rapf...</td>\n    </tr>\n    <tr>\n      <th>1</th>\n      <td>20,000 Leagues Under the Sea</td>\n      <td>Walt Disney Productions</td>\n      <td>United States</td>\n      <td>English</td>\n      <td>127.0</td>\n      <td>5000000.0</td>\n      <td>28200000.0</td>\n      <td>12/23/1954</td>\n      <td>7.2</td>\n      <td>83.0</td>\n      <td>89%</td>\n      <td>Richard Fleischer</td>\n      <td>Walt Disney</td>\n      <td>['Twenty Thousand Leagues Under the Sea', 'by'...</td>\n      <td>['Kirk Douglas', 'James Mason', 'Paul Lukas', ...</td>\n      <td>['Paul Smith', 'Joseph S. Dubin', '(orchestrat...</td>\n      <td>Buena Vista Distribution</td>\n      <td>Franz Planer</td>\n      <td>Elmo Williams</td>\n      <td>Earl Felton</td>\n    </tr>\n    <tr>\n      <th>2</th>\n      <td>Mary Poppins</td>\n      <td>Walt Disney Productions</td>\n      <td>United States</td>\n      <td>English</td>\n      <td>139.0</td>\n      <td>4.4</td>\n      <td>103100000.0</td>\n      <td>8/27/1964</td>\n      <td>7.8</td>\n      <td>88.0</td>\n      <td>100%</td>\n      <td>Robert Stevenson</td>\n      <td>Walt Disney</td>\n      <td>['Mary Poppins', 'by', 'P. L. Travers']</td>\n      <td>['Julie Andrews', 'Dick Van Dyke', 'David Toml...</td>\n      <td>['Richard M. Sherman', 'Robert B. Sherman']</td>\n      <td>Buena Vista Distribution</td>\n      <td>Edward Colman</td>\n      <td>Cotton Warburton</td>\n      <td>['Bill Walsh', 'Don DaGradi']</td>\n    </tr>\n    <tr>\n      <th>3</th>\n      <td>Bedknobs and Broomsticks</td>\n      <td>Walt Disney Productions</td>\n      <td>United States</td>\n      <td>English</td>\n      <td>118.0</td>\n      <td>6300000.0</td>\n      <td>17900000.0</td>\n      <td>10/7/1971</td>\n      <td>7.1</td>\n      <td>59.0</td>\n      <td>66%</td>\n      <td>Robert Stevenson</td>\n      <td>Bill Walsh</td>\n      <td>['The Magic Bedknob', '&amp;', 'Bonfires and Broom...</td>\n      <td>['Angela Lansbury', 'David Tomlinson', 'John E...</td>\n      <td>Irwin Kostal</td>\n      <td>Buena Vista Distribution</td>\n      <td>Frank V. Phillips</td>\n      <td>Cotton Warburton</td>\n      <td>['Bill Walsh', 'Don DaGradi']</td>\n    </tr>\n    <tr>\n      <th>4</th>\n      <td>Freaky Friday</td>\n      <td>Walt Disney Productions</td>\n      <td>United States</td>\n      <td>English</td>\n      <td>95.0</td>\n      <td>5000000.0</td>\n      <td>36000000.0</td>\n      <td>12/20/1976</td>\n      <td>6.2</td>\n      <td>70.0</td>\n      <td>88%</td>\n      <td>Gary Nelson</td>\n      <td>Ron Miller</td>\n      <td>['Freaky Friday', 'by Mary Rodgers']</td>\n      <td>['Jodie Foster', 'Barbara Harris', 'John Astin']</td>\n      <td>Johnny Mandel</td>\n      <td>Buena Vista Distribution</td>\n      <td>Charles F. Wheeler</td>\n      <td>Cotton Warburton</td>\n      <td>Mary Rodgers</td>\n    </tr>\n  </tbody>\n</table>\n</div>"
     },
     "metadata": {},
     "execution_count": 6
    }
   ],
   "source": [
    "disney_ = pd.DataFrame()\n",
    "disney.dropna().reset_index(drop = True)\n",
    "\n",
    "disney_ = disney.dropna().reset_index(drop = True)\n",
    "disney_.head()"
   ]
  },
  {
   "source": [
    "# 5 \n",
    "movies w highest ratings, lowest n avg in that order"
   ],
   "cell_type": "markdown",
   "metadata": {}
  },
  {
   "cell_type": "code",
   "execution_count": 230,
   "metadata": {},
   "outputs": [
    {
     "output_type": "execute_result",
     "data": {
      "text/plain": [
       "53"
      ]
     },
     "metadata": {},
     "execution_count": 230
    }
   ],
   "source": [
    "#this converts rotten_tomatoes string ratings to float\n",
    "\n",
    "x = []\n",
    "\n",
    "for i in disney_['rotten_tomatoes']:\n",
    "    y = list(i)\n",
    "    y.remove('%')\n",
    "    z = ''.join(y)\n",
    "    x.append(float(z))\n",
    "\n",
    "len(x)"
   ]
  },
  {
   "cell_type": "code",
   "execution_count": 92,
   "metadata": {},
   "outputs": [
    {
     "output_type": "execute_result",
     "data": {
      "text/plain": [
       "[71.0, 72.0, 78.0, 71.0, 62.0]"
      ]
     },
     "metadata": {},
     "execution_count": 92
    }
   ],
   "source": [
    "#this converts imdbs ratings to 10x so calculation of min,max rated movies are easier\n",
    "\n",
    "sc = []\n",
    "for x in disney_.imdb:\n",
    "    y = x * 10\n",
    "    sc.append(y)\n",
    "\n",
    "sc[:5]"
   ]
  },
  {
   "cell_type": "code",
   "execution_count": 226,
   "metadata": {},
   "outputs": [
    {
     "output_type": "execute_result",
     "data": {
      "text/plain": [
       "53"
      ]
     },
     "metadata": {},
     "execution_count": 226
    }
   ],
   "source": [
    "disney_['imdb2'] = sc\n",
    "\n",
    "len(disney_.imdb2)"
   ]
  },
  {
   "cell_type": "code",
   "execution_count": 232,
   "metadata": {},
   "outputs": [
    {
     "output_type": "execute_result",
     "data": {
      "text/plain": [
       "53"
      ]
     },
     "metadata": {},
     "execution_count": 232
    }
   ],
   "source": [
    "disney_['all_ratings'] = (disney_.metascore + disney_.rotten_tomatoes2 + disney_.imdb2)/3\n",
    "\n",
    "len(disney_.all_ratings)\n"
   ]
  },
  {
   "cell_type": "code",
   "execution_count": 142,
   "metadata": {},
   "outputs": [
    {
     "output_type": "execute_result",
     "data": {
      "text/plain": [
       "                          title       Production company        Country  \\\n",
       "0             Song of the South  Walt Disney Productions  United States   \n",
       "1  20,000 Leagues Under the Sea  Walt Disney Productions  United States   \n",
       "2                  Mary Poppins  Walt Disney Productions  United States   \n",
       "3      Bedknobs and Broomsticks  Walt Disney Productions  United States   \n",
       "4                 Freaky Friday  Walt Disney Productions  United States   \n",
       "\n",
       "  Language  Running time     Budget   Box office Release date  imdb  \\\n",
       "0  English          94.0  2125000.0   65000000.0   11/12/1946   7.1   \n",
       "1  English         127.0  5000000.0   28200000.0   12/23/1954   7.2   \n",
       "2  English         139.0        4.4  103100000.0    8/27/1964   7.8   \n",
       "3  English         118.0  6300000.0   17900000.0    10/7/1971   7.1   \n",
       "4  English          95.0  5000000.0   36000000.0   12/20/1976   6.2   \n",
       "\n",
       "   metascore  ...                                           Based on  \\\n",
       "0       54.0  ...      ['Uncle Remus', 'by', 'Joel Chandler Harris']   \n",
       "1       83.0  ...  ['Twenty Thousand Leagues Under the Sea', 'by'...   \n",
       "2       88.0  ...            ['Mary Poppins', 'by', 'P. L. Travers']   \n",
       "3       59.0  ...  ['The Magic Bedknob', '&', 'Bonfires and Broom...   \n",
       "4       70.0  ...               ['Freaky Friday', 'by Mary Rodgers']   \n",
       "\n",
       "                                            Starring  \\\n",
       "0  ['James Baskett', 'Bobby Driscoll', 'Luana Pat...   \n",
       "1  ['Kirk Douglas', 'James Mason', 'Paul Lukas', ...   \n",
       "2  ['Julie Andrews', 'Dick Van Dyke', 'David Toml...   \n",
       "3  ['Angela Lansbury', 'David Tomlinson', 'John E...   \n",
       "4   ['Jodie Foster', 'Barbara Harris', 'John Astin']   \n",
       "\n",
       "                                            Music by  \\\n",
       "0  ['Edward Plumb', 'Daniele Amfitheatrof', 'Paul...   \n",
       "1  ['Paul Smith', 'Joseph S. Dubin', '(orchestrat...   \n",
       "2        ['Richard M. Sherman', 'Robert B. Sherman']   \n",
       "3                                       Irwin Kostal   \n",
       "4                                      Johnny Mandel   \n",
       "\n",
       "             Distributed by      Cinematography          Edited by  \\\n",
       "0        RKO Radio Pictures        Gregg Toland  William M. Morgan   \n",
       "1  Buena Vista Distribution        Franz Planer      Elmo Williams   \n",
       "2  Buena Vista Distribution       Edward Colman   Cotton Warburton   \n",
       "3  Buena Vista Distribution   Frank V. Phillips   Cotton Warburton   \n",
       "4  Buena Vista Distribution  Charles F. Wheeler   Cotton Warburton   \n",
       "\n",
       "                                       Screenplay by rotten_tomatoes2 imdb2  \\\n",
       "0  ['Live action:', 'Morton Grant', 'Maurice Rapf...             50.0  71.0   \n",
       "1                                        Earl Felton             89.0  72.0   \n",
       "2                      ['Bill Walsh', 'Don DaGradi']            100.0  78.0   \n",
       "3                      ['Bill Walsh', 'Don DaGradi']             66.0  71.0   \n",
       "4                                       Mary Rodgers             88.0  62.0   \n",
       "\n",
       "  all_ratings  \n",
       "0   58.333333  \n",
       "1   81.333333  \n",
       "2   88.666667  \n",
       "3   65.333333  \n",
       "4   73.333333  \n",
       "\n",
       "[5 rows x 23 columns]"
      ],
      "text/html": "<div>\n<style scoped>\n    .dataframe tbody tr th:only-of-type {\n        vertical-align: middle;\n    }\n\n    .dataframe tbody tr th {\n        vertical-align: top;\n    }\n\n    .dataframe thead th {\n        text-align: right;\n    }\n</style>\n<table border=\"1\" class=\"dataframe\">\n  <thead>\n    <tr style=\"text-align: right;\">\n      <th></th>\n      <th>title</th>\n      <th>Production company</th>\n      <th>Country</th>\n      <th>Language</th>\n      <th>Running time</th>\n      <th>Budget</th>\n      <th>Box office</th>\n      <th>Release date</th>\n      <th>imdb</th>\n      <th>metascore</th>\n      <th>...</th>\n      <th>Based on</th>\n      <th>Starring</th>\n      <th>Music by</th>\n      <th>Distributed by</th>\n      <th>Cinematography</th>\n      <th>Edited by</th>\n      <th>Screenplay by</th>\n      <th>rotten_tomatoes2</th>\n      <th>imdb2</th>\n      <th>all_ratings</th>\n    </tr>\n  </thead>\n  <tbody>\n    <tr>\n      <th>0</th>\n      <td>Song of the South</td>\n      <td>Walt Disney Productions</td>\n      <td>United States</td>\n      <td>English</td>\n      <td>94.0</td>\n      <td>2125000.0</td>\n      <td>65000000.0</td>\n      <td>11/12/1946</td>\n      <td>7.1</td>\n      <td>54.0</td>\n      <td>...</td>\n      <td>['Uncle Remus', 'by', 'Joel Chandler Harris']</td>\n      <td>['James Baskett', 'Bobby Driscoll', 'Luana Pat...</td>\n      <td>['Edward Plumb', 'Daniele Amfitheatrof', 'Paul...</td>\n      <td>RKO Radio Pictures</td>\n      <td>Gregg Toland</td>\n      <td>William M. Morgan</td>\n      <td>['Live action:', 'Morton Grant', 'Maurice Rapf...</td>\n      <td>50.0</td>\n      <td>71.0</td>\n      <td>58.333333</td>\n    </tr>\n    <tr>\n      <th>1</th>\n      <td>20,000 Leagues Under the Sea</td>\n      <td>Walt Disney Productions</td>\n      <td>United States</td>\n      <td>English</td>\n      <td>127.0</td>\n      <td>5000000.0</td>\n      <td>28200000.0</td>\n      <td>12/23/1954</td>\n      <td>7.2</td>\n      <td>83.0</td>\n      <td>...</td>\n      <td>['Twenty Thousand Leagues Under the Sea', 'by'...</td>\n      <td>['Kirk Douglas', 'James Mason', 'Paul Lukas', ...</td>\n      <td>['Paul Smith', 'Joseph S. Dubin', '(orchestrat...</td>\n      <td>Buena Vista Distribution</td>\n      <td>Franz Planer</td>\n      <td>Elmo Williams</td>\n      <td>Earl Felton</td>\n      <td>89.0</td>\n      <td>72.0</td>\n      <td>81.333333</td>\n    </tr>\n    <tr>\n      <th>2</th>\n      <td>Mary Poppins</td>\n      <td>Walt Disney Productions</td>\n      <td>United States</td>\n      <td>English</td>\n      <td>139.0</td>\n      <td>4.4</td>\n      <td>103100000.0</td>\n      <td>8/27/1964</td>\n      <td>7.8</td>\n      <td>88.0</td>\n      <td>...</td>\n      <td>['Mary Poppins', 'by', 'P. L. Travers']</td>\n      <td>['Julie Andrews', 'Dick Van Dyke', 'David Toml...</td>\n      <td>['Richard M. Sherman', 'Robert B. Sherman']</td>\n      <td>Buena Vista Distribution</td>\n      <td>Edward Colman</td>\n      <td>Cotton Warburton</td>\n      <td>['Bill Walsh', 'Don DaGradi']</td>\n      <td>100.0</td>\n      <td>78.0</td>\n      <td>88.666667</td>\n    </tr>\n    <tr>\n      <th>3</th>\n      <td>Bedknobs and Broomsticks</td>\n      <td>Walt Disney Productions</td>\n      <td>United States</td>\n      <td>English</td>\n      <td>118.0</td>\n      <td>6300000.0</td>\n      <td>17900000.0</td>\n      <td>10/7/1971</td>\n      <td>7.1</td>\n      <td>59.0</td>\n      <td>...</td>\n      <td>['The Magic Bedknob', '&amp;', 'Bonfires and Broom...</td>\n      <td>['Angela Lansbury', 'David Tomlinson', 'John E...</td>\n      <td>Irwin Kostal</td>\n      <td>Buena Vista Distribution</td>\n      <td>Frank V. Phillips</td>\n      <td>Cotton Warburton</td>\n      <td>['Bill Walsh', 'Don DaGradi']</td>\n      <td>66.0</td>\n      <td>71.0</td>\n      <td>65.333333</td>\n    </tr>\n    <tr>\n      <th>4</th>\n      <td>Freaky Friday</td>\n      <td>Walt Disney Productions</td>\n      <td>United States</td>\n      <td>English</td>\n      <td>95.0</td>\n      <td>5000000.0</td>\n      <td>36000000.0</td>\n      <td>12/20/1976</td>\n      <td>6.2</td>\n      <td>70.0</td>\n      <td>...</td>\n      <td>['Freaky Friday', 'by Mary Rodgers']</td>\n      <td>['Jodie Foster', 'Barbara Harris', 'John Astin']</td>\n      <td>Johnny Mandel</td>\n      <td>Buena Vista Distribution</td>\n      <td>Charles F. Wheeler</td>\n      <td>Cotton Warburton</td>\n      <td>Mary Rodgers</td>\n      <td>88.0</td>\n      <td>62.0</td>\n      <td>73.333333</td>\n    </tr>\n  </tbody>\n</table>\n<p>5 rows × 23 columns</p>\n</div>"
     },
     "metadata": {},
     "execution_count": 142
    }
   ],
   "source": [
    "disney_.head()"
   ]
  },
  {
   "cell_type": "code",
   "execution_count": 236,
   "metadata": {},
   "outputs": [
    {
     "output_type": "execute_result",
     "data": {
      "text/plain": [
       "52"
      ]
     },
     "metadata": {},
     "execution_count": 236
    }
   ],
   "source": [
    "gen = disney_.groupby(by=['title'])[['metascore','rotten_tomatoes2','imdb2']].min()\n",
    "len(gen)"
   ]
  },
  {
   "cell_type": "code",
   "execution_count": 234,
   "metadata": {},
   "outputs": [
    {
     "output_type": "execute_result",
     "data": {
      "text/plain": [
       "                                all_ratings\n",
       "title                                      \n",
       "Beauty and the Beast              89.666667\n",
       "Mary Poppins                      88.666667\n",
       "The Lion King                     88.666667\n",
       "Dumbo                             88.666667\n",
       "The Nightmare Before Christmas    85.666667"
      ],
      "text/html": "<div>\n<style scoped>\n    .dataframe tbody tr th:only-of-type {\n        vertical-align: middle;\n    }\n\n    .dataframe tbody tr th {\n        vertical-align: top;\n    }\n\n    .dataframe thead th {\n        text-align: right;\n    }\n</style>\n<table border=\"1\" class=\"dataframe\">\n  <thead>\n    <tr style=\"text-align: right;\">\n      <th></th>\n      <th>all_ratings</th>\n    </tr>\n    <tr>\n      <th>title</th>\n      <th></th>\n    </tr>\n  </thead>\n  <tbody>\n    <tr>\n      <th>Beauty and the Beast</th>\n      <td>89.666667</td>\n    </tr>\n    <tr>\n      <th>Mary Poppins</th>\n      <td>88.666667</td>\n    </tr>\n    <tr>\n      <th>The Lion King</th>\n      <td>88.666667</td>\n    </tr>\n    <tr>\n      <th>Dumbo</th>\n      <td>88.666667</td>\n    </tr>\n    <tr>\n      <th>The Nightmare Before Christmas</th>\n      <td>85.666667</td>\n    </tr>\n  </tbody>\n</table>\n</div>"
     },
     "metadata": {},
     "execution_count": 234
    }
   ],
   "source": [
    "highestrated = disney_.groupby(by=['title'])[['all_ratings']].max().sort_values(by='all_ratings', ascending=False)\n",
    "\n",
    "top_5 = highestrated.iloc[:5]\n",
    "\n",
    "top_5"
   ]
  },
  {
   "cell_type": "code",
   "execution_count": 179,
   "metadata": {},
   "outputs": [
    {
     "output_type": "execute_result",
     "data": {
      "text/plain": [
       "                                                  all_ratings\n",
       "title                                                        \n",
       "Confessions of a Teenage Drama Queen                31.333333\n",
       "Flubber                                             38.000000\n",
       "The Three Musketeers                                39.333333\n",
       "The Lone Ranger                                     43.666667\n",
       "Pirates of the Caribbean: Dead Men Tell No Tales    44.333333"
      ],
      "text/html": "<div>\n<style scoped>\n    .dataframe tbody tr th:only-of-type {\n        vertical-align: middle;\n    }\n\n    .dataframe tbody tr th {\n        vertical-align: top;\n    }\n\n    .dataframe thead th {\n        text-align: right;\n    }\n</style>\n<table border=\"1\" class=\"dataframe\">\n  <thead>\n    <tr style=\"text-align: right;\">\n      <th></th>\n      <th>all_ratings</th>\n    </tr>\n    <tr>\n      <th>title</th>\n      <th></th>\n    </tr>\n  </thead>\n  <tbody>\n    <tr>\n      <th>Confessions of a Teenage Drama Queen</th>\n      <td>31.333333</td>\n    </tr>\n    <tr>\n      <th>Flubber</th>\n      <td>38.000000</td>\n    </tr>\n    <tr>\n      <th>The Three Musketeers</th>\n      <td>39.333333</td>\n    </tr>\n    <tr>\n      <th>The Lone Ranger</th>\n      <td>43.666667</td>\n    </tr>\n    <tr>\n      <th>Pirates of the Caribbean: Dead Men Tell No Tales</th>\n      <td>44.333333</td>\n    </tr>\n  </tbody>\n</table>\n</div>"
     },
     "metadata": {},
     "execution_count": 179
    }
   ],
   "source": [
    "lowestrated = disney_.groupby(by=['title'])[['all_ratings']].min().sort_values(by=['all_ratings'])\n",
    "\n",
    "last_5 = lowestrated.iloc[:5]\n",
    "\n",
    "last_5"
   ]
  },
  {
   "cell_type": "code",
   "execution_count": 268,
   "metadata": {},
   "outputs": [
    {
     "output_type": "execute_result",
     "data": {
      "text/plain": [
       "<AxesSubplot:xlabel='imdb2', ylabel='Density'>"
      ]
     },
     "metadata": {},
     "execution_count": 268
    },
    {
     "output_type": "display_data",
     "data": {
      "text/plain": "<Figure size 432x288 with 1 Axes>",
      "image/svg+xml": "<?xml version=\"1.0\" encoding=\"utf-8\" standalone=\"no\"?>\r\n<!DOCTYPE svg PUBLIC \"-//W3C//DTD SVG 1.1//EN\"\r\n  \"http://www.w3.org/Graphics/SVG/1.1/DTD/svg11.dtd\">\r\n<!-- Created with matplotlib (https://matplotlib.org/) -->\r\n<svg height=\"266.374219pt\" version=\"1.1\" viewBox=\"0 0 395.222031 266.374219\" width=\"395.222031pt\" xmlns=\"http://www.w3.org/2000/svg\" xmlns:xlink=\"http://www.w3.org/1999/xlink\">\r\n <metadata>\r\n  <rdf:RDF xmlns:cc=\"http://creativecommons.org/ns#\" xmlns:dc=\"http://purl.org/dc/elements/1.1/\" xmlns:rdf=\"http://www.w3.org/1999/02/22-rdf-syntax-ns#\">\r\n   <cc:Work>\r\n    <dc:type rdf:resource=\"http://purl.org/dc/dcmitype/StillImage\"/>\r\n    <dc:date>2021-05-17T13:54:19.892037</dc:date>\r\n    <dc:format>image/svg+xml</dc:format>\r\n    <dc:creator>\r\n     <cc:Agent>\r\n      <dc:title>Matplotlib v3.3.4, https://matplotlib.org/</dc:title>\r\n     </cc:Agent>\r\n    </dc:creator>\r\n   </cc:Work>\r\n  </rdf:RDF>\r\n </metadata>\r\n <defs>\r\n  <style type=\"text/css\">*{stroke-linecap:butt;stroke-linejoin:round;}</style>\r\n </defs>\r\n <g id=\"figure_1\">\r\n  <g id=\"patch_1\">\r\n   <path d=\"M 0 266.374219 \r\nL 395.222031 266.374219 \r\nL 395.222031 0 \r\nL 0 0 \r\nz\r\n\" style=\"fill:#ffffff;\"/>\r\n  </g>\r\n  <g id=\"axes_1\">\r\n   <g id=\"patch_2\">\r\n    <path d=\"M 53.222031 224.64 \r\nL 388.022031 224.64 \r\nL 388.022031 7.2 \r\nL 53.222031 7.2 \r\nz\r\n\" style=\"fill:#eaeaf2;\"/>\r\n   </g>\r\n   <g id=\"matplotlib.axis_1\">\r\n    <g id=\"xtick_1\">\r\n     <g id=\"text_1\">\r\n      <!-- −20 -->\r\n      <g style=\"fill:#262626;\" transform=\"translate(54.998646 242.013594)scale(0.11 -0.11)\">\r\n       <defs>\r\n        <path d=\"M 52.828125 31.203125 \r\nL 5.5625 31.203125 \r\nL 5.5625 39.40625 \r\nL 52.828125 39.40625 \r\nz\r\n\" id=\"ArialMT-8722\"/>\r\n        <path d=\"M 50.34375 8.453125 \r\nL 50.34375 0 \r\nL 3.03125 0 \r\nQ 2.9375 3.171875 4.046875 6.109375 \r\nQ 5.859375 10.9375 9.828125 15.625 \r\nQ 13.8125 20.3125 21.34375 26.46875 \r\nQ 33.015625 36.03125 37.109375 41.625 \r\nQ 41.21875 47.21875 41.21875 52.203125 \r\nQ 41.21875 57.421875 37.46875 61 \r\nQ 33.734375 64.59375 27.734375 64.59375 \r\nQ 21.390625 64.59375 17.578125 60.78125 \r\nQ 13.765625 56.984375 13.71875 50.25 \r\nL 4.6875 51.171875 \r\nQ 5.609375 61.28125 11.65625 66.578125 \r\nQ 17.71875 71.875 27.9375 71.875 \r\nQ 38.234375 71.875 44.234375 66.15625 \r\nQ 50.25 60.453125 50.25 52 \r\nQ 50.25 47.703125 48.484375 43.546875 \r\nQ 46.734375 39.40625 42.65625 34.8125 \r\nQ 38.578125 30.21875 29.109375 22.21875 \r\nQ 21.1875 15.578125 18.9375 13.203125 \r\nQ 16.703125 10.84375 15.234375 8.453125 \r\nz\r\n\" id=\"ArialMT-50\"/>\r\n        <path d=\"M 4.15625 35.296875 \r\nQ 4.15625 48 6.765625 55.734375 \r\nQ 9.375 63.484375 14.515625 67.671875 \r\nQ 19.671875 71.875 27.484375 71.875 \r\nQ 33.25 71.875 37.59375 69.546875 \r\nQ 41.9375 67.234375 44.765625 62.859375 \r\nQ 47.609375 58.5 49.21875 52.21875 \r\nQ 50.828125 45.953125 50.828125 35.296875 \r\nQ 50.828125 22.703125 48.234375 14.96875 \r\nQ 45.65625 7.234375 40.5 3 \r\nQ 35.359375 -1.21875 27.484375 -1.21875 \r\nQ 17.140625 -1.21875 11.234375 6.203125 \r\nQ 4.15625 15.140625 4.15625 35.296875 \r\nz\r\nM 13.1875 35.296875 \r\nQ 13.1875 17.671875 17.3125 11.828125 \r\nQ 21.4375 6 27.484375 6 \r\nQ 33.546875 6 37.671875 11.859375 \r\nQ 41.796875 17.71875 41.796875 35.296875 \r\nQ 41.796875 52.984375 37.671875 58.78125 \r\nQ 33.546875 64.59375 27.390625 64.59375 \r\nQ 21.34375 64.59375 17.71875 59.46875 \r\nQ 13.1875 52.9375 13.1875 35.296875 \r\nz\r\n\" id=\"ArialMT-48\"/>\r\n       </defs>\r\n       <use xlink:href=\"#ArialMT-8722\"/>\r\n       <use x=\"58.398438\" xlink:href=\"#ArialMT-50\"/>\r\n       <use x=\"114.013672\" xlink:href=\"#ArialMT-48\"/>\r\n      </g>\r\n     </g>\r\n    </g>\r\n    <g id=\"xtick_2\">\r\n     <g id=\"text_2\">\r\n      <!-- 0 -->\r\n      <g style=\"fill:#262626;\" transform=\"translate(101.865352 242.013594)scale(0.11 -0.11)\">\r\n       <use xlink:href=\"#ArialMT-48\"/>\r\n      </g>\r\n     </g>\r\n    </g>\r\n    <g id=\"xtick_3\">\r\n     <g id=\"text_3\">\r\n      <!-- 20 -->\r\n      <g style=\"fill:#262626;\" transform=\"translate(139.402684 242.013594)scale(0.11 -0.11)\">\r\n       <use xlink:href=\"#ArialMT-50\"/>\r\n       <use x=\"55.615234\" xlink:href=\"#ArialMT-48\"/>\r\n      </g>\r\n     </g>\r\n    </g>\r\n    <g id=\"xtick_4\">\r\n     <g id=\"text_4\">\r\n      <!-- 40 -->\r\n      <g style=\"fill:#262626;\" transform=\"translate(179.99853 242.013594)scale(0.11 -0.11)\">\r\n       <defs>\r\n        <path d=\"M 32.328125 0 \r\nL 32.328125 17.140625 \r\nL 1.265625 17.140625 \r\nL 1.265625 25.203125 \r\nL 33.9375 71.578125 \r\nL 41.109375 71.578125 \r\nL 41.109375 25.203125 \r\nL 50.78125 25.203125 \r\nL 50.78125 17.140625 \r\nL 41.109375 17.140625 \r\nL 41.109375 0 \r\nz\r\nM 32.328125 25.203125 \r\nL 32.328125 57.46875 \r\nL 9.90625 25.203125 \r\nz\r\n\" id=\"ArialMT-52\"/>\r\n       </defs>\r\n       <use xlink:href=\"#ArialMT-52\"/>\r\n       <use x=\"55.615234\" xlink:href=\"#ArialMT-48\"/>\r\n      </g>\r\n     </g>\r\n    </g>\r\n    <g id=\"xtick_5\">\r\n     <g id=\"text_5\">\r\n      <!-- 60 -->\r\n      <g style=\"fill:#262626;\" transform=\"translate(220.594377 242.013594)scale(0.11 -0.11)\">\r\n       <defs>\r\n        <path d=\"M 49.75 54.046875 \r\nL 41.015625 53.375 \r\nQ 39.84375 58.546875 37.703125 60.890625 \r\nQ 34.125 64.65625 28.90625 64.65625 \r\nQ 24.703125 64.65625 21.53125 62.3125 \r\nQ 17.390625 59.28125 14.984375 53.46875 \r\nQ 12.59375 47.65625 12.5 36.921875 \r\nQ 15.671875 41.75 20.265625 44.09375 \r\nQ 24.859375 46.4375 29.890625 46.4375 \r\nQ 38.671875 46.4375 44.84375 39.96875 \r\nQ 51.03125 33.5 51.03125 23.25 \r\nQ 51.03125 16.5 48.125 10.71875 \r\nQ 45.21875 4.9375 40.140625 1.859375 \r\nQ 35.0625 -1.21875 28.609375 -1.21875 \r\nQ 17.625 -1.21875 10.6875 6.859375 \r\nQ 3.765625 14.9375 3.765625 33.5 \r\nQ 3.765625 54.25 11.421875 63.671875 \r\nQ 18.109375 71.875 29.4375 71.875 \r\nQ 37.890625 71.875 43.28125 67.140625 \r\nQ 48.6875 62.40625 49.75 54.046875 \r\nz\r\nM 13.875 23.1875 \r\nQ 13.875 18.65625 15.796875 14.5 \r\nQ 17.71875 10.359375 21.1875 8.171875 \r\nQ 24.65625 6 28.46875 6 \r\nQ 34.03125 6 38.03125 10.484375 \r\nQ 42.046875 14.984375 42.046875 22.703125 \r\nQ 42.046875 30.125 38.078125 34.390625 \r\nQ 34.125 38.671875 28.125 38.671875 \r\nQ 22.171875 38.671875 18.015625 34.390625 \r\nQ 13.875 30.125 13.875 23.1875 \r\nz\r\n\" id=\"ArialMT-54\"/>\r\n       </defs>\r\n       <use xlink:href=\"#ArialMT-54\"/>\r\n       <use x=\"55.615234\" xlink:href=\"#ArialMT-48\"/>\r\n      </g>\r\n     </g>\r\n    </g>\r\n    <g id=\"xtick_6\">\r\n     <g id=\"text_6\">\r\n      <!-- 80 -->\r\n      <g style=\"fill:#262626;\" transform=\"translate(261.190224 242.013594)scale(0.11 -0.11)\">\r\n       <defs>\r\n        <path d=\"M 17.671875 38.8125 \r\nQ 12.203125 40.828125 9.5625 44.53125 \r\nQ 6.9375 48.25 6.9375 53.421875 \r\nQ 6.9375 61.234375 12.546875 66.546875 \r\nQ 18.171875 71.875 27.484375 71.875 \r\nQ 36.859375 71.875 42.578125 66.421875 \r\nQ 48.296875 60.984375 48.296875 53.171875 \r\nQ 48.296875 48.1875 45.671875 44.5 \r\nQ 43.0625 40.828125 37.75 38.8125 \r\nQ 44.34375 36.671875 47.78125 31.875 \r\nQ 51.21875 27.09375 51.21875 20.453125 \r\nQ 51.21875 11.28125 44.71875 5.03125 \r\nQ 38.234375 -1.21875 27.640625 -1.21875 \r\nQ 17.046875 -1.21875 10.546875 5.046875 \r\nQ 4.046875 11.328125 4.046875 20.703125 \r\nQ 4.046875 27.6875 7.59375 32.390625 \r\nQ 11.140625 37.109375 17.671875 38.8125 \r\nz\r\nM 15.921875 53.71875 \r\nQ 15.921875 48.640625 19.1875 45.40625 \r\nQ 22.46875 42.1875 27.6875 42.1875 \r\nQ 32.765625 42.1875 36.015625 45.375 \r\nQ 39.265625 48.578125 39.265625 53.21875 \r\nQ 39.265625 58.0625 35.90625 61.359375 \r\nQ 32.5625 64.65625 27.59375 64.65625 \r\nQ 22.5625 64.65625 19.234375 61.421875 \r\nQ 15.921875 58.203125 15.921875 53.71875 \r\nz\r\nM 13.09375 20.65625 \r\nQ 13.09375 16.890625 14.875 13.375 \r\nQ 16.65625 9.859375 20.171875 7.921875 \r\nQ 23.6875 6 27.734375 6 \r\nQ 34.03125 6 38.125 10.046875 \r\nQ 42.234375 14.109375 42.234375 20.359375 \r\nQ 42.234375 26.703125 38.015625 30.859375 \r\nQ 33.796875 35.015625 27.4375 35.015625 \r\nQ 21.234375 35.015625 17.15625 30.90625 \r\nQ 13.09375 26.8125 13.09375 20.65625 \r\nz\r\n\" id=\"ArialMT-56\"/>\r\n       </defs>\r\n       <use xlink:href=\"#ArialMT-56\"/>\r\n       <use x=\"55.615234\" xlink:href=\"#ArialMT-48\"/>\r\n      </g>\r\n     </g>\r\n    </g>\r\n    <g id=\"xtick_7\">\r\n     <g id=\"text_7\">\r\n      <!-- 100 -->\r\n      <g style=\"fill:#262626;\" transform=\"translate(298.727555 242.013594)scale(0.11 -0.11)\">\r\n       <defs>\r\n        <path d=\"M 37.25 0 \r\nL 28.46875 0 \r\nL 28.46875 56 \r\nQ 25.296875 52.984375 20.140625 49.953125 \r\nQ 14.984375 46.921875 10.890625 45.40625 \r\nL 10.890625 53.90625 \r\nQ 18.265625 57.375 23.78125 62.296875 \r\nQ 29.296875 67.234375 31.59375 71.875 \r\nL 37.25 71.875 \r\nz\r\n\" id=\"ArialMT-49\"/>\r\n       </defs>\r\n       <use xlink:href=\"#ArialMT-49\"/>\r\n       <use x=\"55.615234\" xlink:href=\"#ArialMT-48\"/>\r\n       <use x=\"111.230469\" xlink:href=\"#ArialMT-48\"/>\r\n      </g>\r\n     </g>\r\n    </g>\r\n    <g id=\"xtick_8\">\r\n     <g id=\"text_8\">\r\n      <!-- 120 -->\r\n      <g style=\"fill:#262626;\" transform=\"translate(339.323402 242.013594)scale(0.11 -0.11)\">\r\n       <use xlink:href=\"#ArialMT-49\"/>\r\n       <use x=\"55.615234\" xlink:href=\"#ArialMT-50\"/>\r\n       <use x=\"111.230469\" xlink:href=\"#ArialMT-48\"/>\r\n      </g>\r\n     </g>\r\n    </g>\r\n    <g id=\"text_9\">\r\n     <!-- imdb2 -->\r\n     <g style=\"fill:#262626;\" transform=\"translate(204.281406 256.789219)scale(0.12 -0.12)\">\r\n      <defs>\r\n       <path d=\"M 6.640625 61.46875 \r\nL 6.640625 71.578125 \r\nL 15.4375 71.578125 \r\nL 15.4375 61.46875 \r\nz\r\nM 6.640625 0 \r\nL 6.640625 51.859375 \r\nL 15.4375 51.859375 \r\nL 15.4375 0 \r\nz\r\n\" id=\"ArialMT-105\"/>\r\n       <path d=\"M 6.59375 0 \r\nL 6.59375 51.859375 \r\nL 14.453125 51.859375 \r\nL 14.453125 44.578125 \r\nQ 16.890625 48.390625 20.9375 50.703125 \r\nQ 25 53.03125 30.171875 53.03125 \r\nQ 35.9375 53.03125 39.625 50.640625 \r\nQ 43.3125 48.25 44.828125 43.953125 \r\nQ 50.984375 53.03125 60.84375 53.03125 \r\nQ 68.5625 53.03125 72.703125 48.75 \r\nQ 76.859375 44.484375 76.859375 35.59375 \r\nL 76.859375 0 \r\nL 68.109375 0 \r\nL 68.109375 32.671875 \r\nQ 68.109375 37.9375 67.25 40.25 \r\nQ 66.40625 42.578125 64.15625 43.984375 \r\nQ 61.921875 45.40625 58.890625 45.40625 \r\nQ 53.421875 45.40625 49.796875 41.765625 \r\nQ 46.1875 38.140625 46.1875 30.125 \r\nL 46.1875 0 \r\nL 37.40625 0 \r\nL 37.40625 33.6875 \r\nQ 37.40625 39.546875 35.25 42.46875 \r\nQ 33.109375 45.40625 28.21875 45.40625 \r\nQ 24.515625 45.40625 21.359375 43.453125 \r\nQ 18.21875 41.5 16.796875 37.734375 \r\nQ 15.375 33.984375 15.375 26.90625 \r\nL 15.375 0 \r\nz\r\n\" id=\"ArialMT-109\"/>\r\n       <path d=\"M 40.234375 0 \r\nL 40.234375 6.546875 \r\nQ 35.296875 -1.171875 25.734375 -1.171875 \r\nQ 19.53125 -1.171875 14.328125 2.25 \r\nQ 9.125 5.671875 6.265625 11.796875 \r\nQ 3.421875 17.921875 3.421875 25.875 \r\nQ 3.421875 33.640625 6 39.96875 \r\nQ 8.59375 46.296875 13.765625 49.65625 \r\nQ 18.953125 53.03125 25.34375 53.03125 \r\nQ 30.03125 53.03125 33.6875 51.046875 \r\nQ 37.359375 49.078125 39.65625 45.90625 \r\nL 39.65625 71.578125 \r\nL 48.390625 71.578125 \r\nL 48.390625 0 \r\nz\r\nM 12.453125 25.875 \r\nQ 12.453125 15.921875 16.640625 10.984375 \r\nQ 20.84375 6.0625 26.5625 6.0625 \r\nQ 32.328125 6.0625 36.34375 10.765625 \r\nQ 40.375 15.484375 40.375 25.140625 \r\nQ 40.375 35.796875 36.265625 40.765625 \r\nQ 32.171875 45.75 26.171875 45.75 \r\nQ 20.3125 45.75 16.375 40.96875 \r\nQ 12.453125 36.1875 12.453125 25.875 \r\nz\r\n\" id=\"ArialMT-100\"/>\r\n       <path d=\"M 14.703125 0 \r\nL 6.546875 0 \r\nL 6.546875 71.578125 \r\nL 15.328125 71.578125 \r\nL 15.328125 46.046875 \r\nQ 20.90625 53.03125 29.546875 53.03125 \r\nQ 34.328125 53.03125 38.59375 51.09375 \r\nQ 42.875 49.171875 45.625 45.671875 \r\nQ 48.390625 42.1875 49.953125 37.25 \r\nQ 51.515625 32.328125 51.515625 26.703125 \r\nQ 51.515625 13.375 44.921875 6.09375 \r\nQ 38.328125 -1.171875 29.109375 -1.171875 \r\nQ 19.921875 -1.171875 14.703125 6.5 \r\nz\r\nM 14.59375 26.3125 \r\nQ 14.59375 17 17.140625 12.84375 \r\nQ 21.296875 6.0625 28.375 6.0625 \r\nQ 34.125 6.0625 38.328125 11.0625 \r\nQ 42.53125 16.0625 42.53125 25.984375 \r\nQ 42.53125 36.140625 38.5 40.96875 \r\nQ 34.46875 45.796875 28.765625 45.796875 \r\nQ 23 45.796875 18.796875 40.796875 \r\nQ 14.59375 35.796875 14.59375 26.3125 \r\nz\r\n\" id=\"ArialMT-98\"/>\r\n      </defs>\r\n      <use xlink:href=\"#ArialMT-105\"/>\r\n      <use x=\"22.216797\" xlink:href=\"#ArialMT-109\"/>\r\n      <use x=\"105.517578\" xlink:href=\"#ArialMT-100\"/>\r\n      <use x=\"161.132812\" xlink:href=\"#ArialMT-98\"/>\r\n      <use x=\"216.748047\" xlink:href=\"#ArialMT-50\"/>\r\n     </g>\r\n    </g>\r\n   </g>\r\n   <g id=\"matplotlib.axis_2\">\r\n    <g id=\"ytick_1\">\r\n     <g id=\"text_10\">\r\n      <!-- 0.00 -->\r\n      <g style=\"fill:#262626;\" transform=\"translate(22.315 228.576797)scale(0.11 -0.11)\">\r\n       <defs>\r\n        <path d=\"M 9.078125 0 \r\nL 9.078125 10.015625 \r\nL 19.09375 10.015625 \r\nL 19.09375 0 \r\nz\r\n\" id=\"ArialMT-46\"/>\r\n       </defs>\r\n       <use xlink:href=\"#ArialMT-48\"/>\r\n       <use x=\"55.615234\" xlink:href=\"#ArialMT-46\"/>\r\n       <use x=\"83.398438\" xlink:href=\"#ArialMT-48\"/>\r\n       <use x=\"139.013672\" xlink:href=\"#ArialMT-48\"/>\r\n      </g>\r\n     </g>\r\n    </g>\r\n    <g id=\"ytick_2\">\r\n     <g id=\"text_11\">\r\n      <!-- 0.01 -->\r\n      <g style=\"fill:#262626;\" transform=\"translate(22.315 183.970566)scale(0.11 -0.11)\">\r\n       <use xlink:href=\"#ArialMT-48\"/>\r\n       <use x=\"55.615234\" xlink:href=\"#ArialMT-46\"/>\r\n       <use x=\"83.398438\" xlink:href=\"#ArialMT-48\"/>\r\n       <use x=\"139.013672\" xlink:href=\"#ArialMT-49\"/>\r\n      </g>\r\n     </g>\r\n    </g>\r\n    <g id=\"ytick_3\">\r\n     <g id=\"text_12\">\r\n      <!-- 0.02 -->\r\n      <g style=\"fill:#262626;\" transform=\"translate(22.315 139.364336)scale(0.11 -0.11)\">\r\n       <use xlink:href=\"#ArialMT-48\"/>\r\n       <use x=\"55.615234\" xlink:href=\"#ArialMT-46\"/>\r\n       <use x=\"83.398438\" xlink:href=\"#ArialMT-48\"/>\r\n       <use x=\"139.013672\" xlink:href=\"#ArialMT-50\"/>\r\n      </g>\r\n     </g>\r\n    </g>\r\n    <g id=\"ytick_4\">\r\n     <g id=\"text_13\">\r\n      <!-- 0.03 -->\r\n      <g style=\"fill:#262626;\" transform=\"translate(22.315 94.758106)scale(0.11 -0.11)\">\r\n       <defs>\r\n        <path d=\"M 4.203125 18.890625 \r\nL 12.984375 20.0625 \r\nQ 14.5 12.59375 18.140625 9.296875 \r\nQ 21.78125 6 27 6 \r\nQ 33.203125 6 37.46875 10.296875 \r\nQ 41.75 14.59375 41.75 20.953125 \r\nQ 41.75 27 37.796875 30.921875 \r\nQ 33.84375 34.859375 27.734375 34.859375 \r\nQ 25.25 34.859375 21.53125 33.890625 \r\nL 22.515625 41.609375 \r\nQ 23.390625 41.5 23.921875 41.5 \r\nQ 29.546875 41.5 34.03125 44.421875 \r\nQ 38.53125 47.359375 38.53125 53.46875 \r\nQ 38.53125 58.296875 35.25 61.46875 \r\nQ 31.984375 64.65625 26.8125 64.65625 \r\nQ 21.6875 64.65625 18.265625 61.421875 \r\nQ 14.84375 58.203125 13.875 51.765625 \r\nL 5.078125 53.328125 \r\nQ 6.6875 62.15625 12.390625 67.015625 \r\nQ 18.109375 71.875 26.609375 71.875 \r\nQ 32.46875 71.875 37.390625 69.359375 \r\nQ 42.328125 66.84375 44.9375 62.5 \r\nQ 47.5625 58.15625 47.5625 53.265625 \r\nQ 47.5625 48.640625 45.0625 44.828125 \r\nQ 42.578125 41.015625 37.703125 38.765625 \r\nQ 44.046875 37.3125 47.5625 32.6875 \r\nQ 51.078125 28.078125 51.078125 21.140625 \r\nQ 51.078125 11.765625 44.234375 5.25 \r\nQ 37.40625 -1.265625 26.953125 -1.265625 \r\nQ 17.53125 -1.265625 11.296875 4.34375 \r\nQ 5.078125 9.96875 4.203125 18.890625 \r\nz\r\n\" id=\"ArialMT-51\"/>\r\n       </defs>\r\n       <use xlink:href=\"#ArialMT-48\"/>\r\n       <use x=\"55.615234\" xlink:href=\"#ArialMT-46\"/>\r\n       <use x=\"83.398438\" xlink:href=\"#ArialMT-48\"/>\r\n       <use x=\"139.013672\" xlink:href=\"#ArialMT-51\"/>\r\n      </g>\r\n     </g>\r\n    </g>\r\n    <g id=\"ytick_5\">\r\n     <g id=\"text_14\">\r\n      <!-- 0.04 -->\r\n      <g style=\"fill:#262626;\" transform=\"translate(22.315 50.151875)scale(0.11 -0.11)\">\r\n       <use xlink:href=\"#ArialMT-48\"/>\r\n       <use x=\"55.615234\" xlink:href=\"#ArialMT-46\"/>\r\n       <use x=\"83.398438\" xlink:href=\"#ArialMT-48\"/>\r\n       <use x=\"139.013672\" xlink:href=\"#ArialMT-52\"/>\r\n      </g>\r\n     </g>\r\n    </g>\r\n    <g id=\"text_15\">\r\n     <!-- Density -->\r\n     <g style=\"fill:#262626;\" transform=\"translate(15.789375 135.92625)rotate(-90)scale(0.12 -0.12)\">\r\n      <defs>\r\n       <path d=\"M 7.71875 0 \r\nL 7.71875 71.578125 \r\nL 32.375 71.578125 \r\nQ 40.71875 71.578125 45.125 70.5625 \r\nQ 51.265625 69.140625 55.609375 65.4375 \r\nQ 61.28125 60.640625 64.078125 53.1875 \r\nQ 66.890625 45.75 66.890625 36.1875 \r\nQ 66.890625 28.03125 64.984375 21.734375 \r\nQ 63.09375 15.4375 60.109375 11.296875 \r\nQ 57.125 7.171875 53.578125 4.796875 \r\nQ 50.046875 2.4375 45.046875 1.21875 \r\nQ 40.046875 0 33.546875 0 \r\nz\r\nM 17.1875 8.453125 \r\nL 32.46875 8.453125 \r\nQ 39.546875 8.453125 43.578125 9.765625 \r\nQ 47.609375 11.078125 50 13.484375 \r\nQ 53.375 16.84375 55.25 22.53125 \r\nQ 57.125 28.21875 57.125 36.328125 \r\nQ 57.125 47.5625 53.4375 53.59375 \r\nQ 49.75 59.625 44.484375 61.671875 \r\nQ 40.671875 63.140625 32.234375 63.140625 \r\nL 17.1875 63.140625 \r\nz\r\n\" id=\"ArialMT-68\"/>\r\n       <path d=\"M 42.09375 16.703125 \r\nL 51.171875 15.578125 \r\nQ 49.03125 7.625 43.21875 3.21875 \r\nQ 37.40625 -1.171875 28.375 -1.171875 \r\nQ 17 -1.171875 10.328125 5.828125 \r\nQ 3.65625 12.84375 3.65625 25.484375 \r\nQ 3.65625 38.578125 10.390625 45.796875 \r\nQ 17.140625 53.03125 27.875 53.03125 \r\nQ 38.28125 53.03125 44.875 45.953125 \r\nQ 51.46875 38.875 51.46875 26.03125 \r\nQ 51.46875 25.25 51.421875 23.6875 \r\nL 12.75 23.6875 \r\nQ 13.234375 15.140625 17.578125 10.59375 \r\nQ 21.921875 6.0625 28.421875 6.0625 \r\nQ 33.25 6.0625 36.671875 8.59375 \r\nQ 40.09375 11.140625 42.09375 16.703125 \r\nz\r\nM 13.234375 30.90625 \r\nL 42.1875 30.90625 \r\nQ 41.609375 37.453125 38.875 40.71875 \r\nQ 34.671875 45.796875 27.984375 45.796875 \r\nQ 21.921875 45.796875 17.796875 41.75 \r\nQ 13.671875 37.703125 13.234375 30.90625 \r\nz\r\n\" id=\"ArialMT-101\"/>\r\n       <path d=\"M 6.59375 0 \r\nL 6.59375 51.859375 \r\nL 14.5 51.859375 \r\nL 14.5 44.484375 \r\nQ 20.21875 53.03125 31 53.03125 \r\nQ 35.6875 53.03125 39.625 51.34375 \r\nQ 43.5625 49.65625 45.515625 46.921875 \r\nQ 47.46875 44.1875 48.25 40.4375 \r\nQ 48.734375 37.984375 48.734375 31.890625 \r\nL 48.734375 0 \r\nL 39.9375 0 \r\nL 39.9375 31.546875 \r\nQ 39.9375 36.921875 38.90625 39.578125 \r\nQ 37.890625 42.234375 35.28125 43.8125 \r\nQ 32.671875 45.40625 29.15625 45.40625 \r\nQ 23.53125 45.40625 19.453125 41.84375 \r\nQ 15.375 38.28125 15.375 28.328125 \r\nL 15.375 0 \r\nz\r\n\" id=\"ArialMT-110\"/>\r\n       <path d=\"M 3.078125 15.484375 \r\nL 11.765625 16.84375 \r\nQ 12.5 11.625 15.84375 8.84375 \r\nQ 19.1875 6.0625 25.203125 6.0625 \r\nQ 31.25 6.0625 34.171875 8.515625 \r\nQ 37.109375 10.984375 37.109375 14.3125 \r\nQ 37.109375 17.28125 34.515625 19 \r\nQ 32.71875 20.171875 25.53125 21.96875 \r\nQ 15.875 24.421875 12.140625 26.203125 \r\nQ 8.40625 27.984375 6.46875 31.125 \r\nQ 4.546875 34.28125 4.546875 38.09375 \r\nQ 4.546875 41.546875 6.125 44.5 \r\nQ 7.71875 47.46875 10.453125 49.421875 \r\nQ 12.5 50.921875 16.03125 51.96875 \r\nQ 19.578125 53.03125 23.640625 53.03125 \r\nQ 29.734375 53.03125 34.34375 51.265625 \r\nQ 38.96875 49.515625 41.15625 46.5 \r\nQ 43.359375 43.5 44.1875 38.484375 \r\nL 35.59375 37.3125 \r\nQ 35.015625 41.3125 32.203125 43.546875 \r\nQ 29.390625 45.796875 24.265625 45.796875 \r\nQ 18.21875 45.796875 15.625 43.796875 \r\nQ 13.03125 41.796875 13.03125 39.109375 \r\nQ 13.03125 37.40625 14.109375 36.03125 \r\nQ 15.1875 34.625 17.484375 33.6875 \r\nQ 18.796875 33.203125 25.25 31.453125 \r\nQ 34.578125 28.953125 38.25 27.359375 \r\nQ 41.9375 25.78125 44.03125 22.75 \r\nQ 46.140625 19.734375 46.140625 15.234375 \r\nQ 46.140625 10.84375 43.578125 6.953125 \r\nQ 41.015625 3.078125 36.171875 0.953125 \r\nQ 31.34375 -1.171875 25.25 -1.171875 \r\nQ 15.140625 -1.171875 9.84375 3.03125 \r\nQ 4.546875 7.234375 3.078125 15.484375 \r\nz\r\n\" id=\"ArialMT-115\"/>\r\n       <path d=\"M 25.78125 7.859375 \r\nL 27.046875 0.09375 \r\nQ 23.34375 -0.6875 20.40625 -0.6875 \r\nQ 15.625 -0.6875 12.984375 0.828125 \r\nQ 10.359375 2.34375 9.28125 4.8125 \r\nQ 8.203125 7.28125 8.203125 15.1875 \r\nL 8.203125 45.015625 \r\nL 1.765625 45.015625 \r\nL 1.765625 51.859375 \r\nL 8.203125 51.859375 \r\nL 8.203125 64.703125 \r\nL 16.9375 69.96875 \r\nL 16.9375 51.859375 \r\nL 25.78125 51.859375 \r\nL 25.78125 45.015625 \r\nL 16.9375 45.015625 \r\nL 16.9375 14.703125 \r\nQ 16.9375 10.9375 17.40625 9.859375 \r\nQ 17.875 8.796875 18.921875 8.15625 \r\nQ 19.96875 7.515625 21.921875 7.515625 \r\nQ 23.390625 7.515625 25.78125 7.859375 \r\nz\r\n\" id=\"ArialMT-116\"/>\r\n       <path d=\"M 6.203125 -19.96875 \r\nL 5.21875 -11.71875 \r\nQ 8.109375 -12.5 10.25 -12.5 \r\nQ 13.1875 -12.5 14.9375 -11.515625 \r\nQ 16.703125 -10.546875 17.828125 -8.796875 \r\nQ 18.65625 -7.46875 20.515625 -2.25 \r\nQ 20.75 -1.515625 21.296875 -0.09375 \r\nL 1.609375 51.859375 \r\nL 11.078125 51.859375 \r\nL 21.875 21.828125 \r\nQ 23.96875 16.109375 25.640625 9.8125 \r\nQ 27.15625 15.875 29.25 21.625 \r\nL 40.328125 51.859375 \r\nL 49.125 51.859375 \r\nL 29.390625 -0.875 \r\nQ 26.21875 -9.421875 24.46875 -12.640625 \r\nQ 22.125 -17 19.09375 -19.015625 \r\nQ 16.0625 -21.046875 11.859375 -21.046875 \r\nQ 9.328125 -21.046875 6.203125 -19.96875 \r\nz\r\n\" id=\"ArialMT-121\"/>\r\n      </defs>\r\n      <use xlink:href=\"#ArialMT-68\"/>\r\n      <use x=\"72.216797\" xlink:href=\"#ArialMT-101\"/>\r\n      <use x=\"127.832031\" xlink:href=\"#ArialMT-110\"/>\r\n      <use x=\"183.447266\" xlink:href=\"#ArialMT-115\"/>\r\n      <use x=\"233.447266\" xlink:href=\"#ArialMT-105\"/>\r\n      <use x=\"255.664062\" xlink:href=\"#ArialMT-116\"/>\r\n      <use x=\"283.447266\" xlink:href=\"#ArialMT-121\"/>\r\n     </g>\r\n    </g>\r\n   </g>\r\n   <g id=\"PolyCollection_1\">\r\n    <defs>\r\n     <path d=\"M 177.071276 -41.893231 \r\nL 177.071276 -41.734219 \r\nL 177.692572 -41.734219 \r\nL 178.313867 -41.734219 \r\nL 178.935162 -41.734219 \r\nL 179.556458 -41.734219 \r\nL 180.177753 -41.734219 \r\nL 180.799048 -41.734219 \r\nL 181.420344 -41.734219 \r\nL 182.041639 -41.734219 \r\nL 182.662934 -41.734219 \r\nL 183.28423 -41.734219 \r\nL 183.905525 -41.734219 \r\nL 184.52682 -41.734219 \r\nL 185.148116 -41.734219 \r\nL 185.769411 -41.734219 \r\nL 186.390706 -41.734219 \r\nL 187.012002 -41.734219 \r\nL 187.633297 -41.734219 \r\nL 188.254592 -41.734219 \r\nL 188.875888 -41.734219 \r\nL 189.497183 -41.734219 \r\nL 190.118478 -41.734219 \r\nL 190.739774 -41.734219 \r\nL 191.361069 -41.734219 \r\nL 191.982364 -41.734219 \r\nL 192.60366 -41.734219 \r\nL 193.224955 -41.734219 \r\nL 193.84625 -41.734219 \r\nL 194.467546 -41.734219 \r\nL 195.088841 -41.734219 \r\nL 195.710136 -41.734219 \r\nL 196.331432 -41.734219 \r\nL 196.952727 -41.734219 \r\nL 197.574022 -41.734219 \r\nL 198.195318 -41.734219 \r\nL 198.816613 -41.734219 \r\nL 199.437908 -41.734219 \r\nL 200.059204 -41.734219 \r\nL 200.680499 -41.734219 \r\nL 201.301794 -41.734219 \r\nL 201.92309 -41.734219 \r\nL 202.544385 -41.734219 \r\nL 203.16568 -41.734219 \r\nL 203.786976 -41.734219 \r\nL 204.408271 -41.734219 \r\nL 205.029566 -41.734219 \r\nL 205.650862 -41.734219 \r\nL 206.272157 -41.734219 \r\nL 206.893452 -41.734219 \r\nL 207.514748 -41.734219 \r\nL 208.136043 -41.734219 \r\nL 208.757338 -41.734219 \r\nL 209.378634 -41.734219 \r\nL 209.999929 -41.734219 \r\nL 210.621224 -41.734219 \r\nL 211.24252 -41.734219 \r\nL 211.863815 -41.734219 \r\nL 212.48511 -41.734219 \r\nL 213.106406 -41.734219 \r\nL 213.727701 -41.734219 \r\nL 214.348996 -41.734219 \r\nL 214.970292 -41.734219 \r\nL 215.591587 -41.734219 \r\nL 216.212882 -41.734219 \r\nL 216.834178 -41.734219 \r\nL 217.455473 -41.734219 \r\nL 218.076768 -41.734219 \r\nL 218.698064 -41.734219 \r\nL 219.319359 -41.734219 \r\nL 219.940655 -41.734219 \r\nL 220.56195 -41.734219 \r\nL 221.183245 -41.734219 \r\nL 221.804541 -41.734219 \r\nL 222.425836 -41.734219 \r\nL 223.047131 -41.734219 \r\nL 223.668427 -41.734219 \r\nL 224.289722 -41.734219 \r\nL 224.911017 -41.734219 \r\nL 225.532313 -41.734219 \r\nL 226.153608 -41.734219 \r\nL 226.774903 -41.734219 \r\nL 227.396199 -41.734219 \r\nL 228.017494 -41.734219 \r\nL 228.638789 -41.734219 \r\nL 229.260085 -41.734219 \r\nL 229.88138 -41.734219 \r\nL 230.502675 -41.734219 \r\nL 231.123971 -41.734219 \r\nL 231.745266 -41.734219 \r\nL 232.366561 -41.734219 \r\nL 232.987857 -41.734219 \r\nL 233.609152 -41.734219 \r\nL 234.230447 -41.734219 \r\nL 234.851743 -41.734219 \r\nL 235.473038 -41.734219 \r\nL 236.094333 -41.734219 \r\nL 236.715629 -41.734219 \r\nL 237.336924 -41.734219 \r\nL 237.958219 -41.734219 \r\nL 238.579515 -41.734219 \r\nL 239.20081 -41.734219 \r\nL 239.822105 -41.734219 \r\nL 240.443401 -41.734219 \r\nL 241.064696 -41.734219 \r\nL 241.685991 -41.734219 \r\nL 242.307287 -41.734219 \r\nL 242.928582 -41.734219 \r\nL 243.549877 -41.734219 \r\nL 244.171173 -41.734219 \r\nL 244.792468 -41.734219 \r\nL 245.413763 -41.734219 \r\nL 246.035059 -41.734219 \r\nL 246.656354 -41.734219 \r\nL 247.277649 -41.734219 \r\nL 247.898945 -41.734219 \r\nL 248.52024 -41.734219 \r\nL 249.141535 -41.734219 \r\nL 249.762831 -41.734219 \r\nL 250.384126 -41.734219 \r\nL 251.005421 -41.734219 \r\nL 251.626717 -41.734219 \r\nL 252.248012 -41.734219 \r\nL 252.869307 -41.734219 \r\nL 253.490603 -41.734219 \r\nL 254.111898 -41.734219 \r\nL 254.733193 -41.734219 \r\nL 255.354489 -41.734219 \r\nL 255.975784 -41.734219 \r\nL 256.597079 -41.734219 \r\nL 257.218375 -41.734219 \r\nL 257.83967 -41.734219 \r\nL 258.460965 -41.734219 \r\nL 259.082261 -41.734219 \r\nL 259.703556 -41.734219 \r\nL 260.324851 -41.734219 \r\nL 260.946147 -41.734219 \r\nL 261.567442 -41.734219 \r\nL 262.188737 -41.734219 \r\nL 262.810033 -41.734219 \r\nL 263.431328 -41.734219 \r\nL 264.052623 -41.734219 \r\nL 264.673919 -41.734219 \r\nL 265.295214 -41.734219 \r\nL 265.916509 -41.734219 \r\nL 266.537805 -41.734219 \r\nL 267.1591 -41.734219 \r\nL 267.780395 -41.734219 \r\nL 268.401691 -41.734219 \r\nL 269.022986 -41.734219 \r\nL 269.644281 -41.734219 \r\nL 270.265577 -41.734219 \r\nL 270.886872 -41.734219 \r\nL 271.508167 -41.734219 \r\nL 272.129463 -41.734219 \r\nL 272.750758 -41.734219 \r\nL 273.372053 -41.734219 \r\nL 273.993349 -41.734219 \r\nL 274.614644 -41.734219 \r\nL 275.235939 -41.734219 \r\nL 275.857235 -41.734219 \r\nL 276.47853 -41.734219 \r\nL 277.099826 -41.734219 \r\nL 277.721121 -41.734219 \r\nL 278.342416 -41.734219 \r\nL 278.963712 -41.734219 \r\nL 279.585007 -41.734219 \r\nL 280.206302 -41.734219 \r\nL 280.827598 -41.734219 \r\nL 281.448893 -41.734219 \r\nL 282.070188 -41.734219 \r\nL 282.691484 -41.734219 \r\nL 283.312779 -41.734219 \r\nL 283.934074 -41.734219 \r\nL 284.55537 -41.734219 \r\nL 285.176665 -41.734219 \r\nL 285.79796 -41.734219 \r\nL 286.419256 -41.734219 \r\nL 287.040551 -41.734219 \r\nL 287.661846 -41.734219 \r\nL 288.283142 -41.734219 \r\nL 288.904437 -41.734219 \r\nL 289.525732 -41.734219 \r\nL 290.147028 -41.734219 \r\nL 290.768323 -41.734219 \r\nL 291.389618 -41.734219 \r\nL 292.010914 -41.734219 \r\nL 292.632209 -41.734219 \r\nL 293.253504 -41.734219 \r\nL 293.8748 -41.734219 \r\nL 294.496095 -41.734219 \r\nL 295.11739 -41.734219 \r\nL 295.738686 -41.734219 \r\nL 296.359981 -41.734219 \r\nL 296.981276 -41.734219 \r\nL 297.602572 -41.734219 \r\nL 298.223867 -41.734219 \r\nL 298.845162 -41.734219 \r\nL 299.466458 -41.734219 \r\nL 300.087753 -41.734219 \r\nL 300.709048 -41.734219 \r\nL 300.709048 -41.833689 \r\nL 300.709048 -41.833689 \r\nL 300.087753 -41.860585 \r\nL 299.466458 -41.893765 \r\nL 298.845162 -41.934419 \r\nL 298.223867 -41.983897 \r\nL 297.602572 -42.04371 \r\nL 296.981276 -42.115536 \r\nL 296.359981 -42.201212 \r\nL 295.738686 -42.302734 \r\nL 295.11739 -42.422242 \r\nL 294.496095 -42.562007 \r\nL 293.8748 -42.724403 \r\nL 293.253504 -42.911893 \r\nL 292.632209 -43.126989 \r\nL 292.010914 -43.372225 \r\nL 291.389618 -43.650121 \r\nL 290.768323 -43.963152 \r\nL 290.147028 -44.313714 \r\nL 289.525732 -44.704095 \r\nL 288.904437 -45.136455 \r\nL 288.283142 -45.612809 \r\nL 287.661846 -46.135024 \r\nL 287.040551 -46.70482 \r\nL 286.419256 -47.323786 \r\nL 285.79796 -47.993405 \r\nL 285.176665 -48.71509 \r\nL 284.55537 -49.490222 \r\nL 283.934074 -50.320197 \r\nL 283.312779 -51.206473 \r\nL 282.691484 -52.150614 \r\nL 282.070188 -53.154325 \r\nL 281.448893 -54.219479 \r\nL 280.827598 -55.348125 \r\nL 280.206302 -56.54248 \r\nL 279.585007 -57.804897 \r\nL 278.963712 -59.137815 \r\nL 278.342416 -60.543688 \r\nL 277.721121 -62.024888 \r\nL 277.099826 -63.583603 \r\nL 276.47853 -65.221724 \r\nL 275.857235 -66.940724 \r\nL 275.235939 -68.74155 \r\nL 274.614644 -70.624533 \r\nL 273.993349 -72.589312 \r\nL 273.372053 -74.634801 \r\nL 272.750758 -76.759189 \r\nL 272.129463 -78.959983 \r\nL 271.508167 -81.234103 \r\nL 270.886872 -83.578018 \r\nL 270.265577 -85.987922 \r\nL 269.644281 -88.459955 \r\nL 269.022986 -90.990442 \r\nL 268.401691 -93.576146 \r\nL 267.780395 -96.21453 \r\nL 267.1591 -98.903995 \r\nL 266.537805 -101.644091 \r\nL 265.916509 -104.435688 \r\nL 265.295214 -107.281075 \r\nL 264.673919 -110.184003 \r\nL 264.052623 -113.149645 \r\nL 263.431328 -116.184468 \r\nL 262.810033 -119.296032 \r\nL 262.188737 -122.492709 \r\nL 261.567442 -125.783328 \r\nL 260.946147 -129.176769 \r\nL 260.324851 -132.681516 \r\nL 259.703556 -136.305186 \r\nL 259.082261 -140.05406 \r\nL 258.460965 -143.932627 \r\nL 257.83967 -147.943175 \r\nL 257.218375 -152.085428 \r\nL 256.597079 -156.356267 \r\nL 255.975784 -160.749527 \r\nL 255.354489 -165.255885 \r\nL 254.733193 -169.862852 \r\nL 254.111898 -174.554847 \r\nL 253.490603 -179.313367 \r\nL 252.869307 -184.117234 \r\nL 252.248012 -188.942902 \r\nL 251.626717 -193.764821 \r\nL 251.005421 -198.555836 \r\nL 250.384126 -203.287598 \r\nL 249.762831 -207.930983 \r\nL 249.141535 -212.456505 \r\nL 248.52024 -216.834696 \r\nL 247.898945 -221.036468 \r\nL 247.277649 -225.03344 \r\nL 246.656354 -228.798224 \r\nL 246.035059 -232.304688 \r\nL 245.413763 -235.528188 \r\nL 244.792468 -238.445772 \r\nL 244.171173 -241.03638 \r\nL 243.549877 -243.281031 \r\nL 242.928582 -245.163006 \r\nL 242.307287 -246.668047 \r\nL 241.685991 -247.784543 \r\nL 241.064696 -248.503739 \r\nL 240.443401 -248.819933 \r\nL 239.822105 -248.730676 \r\nL 239.20081 -248.236953 \r\nL 238.579515 -247.343338 \r\nL 237.958219 -246.058108 \r\nL 237.336924 -244.39331 \r\nL 236.715629 -242.364759 \r\nL 236.094333 -239.991953 \r\nL 235.473038 -237.297916 \r\nL 234.851743 -234.308935 \r\nL 234.230447 -231.054213 \r\nL 233.609152 -227.565426 \r\nL 232.987857 -223.8762 \r\nL 232.366561 -220.02151 \r\nL 231.745266 -216.037029 \r\nL 231.123971 -211.958429 \r\nL 230.502675 -207.820675 \r\nL 229.88138 -203.657322 \r\nL 229.260085 -199.49984 \r\nL 228.638789 -195.377002 \r\nL 228.017494 -191.314342 \r\nL 227.396199 -187.333715 \r\nL 226.774903 -183.452969 \r\nL 226.153608 -179.685744 \r\nL 225.532313 -176.041405 \r\nL 224.911017 -172.525102 \r\nL 224.289722 -169.137976 \r\nL 223.668427 -165.877469 \r\nL 223.047131 -162.737756 \r\nL 222.425836 -159.71026 \r\nL 221.804541 -156.784234 \r\nL 221.183245 -153.947394 \r\nL 220.56195 -151.186558 \r\nL 219.940655 -148.488289 \r\nL 219.319359 -145.839493 \r\nL 218.698064 -143.227969 \r\nL 218.076768 -140.642876 \r\nL 217.455473 -138.075106 \r\nL 216.834178 -135.517554 \r\nL 216.212882 -132.965278 \r\nL 215.591587 -130.415531 \r\nL 214.970292 -127.867701 \r\nL 214.348996 -125.323135 \r\nL 213.727701 -122.784881 \r\nL 213.106406 -120.257356 \r\nL 212.48511 -117.745963 \r\nL 211.863815 -115.256677 \r\nL 211.24252 -112.79563 \r\nL 210.621224 -110.368704 \r\nL 209.999929 -107.981165 \r\nL 209.378634 -105.637352 \r\nL 208.757338 -103.340434 \r\nL 208.136043 -101.092249 \r\nL 207.514748 -98.893233 \r\nL 206.893452 -96.742429 \r\nL 206.272157 -94.637589 \r\nL 205.650862 -92.575346 \r\nL 205.029566 -90.551457 \r\nL 204.408271 -88.561087 \r\nL 203.786976 -86.59913 \r\nL 203.16568 -84.66054 \r\nL 202.544385 -82.740659 \r\nL 201.92309 -80.835511 \r\nL 201.301794 -78.942071 \r\nL 200.680499 -77.058467 \r\nL 200.059204 -75.184125 \r\nL 199.437908 -73.319846 \r\nL 198.816613 -71.467808 \r\nL 198.195318 -69.631504 \r\nL 197.574022 -67.815616 \r\nL 196.952727 -66.025831 \r\nL 196.331432 -64.268619 \r\nL 195.710136 -62.55098 \r\nL 195.088841 -60.880172 \r\nL 194.467546 -59.26344 \r\nL 193.84625 -57.707753 \r\nL 193.224955 -56.219563 \r\nL 192.60366 -54.804596 \r\nL 191.982364 -53.46768 \r\nL 191.361069 -52.212618 \r\nL 190.739774 -51.042105 \r\nL 190.118478 -49.957691 \r\nL 189.497183 -48.959786 \r\nL 188.875888 -48.047704 \r\nL 188.254592 -47.219743 \r\nL 187.633297 -46.473286 \r\nL 187.012002 -45.804928 \r\nL 186.390706 -45.210611 \r\nL 185.769411 -44.685767 \r\nL 185.148116 -44.225465 \r\nL 184.52682 -43.824543 \r\nL 183.905525 -43.47774 \r\nL 183.28423 -43.179807 \r\nL 182.662934 -42.925612 \r\nL 182.041639 -42.710215 \r\nL 181.420344 -42.52894 \r\nL 180.799048 -42.37742 \r\nL 180.177753 -42.251631 \r\nL 179.556458 -42.14791 \r\nL 178.935162 -42.062966 \r\nL 178.313867 -41.993867 \r\nL 177.692572 -41.938037 \r\nL 177.071276 -41.893231 \r\nz\r\n\" id=\"mb8127c114b\" style=\"stroke:#008000;\"/>\r\n    </defs>\r\n    <g clip-path=\"url(#p3b80d5449c)\">\r\n     <use style=\"fill:#008000;fill-opacity:0.25;stroke:#008000;\" x=\"0\" xlink:href=\"#mb8127c114b\" y=\"266.374219\"/>\r\n    </g>\r\n   </g>\r\n   <g id=\"PolyCollection_2\">\r\n    <defs>\r\n     <path d=\"M 129.494267 -41.829183 \r\nL 129.494267 -41.734219 \r\nL 130.563124 -41.734219 \r\nL 131.63198 -41.734219 \r\nL 132.700836 -41.734219 \r\nL 133.769693 -41.734219 \r\nL 134.838549 -41.734219 \r\nL 135.907405 -41.734219 \r\nL 136.976262 -41.734219 \r\nL 138.045118 -41.734219 \r\nL 139.113974 -41.734219 \r\nL 140.182831 -41.734219 \r\nL 141.251687 -41.734219 \r\nL 142.320544 -41.734219 \r\nL 143.3894 -41.734219 \r\nL 144.458256 -41.734219 \r\nL 145.527113 -41.734219 \r\nL 146.595969 -41.734219 \r\nL 147.664825 -41.734219 \r\nL 148.733682 -41.734219 \r\nL 149.802538 -41.734219 \r\nL 150.871394 -41.734219 \r\nL 151.940251 -41.734219 \r\nL 153.009107 -41.734219 \r\nL 154.077963 -41.734219 \r\nL 155.14682 -41.734219 \r\nL 156.215676 -41.734219 \r\nL 157.284532 -41.734219 \r\nL 158.353389 -41.734219 \r\nL 159.422245 -41.734219 \r\nL 160.491101 -41.734219 \r\nL 161.559958 -41.734219 \r\nL 162.628814 -41.734219 \r\nL 163.69767 -41.734219 \r\nL 164.766527 -41.734219 \r\nL 165.835383 -41.734219 \r\nL 166.904239 -41.734219 \r\nL 167.973096 -41.734219 \r\nL 169.041952 -41.734219 \r\nL 170.110809 -41.734219 \r\nL 171.179665 -41.734219 \r\nL 172.248521 -41.734219 \r\nL 173.317378 -41.734219 \r\nL 174.386234 -41.734219 \r\nL 175.45509 -41.734219 \r\nL 176.523947 -41.734219 \r\nL 177.592803 -41.734219 \r\nL 178.661659 -41.734219 \r\nL 179.730516 -41.734219 \r\nL 180.799372 -41.734219 \r\nL 181.868228 -41.734219 \r\nL 182.937085 -41.734219 \r\nL 184.005941 -41.734219 \r\nL 185.074797 -41.734219 \r\nL 186.143654 -41.734219 \r\nL 187.21251 -41.734219 \r\nL 188.281366 -41.734219 \r\nL 189.350223 -41.734219 \r\nL 190.419079 -41.734219 \r\nL 191.487935 -41.734219 \r\nL 192.556792 -41.734219 \r\nL 193.625648 -41.734219 \r\nL 194.694504 -41.734219 \r\nL 195.763361 -41.734219 \r\nL 196.832217 -41.734219 \r\nL 197.901074 -41.734219 \r\nL 198.96993 -41.734219 \r\nL 200.038786 -41.734219 \r\nL 201.107643 -41.734219 \r\nL 202.176499 -41.734219 \r\nL 203.245355 -41.734219 \r\nL 204.314212 -41.734219 \r\nL 205.383068 -41.734219 \r\nL 206.451924 -41.734219 \r\nL 207.520781 -41.734219 \r\nL 208.589637 -41.734219 \r\nL 209.658493 -41.734219 \r\nL 210.72735 -41.734219 \r\nL 211.796206 -41.734219 \r\nL 212.865062 -41.734219 \r\nL 213.933919 -41.734219 \r\nL 215.002775 -41.734219 \r\nL 216.071631 -41.734219 \r\nL 217.140488 -41.734219 \r\nL 218.209344 -41.734219 \r\nL 219.2782 -41.734219 \r\nL 220.347057 -41.734219 \r\nL 221.415913 -41.734219 \r\nL 222.484769 -41.734219 \r\nL 223.553626 -41.734219 \r\nL 224.622482 -41.734219 \r\nL 225.691338 -41.734219 \r\nL 226.760195 -41.734219 \r\nL 227.829051 -41.734219 \r\nL 228.897908 -41.734219 \r\nL 229.966764 -41.734219 \r\nL 231.03562 -41.734219 \r\nL 232.104477 -41.734219 \r\nL 233.173333 -41.734219 \r\nL 234.242189 -41.734219 \r\nL 235.311046 -41.734219 \r\nL 236.379902 -41.734219 \r\nL 237.448758 -41.734219 \r\nL 238.517615 -41.734219 \r\nL 239.586471 -41.734219 \r\nL 240.655327 -41.734219 \r\nL 241.724184 -41.734219 \r\nL 242.79304 -41.734219 \r\nL 243.861896 -41.734219 \r\nL 244.930753 -41.734219 \r\nL 245.999609 -41.734219 \r\nL 247.068465 -41.734219 \r\nL 248.137322 -41.734219 \r\nL 249.206178 -41.734219 \r\nL 250.275034 -41.734219 \r\nL 251.343891 -41.734219 \r\nL 252.412747 -41.734219 \r\nL 253.481603 -41.734219 \r\nL 254.55046 -41.734219 \r\nL 255.619316 -41.734219 \r\nL 256.688173 -41.734219 \r\nL 257.757029 -41.734219 \r\nL 258.825885 -41.734219 \r\nL 259.894742 -41.734219 \r\nL 260.963598 -41.734219 \r\nL 262.032454 -41.734219 \r\nL 263.101311 -41.734219 \r\nL 264.170167 -41.734219 \r\nL 265.239023 -41.734219 \r\nL 266.30788 -41.734219 \r\nL 267.376736 -41.734219 \r\nL 268.445592 -41.734219 \r\nL 269.514449 -41.734219 \r\nL 270.583305 -41.734219 \r\nL 271.652161 -41.734219 \r\nL 272.721018 -41.734219 \r\nL 273.789874 -41.734219 \r\nL 274.85873 -41.734219 \r\nL 275.927587 -41.734219 \r\nL 276.996443 -41.734219 \r\nL 278.065299 -41.734219 \r\nL 279.134156 -41.734219 \r\nL 280.203012 -41.734219 \r\nL 281.271868 -41.734219 \r\nL 282.340725 -41.734219 \r\nL 283.409581 -41.734219 \r\nL 284.478438 -41.734219 \r\nL 285.547294 -41.734219 \r\nL 286.61615 -41.734219 \r\nL 287.685007 -41.734219 \r\nL 288.753863 -41.734219 \r\nL 289.822719 -41.734219 \r\nL 290.891576 -41.734219 \r\nL 291.960432 -41.734219 \r\nL 293.029288 -41.734219 \r\nL 294.098145 -41.734219 \r\nL 295.167001 -41.734219 \r\nL 296.235857 -41.734219 \r\nL 297.304714 -41.734219 \r\nL 298.37357 -41.734219 \r\nL 299.442426 -41.734219 \r\nL 300.511283 -41.734219 \r\nL 301.580139 -41.734219 \r\nL 302.648995 -41.734219 \r\nL 303.717852 -41.734219 \r\nL 304.786708 -41.734219 \r\nL 305.855564 -41.734219 \r\nL 306.924421 -41.734219 \r\nL 307.993277 -41.734219 \r\nL 309.062133 -41.734219 \r\nL 310.13099 -41.734219 \r\nL 311.199846 -41.734219 \r\nL 312.268702 -41.734219 \r\nL 313.337559 -41.734219 \r\nL 314.406415 -41.734219 \r\nL 315.475272 -41.734219 \r\nL 316.544128 -41.734219 \r\nL 317.612984 -41.734219 \r\nL 318.681841 -41.734219 \r\nL 319.750697 -41.734219 \r\nL 320.819553 -41.734219 \r\nL 321.88841 -41.734219 \r\nL 322.957266 -41.734219 \r\nL 324.026122 -41.734219 \r\nL 325.094979 -41.734219 \r\nL 326.163835 -41.734219 \r\nL 327.232691 -41.734219 \r\nL 328.301548 -41.734219 \r\nL 329.370404 -41.734219 \r\nL 330.43926 -41.734219 \r\nL 331.508117 -41.734219 \r\nL 332.576973 -41.734219 \r\nL 333.645829 -41.734219 \r\nL 334.714686 -41.734219 \r\nL 335.783542 -41.734219 \r\nL 336.852398 -41.734219 \r\nL 337.921255 -41.734219 \r\nL 338.990111 -41.734219 \r\nL 340.058967 -41.734219 \r\nL 341.127824 -41.734219 \r\nL 342.19668 -41.734219 \r\nL 342.19668 -41.824049 \r\nL 342.19668 -41.824049 \r\nL 341.127824 -41.847279 \r\nL 340.058967 -41.875733 \r\nL 338.990111 -41.910373 \r\nL 337.921255 -41.952288 \r\nL 336.852398 -42.002701 \r\nL 335.783542 -42.062965 \r\nL 334.714686 -42.134569 \r\nL 333.645829 -42.219131 \r\nL 332.576973 -42.318388 \r\nL 331.508117 -42.434186 \r\nL 330.43926 -42.568462 \r\nL 329.370404 -42.723218 \r\nL 328.301548 -42.900497 \r\nL 327.232691 -43.102346 \r\nL 326.163835 -43.330778 \r\nL 325.094979 -43.587734 \r\nL 324.026122 -43.875035 \r\nL 322.957266 -44.194337 \r\nL 321.88841 -44.547086 \r\nL 320.819553 -44.934471 \r\nL 319.750697 -45.357381 \r\nL 318.681841 -45.816376 \r\nL 317.612984 -46.31165 \r\nL 316.544128 -46.843013 \r\nL 315.475272 -47.409884 \r\nL 314.406415 -48.011287 \r\nL 313.337559 -48.645872 \r\nL 312.268702 -49.311932 \r\nL 311.199846 -50.007451 \r\nL 310.13099 -50.730151 \r\nL 309.062133 -51.47755 \r\nL 307.993277 -52.247039 \r\nL 306.924421 -53.035953 \r\nL 305.855564 -53.841655 \r\nL 304.786708 -54.661615 \r\nL 303.717852 -55.49349 \r\nL 302.648995 -56.335199 \r\nL 301.580139 -57.184989 \r\nL 300.511283 -58.041494 \r\nL 299.442426 -58.903771 \r\nL 298.37357 -59.771337 \r\nL 297.304714 -60.644181 \r\nL 296.235857 -61.522759 \r\nL 295.167001 -62.407982 \r\nL 294.098145 -63.301181 \r\nL 293.029288 -64.204067 \r\nL 291.960432 -65.118673 \r\nL 290.891576 -66.047289 \r\nL 289.822719 -66.992399 \r\nL 288.753863 -67.956599 \r\nL 287.685007 -68.942534 \r\nL 286.61615 -69.952817 \r\nL 285.547294 -70.989968 \r\nL 284.478438 -72.056351 \r\nL 283.409581 -73.15412 \r\nL 282.340725 -74.285174 \r\nL 281.271868 -75.451123 \r\nL 280.203012 -76.653262 \r\nL 279.134156 -77.892547 \r\nL 278.065299 -79.169596 \r\nL 276.996443 -80.484675 \r\nL 275.927587 -81.837711 \r\nL 274.85873 -83.228289 \r\nL 273.789874 -84.655666 \r\nL 272.721018 -86.118783 \r\nL 271.652161 -87.616269 \r\nL 270.583305 -89.146451 \r\nL 269.514449 -90.707359 \r\nL 268.445592 -92.296732 \r\nL 267.376736 -93.912011 \r\nL 266.30788 -95.550341 \r\nL 265.239023 -97.208567 \r\nL 264.170167 -98.883227 \r\nL 263.101311 -100.57055 \r\nL 262.032454 -102.266455 \r\nL 260.963598 -103.966558 \r\nL 259.894742 -105.666183 \r\nL 258.825885 -107.360384 \r\nL 257.757029 -109.043976 \r\nL 256.688173 -110.711586 \r\nL 255.619316 -112.357708 \r\nL 254.55046 -113.976781 \r\nL 253.481603 -115.563272 \r\nL 252.412747 -117.111785 \r\nL 251.343891 -118.617164 \r\nL 250.275034 -120.074624 \r\nL 249.206178 -121.479871 \r\nL 248.137322 -122.829227 \r\nL 247.068465 -124.119756 \r\nL 245.999609 -125.349371 \r\nL 244.930753 -126.516933 \r\nL 243.861896 -127.622317 \r\nL 242.79304 -128.666465 \r\nL 241.724184 -129.651389 \r\nL 240.655327 -130.58015 \r\nL 239.586471 -131.45679 \r\nL 238.517615 -132.28622 \r\nL 237.448758 -133.074071 \r\nL 236.379902 -133.826502 \r\nL 235.311046 -134.549964 \r\nL 234.242189 -135.250947 \r\nL 233.173333 -135.93569 \r\nL 232.104477 -136.609884 \r\nL 231.03562 -137.278371 \r\nL 229.966764 -137.944846 \r\nL 228.897908 -138.61159 \r\nL 227.829051 -139.279226 \r\nL 226.760195 -139.946528 \r\nL 225.691338 -140.61028 \r\nL 224.622482 -141.265204 \r\nL 223.553626 -141.903962 \r\nL 222.484769 -142.517227 \r\nL 221.415913 -143.09384 \r\nL 220.347057 -143.62104 \r\nL 219.2782 -144.08476 \r\nL 218.209344 -144.469991 \r\nL 217.140488 -144.761197 \r\nL 216.071631 -144.942764 \r\nL 215.002775 -144.999472 \r\nL 213.933919 -144.916972 \r\nL 212.865062 -144.68225 \r\nL 211.796206 -144.284056 \r\nL 210.72735 -143.713294 \r\nL 209.658493 -142.963339 \r\nL 208.589637 -142.030289 \r\nL 207.520781 -140.913124 \r\nL 206.451924 -139.613776 \r\nL 205.383068 -138.137109 \r\nL 204.314212 -136.490799 \r\nL 203.245355 -134.685133 \r\nL 202.176499 -132.732719 \r\nL 201.107643 -130.648138 \r\nL 200.038786 -128.44753 \r\nL 198.96993 -126.148153 \r\nL 197.901074 -123.767909 \r\nL 196.832217 -121.324873 \r\nL 195.763361 -118.836837 \r\nL 194.694504 -116.320876 \r\nL 193.625648 -113.792969 \r\nL 192.556792 -111.267668 \r\nL 191.487935 -108.757843 \r\nL 190.419079 -106.274491 \r\nL 189.350223 -103.826631 \r\nL 188.281366 -101.421271 \r\nL 187.21251 -99.063452 \r\nL 186.143654 -96.756354 \r\nL 185.074797 -94.501474 \r\nL 184.005941 -92.298839 \r\nL 182.937085 -90.147264 \r\nL 181.868228 -88.044636 \r\nL 180.799372 -85.988202 \r\nL 179.730516 -83.974861 \r\nL 178.661659 -82.001441 \r\nL 177.592803 -80.064945 \r\nL 176.523947 -78.162778 \r\nL 175.45509 -76.292916 \r\nL 174.386234 -74.454045 \r\nL 173.317378 -72.645646 \r\nL 172.248521 -70.86803 \r\nL 171.179665 -69.122336 \r\nL 170.110809 -67.41048 \r\nL 169.041952 -65.735067 \r\nL 167.973096 -64.099285 \r\nL 166.904239 -62.506761 \r\nL 165.835383 -60.96141 \r\nL 164.766527 -59.467279 \r\nL 163.69767 -58.028389 \r\nL 162.628814 -56.648581 \r\nL 161.559958 -55.331378 \r\nL 160.491101 -54.079866 \r\nL 159.422245 -52.896595 \r\nL 158.353389 -51.783499 \r\nL 157.284532 -50.74185 \r\nL 156.215676 -49.772228 \r\nL 155.14682 -48.874519 \r\nL 154.077963 -48.047935 \r\nL 153.009107 -47.29105 \r\nL 151.940251 -46.601856 \r\nL 150.871394 -45.977826 \r\nL 149.802538 -45.415996 \r\nL 148.733682 -44.913039 \r\nL 147.664825 -44.465352 \r\nL 146.595969 -44.06914 \r\nL 145.527113 -43.720492 \r\nL 144.458256 -43.415456 \r\nL 143.3894 -43.150111 \r\nL 142.320544 -42.920616 \r\nL 141.251687 -42.723268 \r\nL 140.182831 -42.554539 \r\nL 139.113974 -42.411107 \r\nL 138.045118 -42.28988 \r\nL 136.976262 -42.188007 \r\nL 135.907405 -42.10289 \r\nL 134.838549 -42.03218 \r\nL 133.769693 -41.973776 \r\nL 132.700836 -41.925812 \r\nL 131.63198 -41.886647 \r\nL 130.563124 -41.854851 \r\nL 129.494267 -41.829183 \r\nz\r\n\" id=\"m25c04e9af4\" style=\"stroke:#0000ff;\"/>\r\n    </defs>\r\n    <g clip-path=\"url(#p3b80d5449c)\">\r\n     <use style=\"fill:#0000ff;fill-opacity:0.25;stroke:#0000ff;\" x=\"0\" xlink:href=\"#m25c04e9af4\" y=\"266.374219\"/>\r\n    </g>\r\n   </g>\r\n   <g id=\"PolyCollection_3\">\r\n    <defs>\r\n     <path d=\"M 68.440213 -41.771621 \r\nL 68.440213 -41.734219 \r\nL 69.969679 -41.734219 \r\nL 71.499144 -41.734219 \r\nL 73.02861 -41.734219 \r\nL 74.558075 -41.734219 \r\nL 76.087541 -41.734219 \r\nL 77.617006 -41.734219 \r\nL 79.146472 -41.734219 \r\nL 80.675937 -41.734219 \r\nL 82.205403 -41.734219 \r\nL 83.734868 -41.734219 \r\nL 85.264334 -41.734219 \r\nL 86.793799 -41.734219 \r\nL 88.323265 -41.734219 \r\nL 89.85273 -41.734219 \r\nL 91.382196 -41.734219 \r\nL 92.911661 -41.734219 \r\nL 94.441127 -41.734219 \r\nL 95.970592 -41.734219 \r\nL 97.500058 -41.734219 \r\nL 99.029523 -41.734219 \r\nL 100.558989 -41.734219 \r\nL 102.088454 -41.734219 \r\nL 103.61792 -41.734219 \r\nL 105.147385 -41.734219 \r\nL 106.676851 -41.734219 \r\nL 108.206316 -41.734219 \r\nL 109.735782 -41.734219 \r\nL 111.265247 -41.734219 \r\nL 112.794713 -41.734219 \r\nL 114.324178 -41.734219 \r\nL 115.853644 -41.734219 \r\nL 117.383109 -41.734219 \r\nL 118.912575 -41.734219 \r\nL 120.44204 -41.734219 \r\nL 121.971506 -41.734219 \r\nL 123.500971 -41.734219 \r\nL 125.030437 -41.734219 \r\nL 126.559902 -41.734219 \r\nL 128.089368 -41.734219 \r\nL 129.618833 -41.734219 \r\nL 131.148299 -41.734219 \r\nL 132.677764 -41.734219 \r\nL 134.20723 -41.734219 \r\nL 135.736695 -41.734219 \r\nL 137.266161 -41.734219 \r\nL 138.795626 -41.734219 \r\nL 140.325092 -41.734219 \r\nL 141.854558 -41.734219 \r\nL 143.384023 -41.734219 \r\nL 144.913489 -41.734219 \r\nL 146.442954 -41.734219 \r\nL 147.97242 -41.734219 \r\nL 149.501885 -41.734219 \r\nL 151.031351 -41.734219 \r\nL 152.560816 -41.734219 \r\nL 154.090282 -41.734219 \r\nL 155.619747 -41.734219 \r\nL 157.149213 -41.734219 \r\nL 158.678678 -41.734219 \r\nL 160.208144 -41.734219 \r\nL 161.737609 -41.734219 \r\nL 163.267075 -41.734219 \r\nL 164.79654 -41.734219 \r\nL 166.326006 -41.734219 \r\nL 167.855471 -41.734219 \r\nL 169.384937 -41.734219 \r\nL 170.914402 -41.734219 \r\nL 172.443868 -41.734219 \r\nL 173.973333 -41.734219 \r\nL 175.502799 -41.734219 \r\nL 177.032264 -41.734219 \r\nL 178.56173 -41.734219 \r\nL 180.091195 -41.734219 \r\nL 181.620661 -41.734219 \r\nL 183.150126 -41.734219 \r\nL 184.679592 -41.734219 \r\nL 186.209057 -41.734219 \r\nL 187.738523 -41.734219 \r\nL 189.267988 -41.734219 \r\nL 190.797454 -41.734219 \r\nL 192.326919 -41.734219 \r\nL 193.856385 -41.734219 \r\nL 195.38585 -41.734219 \r\nL 196.915316 -41.734219 \r\nL 198.444781 -41.734219 \r\nL 199.974247 -41.734219 \r\nL 201.503712 -41.734219 \r\nL 203.033178 -41.734219 \r\nL 204.562643 -41.734219 \r\nL 206.092109 -41.734219 \r\nL 207.621574 -41.734219 \r\nL 209.15104 -41.734219 \r\nL 210.680505 -41.734219 \r\nL 212.209971 -41.734219 \r\nL 213.739436 -41.734219 \r\nL 215.268902 -41.734219 \r\nL 216.798367 -41.734219 \r\nL 218.327833 -41.734219 \r\nL 219.857298 -41.734219 \r\nL 221.386764 -41.734219 \r\nL 222.91623 -41.734219 \r\nL 224.445695 -41.734219 \r\nL 225.975161 -41.734219 \r\nL 227.504626 -41.734219 \r\nL 229.034092 -41.734219 \r\nL 230.563557 -41.734219 \r\nL 232.093023 -41.734219 \r\nL 233.622488 -41.734219 \r\nL 235.151954 -41.734219 \r\nL 236.681419 -41.734219 \r\nL 238.210885 -41.734219 \r\nL 239.74035 -41.734219 \r\nL 241.269816 -41.734219 \r\nL 242.799281 -41.734219 \r\nL 244.328747 -41.734219 \r\nL 245.858212 -41.734219 \r\nL 247.387678 -41.734219 \r\nL 248.917143 -41.734219 \r\nL 250.446609 -41.734219 \r\nL 251.976074 -41.734219 \r\nL 253.50554 -41.734219 \r\nL 255.035005 -41.734219 \r\nL 256.564471 -41.734219 \r\nL 258.093936 -41.734219 \r\nL 259.623402 -41.734219 \r\nL 261.152867 -41.734219 \r\nL 262.682333 -41.734219 \r\nL 264.211798 -41.734219 \r\nL 265.741264 -41.734219 \r\nL 267.270729 -41.734219 \r\nL 268.800195 -41.734219 \r\nL 270.32966 -41.734219 \r\nL 271.859126 -41.734219 \r\nL 273.388591 -41.734219 \r\nL 274.918057 -41.734219 \r\nL 276.447522 -41.734219 \r\nL 277.976988 -41.734219 \r\nL 279.506453 -41.734219 \r\nL 281.035919 -41.734219 \r\nL 282.565384 -41.734219 \r\nL 284.09485 -41.734219 \r\nL 285.624315 -41.734219 \r\nL 287.153781 -41.734219 \r\nL 288.683246 -41.734219 \r\nL 290.212712 -41.734219 \r\nL 291.742177 -41.734219 \r\nL 293.271643 -41.734219 \r\nL 294.801108 -41.734219 \r\nL 296.330574 -41.734219 \r\nL 297.860039 -41.734219 \r\nL 299.389505 -41.734219 \r\nL 300.91897 -41.734219 \r\nL 302.448436 -41.734219 \r\nL 303.977902 -41.734219 \r\nL 305.507367 -41.734219 \r\nL 307.036833 -41.734219 \r\nL 308.566298 -41.734219 \r\nL 310.095764 -41.734219 \r\nL 311.625229 -41.734219 \r\nL 313.154695 -41.734219 \r\nL 314.68416 -41.734219 \r\nL 316.213626 -41.734219 \r\nL 317.743091 -41.734219 \r\nL 319.272557 -41.734219 \r\nL 320.802022 -41.734219 \r\nL 322.331488 -41.734219 \r\nL 323.860953 -41.734219 \r\nL 325.390419 -41.734219 \r\nL 326.919884 -41.734219 \r\nL 328.44935 -41.734219 \r\nL 329.978815 -41.734219 \r\nL 331.508281 -41.734219 \r\nL 333.037746 -41.734219 \r\nL 334.567212 -41.734219 \r\nL 336.096677 -41.734219 \r\nL 337.626143 -41.734219 \r\nL 339.155608 -41.734219 \r\nL 340.685074 -41.734219 \r\nL 342.214539 -41.734219 \r\nL 343.744005 -41.734219 \r\nL 345.27347 -41.734219 \r\nL 346.802936 -41.734219 \r\nL 348.332401 -41.734219 \r\nL 349.861867 -41.734219 \r\nL 351.391332 -41.734219 \r\nL 352.920798 -41.734219 \r\nL 354.450263 -41.734219 \r\nL 355.979729 -41.734219 \r\nL 357.509194 -41.734219 \r\nL 359.03866 -41.734219 \r\nL 360.568125 -41.734219 \r\nL 362.097591 -41.734219 \r\nL 363.627056 -41.734219 \r\nL 365.156522 -41.734219 \r\nL 366.685987 -41.734219 \r\nL 368.215453 -41.734219 \r\nL 369.744918 -41.734219 \r\nL 371.274384 -41.734219 \r\nL 372.803849 -41.734219 \r\nL 372.803849 -41.854965 \r\nL 372.803849 -41.854965 \r\nL 371.274384 -41.885197 \r\nL 369.744918 -41.922141 \r\nL 368.215453 -41.967064 \r\nL 366.685987 -42.021425 \r\nL 365.156522 -42.086884 \r\nL 363.627056 -42.165323 \r\nL 362.097591 -42.258858 \r\nL 360.568125 -42.369851 \r\nL 359.03866 -42.500919 \r\nL 357.509194 -42.654942 \r\nL 355.979729 -42.835062 \r\nL 354.450263 -43.044676 \r\nL 352.920798 -43.287432 \r\nL 351.391332 -43.567209 \r\nL 349.861867 -43.888088 \r\nL 348.332401 -44.254325 \r\nL 346.802936 -44.670306 \r\nL 345.27347 -45.140498 \r\nL 343.744005 -45.669388 \r\nL 342.214539 -46.261416 \r\nL 340.685074 -46.920898 \r\nL 339.155608 -47.651941 \r\nL 337.626143 -48.458357 \r\nL 336.096677 -49.343561 \r\nL 334.567212 -50.31048 \r\nL 333.037746 -51.361448 \r\nL 331.508281 -52.49811 \r\nL 329.978815 -53.721322 \r\nL 328.44935 -55.031069 \r\nL 326.919884 -56.426375 \r\nL 325.390419 -57.905241 \r\nL 323.860953 -59.464582 \r\nL 322.331488 -61.100189 \r\nL 320.802022 -62.806709 \r\nL 319.272557 -64.577643 \r\nL 317.743091 -66.405364 \r\nL 316.213626 -68.281167 \r\nL 314.68416 -70.195329 \r\nL 313.154695 -72.137207 \r\nL 311.625229 -74.095352 \r\nL 310.095764 -76.057642 \r\nL 308.566298 -78.011448 \r\nL 307.036833 -79.943804 \r\nL 305.507367 -81.841601 \r\nL 303.977902 -83.691791 \r\nL 302.448436 -85.481597 \r\nL 300.91897 -87.198729 \r\nL 299.389505 -88.831597 \r\nL 297.860039 -90.369516 \r\nL 296.330574 -91.802905 \r\nL 294.801108 -93.123465 \r\nL 293.271643 -94.324339 \r\nL 291.742177 -95.400245 \r\nL 290.212712 -96.34758 \r\nL 288.683246 -97.164493 \r\nL 287.153781 -97.850925 \r\nL 285.624315 -98.408605 \r\nL 284.09485 -98.841021 \r\nL 282.565384 -99.153339 \r\nL 281.035919 -99.352299 \r\nL 279.506453 -99.446075 \r\nL 277.976988 -99.444094 \r\nL 276.447522 -99.356846 \r\nL 274.918057 -99.19566 \r\nL 273.388591 -98.972464 \r\nL 271.859126 -98.699543 \r\nL 270.32966 -98.389289 \r\nL 268.800195 -98.053947 \r\nL 267.270729 -97.705378 \r\nL 265.741264 -97.354834 \r\nL 264.211798 -97.01275 \r\nL 262.682333 -96.688565 \r\nL 261.152867 -96.390564 \r\nL 259.623402 -96.125761 \r\nL 258.093936 -95.899809 \r\nL 256.564471 -95.716947 \r\nL 255.035005 -95.579985 \r\nL 253.50554 -95.490317 \r\nL 251.976074 -95.447971 \r\nL 250.446609 -95.451692 \r\nL 248.917143 -95.499041 \r\nL 247.387678 -95.586529 \r\nL 245.858212 -95.709764 \r\nL 244.328747 -95.863607 \r\nL 242.799281 -96.042345 \r\nL 241.269816 -96.239866 \r\nL 239.74035 -96.449829 \r\nL 238.210885 -96.665835 \r\nL 236.681419 -96.881585 \r\nL 235.151954 -97.091027 \r\nL 233.622488 -97.288488 \r\nL 232.093023 -97.468787 \r\nL 230.563557 -97.627325 \r\nL 229.034092 -97.760164 \r\nL 227.504626 -97.864068 \r\nL 225.975161 -97.936534 \r\nL 224.445695 -97.975798 \r\nL 222.91623 -97.980818 \r\nL 221.386764 -97.951237 \r\nL 219.857298 -97.887331 \r\nL 218.327833 -97.789938 \r\nL 216.798367 -97.660375 \r\nL 215.268902 -97.500347 \r\nL 213.739436 -97.311839 \r\nL 212.209971 -97.097017 \r\nL 210.680505 -96.858116 \r\nL 209.15104 -96.597333 \r\nL 207.621574 -96.316726 \r\nL 206.092109 -96.018121 \r\nL 204.562643 -95.703026 \r\nL 203.033178 -95.372561 \r\nL 201.503712 -95.0274 \r\nL 199.974247 -94.667731 \r\nL 198.444781 -94.293236 \r\nL 196.915316 -93.903082 \r\nL 195.38585 -93.495939 \r\nL 193.856385 -93.07001 \r\nL 192.326919 -92.623082 \r\nL 190.797454 -92.152586 \r\nL 189.267988 -91.655678 \r\nL 187.738523 -91.129329 \r\nL 186.209057 -90.570414 \r\nL 184.679592 -89.975821 \r\nL 183.150126 -89.342554 \r\nL 181.620661 -88.667829 \r\nL 180.091195 -87.949177 \r\nL 178.56173 -87.184535 \r\nL 177.032264 -86.372324 \r\nL 175.502799 -85.511516 \r\nL 173.973333 -84.601694 \r\nL 172.443868 -83.643083 \r\nL 170.914402 -82.636577 \r\nL 169.384937 -81.583743 \r\nL 167.855471 -80.48681 \r\nL 166.326006 -79.34864 \r\nL 164.79654 -78.172686 \r\nL 163.267075 -76.962938 \r\nL 161.737609 -75.723855 \r\nL 160.208144 -74.460286 \r\nL 158.678678 -73.177388 \r\nL 157.149213 -71.880541 \r\nL 155.619747 -70.575252 \r\nL 154.090282 -69.267067 \r\nL 152.560816 -67.961485 \r\nL 151.031351 -66.663874 \r\nL 149.501885 -65.379396 \r\nL 147.97242 -64.112938 \r\nL 146.442954 -62.869054 \r\nL 144.913489 -61.651916 \r\nL 143.384023 -60.465279 \r\nL 141.854558 -59.312455 \r\nL 140.325092 -58.196296 \r\nL 138.795626 -57.119189 \r\nL 137.266161 -56.083061 \r\nL 135.736695 -55.089397 \r\nL 134.20723 -54.139253 \r\nL 132.677764 -53.233288 \r\nL 131.148299 -52.371794 \r\nL 129.618833 -51.554733 \r\nL 128.089368 -50.781769 \r\nL 126.559902 -50.052309 \r\nL 125.030437 -49.365541 \r\nL 123.500971 -48.720468 \r\nL 121.971506 -48.115938 \r\nL 120.44204 -47.550684 \r\nL 118.912575 -47.023339 \r\nL 117.383109 -46.532473 \r\nL 115.853644 -46.076604 \r\nL 114.324178 -45.65422 \r\nL 112.794713 -45.263791 \r\nL 111.265247 -44.903783 \r\nL 109.735782 -44.572667 \r\nL 108.206316 -44.268922 \r\nL 106.676851 -43.991046 \r\nL 105.147385 -43.737557 \r\nL 103.61792 -43.506997 \r\nL 102.088454 -43.297937 \r\nL 100.558989 -43.108978 \r\nL 99.029523 -42.938754 \r\nL 97.500058 -42.785935 \r\nL 95.970592 -42.64923 \r\nL 94.441127 -42.527389 \r\nL 92.911661 -42.419207 \r\nL 91.382196 -42.323529 \r\nL 89.85273 -42.239246 \r\nL 88.323265 -42.165307 \r\nL 86.793799 -42.100714 \r\nL 85.264334 -42.044526 \r\nL 83.734868 -41.995864 \r\nL 82.205403 -41.953906 \r\nL 80.675937 -41.917892 \r\nL 79.146472 -41.88712 \r\nL 77.617006 -41.860949 \r\nL 76.087541 -41.838796 \r\nL 74.558075 -41.820132 \r\nL 73.02861 -41.804483 \r\nL 71.499144 -41.791424 \r\nL 69.969679 -41.780581 \r\nL 68.440213 -41.771621 \r\nz\r\n\" id=\"mf46582f89b\" style=\"stroke:#ff0000;\"/>\r\n    </defs>\r\n    <g clip-path=\"url(#p3b80d5449c)\">\r\n     <use style=\"fill:#ff0000;fill-opacity:0.25;stroke:#ff0000;\" x=\"0\" xlink:href=\"#mf46582f89b\" y=\"266.374219\"/>\r\n    </g>\r\n   </g>\r\n   <g id=\"PolyCollection_4\">\r\n    <defs>\r\n     <path d=\"M 127.547118 -41.792264 \r\nL 127.547118 -41.734219 \r\nL 128.553944 -41.734219 \r\nL 129.56077 -41.734219 \r\nL 130.567596 -41.734219 \r\nL 131.574422 -41.734219 \r\nL 132.581248 -41.734219 \r\nL 133.588074 -41.734219 \r\nL 134.5949 -41.734219 \r\nL 135.601726 -41.734219 \r\nL 136.608552 -41.734219 \r\nL 137.615378 -41.734219 \r\nL 138.622204 -41.734219 \r\nL 139.62903 -41.734219 \r\nL 140.635856 -41.734219 \r\nL 141.642682 -41.734219 \r\nL 142.649508 -41.734219 \r\nL 143.656334 -41.734219 \r\nL 144.66316 -41.734219 \r\nL 145.669986 -41.734219 \r\nL 146.676812 -41.734219 \r\nL 147.683638 -41.734219 \r\nL 148.690464 -41.734219 \r\nL 149.69729 -41.734219 \r\nL 150.704116 -41.734219 \r\nL 151.710942 -41.734219 \r\nL 152.717768 -41.734219 \r\nL 153.724594 -41.734219 \r\nL 154.73142 -41.734219 \r\nL 155.738246 -41.734219 \r\nL 156.745072 -41.734219 \r\nL 157.751898 -41.734219 \r\nL 158.758724 -41.734219 \r\nL 159.76555 -41.734219 \r\nL 160.772376 -41.734219 \r\nL 161.779202 -41.734219 \r\nL 162.786028 -41.734219 \r\nL 163.792853 -41.734219 \r\nL 164.799679 -41.734219 \r\nL 165.806505 -41.734219 \r\nL 166.813331 -41.734219 \r\nL 167.820157 -41.734219 \r\nL 168.826983 -41.734219 \r\nL 169.833809 -41.734219 \r\nL 170.840635 -41.734219 \r\nL 171.847461 -41.734219 \r\nL 172.854287 -41.734219 \r\nL 173.861113 -41.734219 \r\nL 174.867939 -41.734219 \r\nL 175.874765 -41.734219 \r\nL 176.881591 -41.734219 \r\nL 177.888417 -41.734219 \r\nL 178.895243 -41.734219 \r\nL 179.902069 -41.734219 \r\nL 180.908895 -41.734219 \r\nL 181.915721 -41.734219 \r\nL 182.922547 -41.734219 \r\nL 183.929373 -41.734219 \r\nL 184.936199 -41.734219 \r\nL 185.943025 -41.734219 \r\nL 186.949851 -41.734219 \r\nL 187.956677 -41.734219 \r\nL 188.963503 -41.734219 \r\nL 189.970329 -41.734219 \r\nL 190.977155 -41.734219 \r\nL 191.983981 -41.734219 \r\nL 192.990807 -41.734219 \r\nL 193.997633 -41.734219 \r\nL 195.004459 -41.734219 \r\nL 196.011285 -41.734219 \r\nL 197.018111 -41.734219 \r\nL 198.024937 -41.734219 \r\nL 199.031763 -41.734219 \r\nL 200.038589 -41.734219 \r\nL 201.045415 -41.734219 \r\nL 202.052241 -41.734219 \r\nL 203.059067 -41.734219 \r\nL 204.065893 -41.734219 \r\nL 205.072719 -41.734219 \r\nL 206.079545 -41.734219 \r\nL 207.086371 -41.734219 \r\nL 208.093197 -41.734219 \r\nL 209.100023 -41.734219 \r\nL 210.106849 -41.734219 \r\nL 211.113675 -41.734219 \r\nL 212.120501 -41.734219 \r\nL 213.127327 -41.734219 \r\nL 214.134153 -41.734219 \r\nL 215.140979 -41.734219 \r\nL 216.147805 -41.734219 \r\nL 217.154631 -41.734219 \r\nL 218.161457 -41.734219 \r\nL 219.168283 -41.734219 \r\nL 220.175109 -41.734219 \r\nL 221.181935 -41.734219 \r\nL 222.188761 -41.734219 \r\nL 223.195587 -41.734219 \r\nL 224.202413 -41.734219 \r\nL 225.209239 -41.734219 \r\nL 226.216065 -41.734219 \r\nL 227.222891 -41.734219 \r\nL 228.229717 -41.734219 \r\nL 229.236543 -41.734219 \r\nL 230.243369 -41.734219 \r\nL 231.250195 -41.734219 \r\nL 232.257021 -41.734219 \r\nL 233.263847 -41.734219 \r\nL 234.270673 -41.734219 \r\nL 235.277499 -41.734219 \r\nL 236.284325 -41.734219 \r\nL 237.291151 -41.734219 \r\nL 238.297977 -41.734219 \r\nL 239.304803 -41.734219 \r\nL 240.311629 -41.734219 \r\nL 241.318455 -41.734219 \r\nL 242.325281 -41.734219 \r\nL 243.332107 -41.734219 \r\nL 244.338933 -41.734219 \r\nL 245.345759 -41.734219 \r\nL 246.352585 -41.734219 \r\nL 247.359411 -41.734219 \r\nL 248.366237 -41.734219 \r\nL 249.373063 -41.734219 \r\nL 250.379889 -41.734219 \r\nL 251.386715 -41.734219 \r\nL 252.393541 -41.734219 \r\nL 253.400367 -41.734219 \r\nL 254.407193 -41.734219 \r\nL 255.414019 -41.734219 \r\nL 256.420845 -41.734219 \r\nL 257.427671 -41.734219 \r\nL 258.434497 -41.734219 \r\nL 259.441323 -41.734219 \r\nL 260.448149 -41.734219 \r\nL 261.454975 -41.734219 \r\nL 262.461801 -41.734219 \r\nL 263.468627 -41.734219 \r\nL 264.475453 -41.734219 \r\nL 265.482279 -41.734219 \r\nL 266.489105 -41.734219 \r\nL 267.495931 -41.734219 \r\nL 268.502757 -41.734219 \r\nL 269.509583 -41.734219 \r\nL 270.516409 -41.734219 \r\nL 271.523235 -41.734219 \r\nL 272.530061 -41.734219 \r\nL 273.536887 -41.734219 \r\nL 274.543713 -41.734219 \r\nL 275.550539 -41.734219 \r\nL 276.557365 -41.734219 \r\nL 277.564191 -41.734219 \r\nL 278.571017 -41.734219 \r\nL 279.577843 -41.734219 \r\nL 280.584669 -41.734219 \r\nL 281.591495 -41.734219 \r\nL 282.598321 -41.734219 \r\nL 283.605147 -41.734219 \r\nL 284.611973 -41.734219 \r\nL 285.618799 -41.734219 \r\nL 286.625625 -41.734219 \r\nL 287.632451 -41.734219 \r\nL 288.639277 -41.734219 \r\nL 289.646103 -41.734219 \r\nL 290.652929 -41.734219 \r\nL 291.659755 -41.734219 \r\nL 292.666581 -41.734219 \r\nL 293.673407 -41.734219 \r\nL 294.680233 -41.734219 \r\nL 295.687059 -41.734219 \r\nL 296.693885 -41.734219 \r\nL 297.700711 -41.734219 \r\nL 298.707537 -41.734219 \r\nL 299.714363 -41.734219 \r\nL 300.721189 -41.734219 \r\nL 301.728015 -41.734219 \r\nL 302.734841 -41.734219 \r\nL 303.741667 -41.734219 \r\nL 304.748493 -41.734219 \r\nL 305.755319 -41.734219 \r\nL 306.762145 -41.734219 \r\nL 307.768971 -41.734219 \r\nL 308.775797 -41.734219 \r\nL 309.782623 -41.734219 \r\nL 310.789449 -41.734219 \r\nL 311.796275 -41.734219 \r\nL 312.803101 -41.734219 \r\nL 313.809927 -41.734219 \r\nL 314.816753 -41.734219 \r\nL 315.823579 -41.734219 \r\nL 316.830405 -41.734219 \r\nL 317.837231 -41.734219 \r\nL 318.844057 -41.734219 \r\nL 319.850883 -41.734219 \r\nL 320.857709 -41.734219 \r\nL 321.864535 -41.734219 \r\nL 322.871361 -41.734219 \r\nL 323.878187 -41.734219 \r\nL 324.885013 -41.734219 \r\nL 325.891839 -41.734219 \r\nL 326.898665 -41.734219 \r\nL 327.905491 -41.734219 \r\nL 327.905491 -41.906525 \r\nL 327.905491 -41.906525 \r\nL 326.898665 -41.950842 \r\nL 325.891839 -42.005137 \r\nL 324.885013 -42.071277 \r\nL 323.878187 -42.151384 \r\nL 322.871361 -42.247856 \r\nL 321.864535 -42.363368 \r\nL 320.857709 -42.500887 \r\nL 319.850883 -42.663665 \r\nL 318.844057 -42.855236 \r\nL 317.837231 -43.079396 \r\nL 316.830405 -43.340178 \r\nL 315.823579 -43.641817 \r\nL 314.816753 -43.988704 \r\nL 313.809927 -44.385324 \r\nL 312.803101 -44.836193 \r\nL 311.796275 -45.345773 \r\nL 310.789449 -45.918387 \r\nL 309.782623 -46.558126 \r\nL 308.775797 -47.268746 \r\nL 307.768971 -48.053568 \r\nL 306.762145 -48.915373 \r\nL 305.755319 -49.856315 \r\nL 304.748493 -50.877823 \r\nL 303.741667 -51.980532 \r\nL 302.734841 -53.164226 \r\nL 301.728015 -54.427793 \r\nL 300.721189 -55.769214 \r\nL 299.714363 -57.185573 \r\nL 298.707537 -58.673086 \r\nL 297.700711 -60.227173 \r\nL 296.693885 -61.842543 \r\nL 295.687059 -63.513307 \r\nL 294.680233 -65.233118 \r\nL 293.673407 -66.99532 \r\nL 292.666581 -68.793116 \r\nL 291.659755 -70.61974 \r\nL 290.652929 -72.468622 \r\nL 289.646103 -74.33356 \r\nL 288.639277 -76.208862 \r\nL 287.632451 -78.089475 \r\nL 286.625625 -79.971087 \r\nL 285.618799 -81.850193 \r\nL 284.611973 -83.724131 \r\nL 283.605147 -85.591071 \r\nL 282.598321 -87.449978 \r\nL 281.591495 -89.300527 \r\nL 280.584669 -91.142991 \r\nL 279.577843 -92.978097 \r\nL 278.571017 -94.806858 \r\nL 277.564191 -96.630393 \r\nL 276.557365 -98.449734 \r\nL 275.550539 -100.26564 \r\nL 274.543713 -102.078415 \r\nL 273.536887 -103.887751 \r\nL 272.530061 -105.692589 \r\nL 271.523235 -107.491019 \r\nL 270.516409 -109.280217 \r\nL 269.509583 -111.056419 \r\nL 268.502757 -112.814942 \r\nL 267.495931 -114.550248 \r\nL 266.489105 -116.256043 \r\nL 265.482279 -117.925416 \r\nL 264.475453 -119.551012 \r\nL 263.468627 -121.125222 \r\nL 262.461801 -122.640395 \r\nL 261.454975 -124.089049 \r\nL 260.448149 -125.464093 \r\nL 259.441323 -126.759025 \r\nL 258.434497 -127.968124 \r\nL 257.427671 -129.08661 \r\nL 256.420845 -130.110773 \r\nL 255.414019 -131.038073 \r\nL 254.407193 -131.867195 \r\nL 253.400367 -132.598069 \r\nL 252.393541 -133.231853 \r\nL 251.386715 -133.770877 \r\nL 250.379889 -134.218558 \r\nL 249.373063 -134.579283 \r\nL 248.366237 -134.858278 \r\nL 247.359411 -135.061456 \r\nL 246.352585 -135.195256 \r\nL 245.345759 -135.266481 \r\nL 244.338933 -135.28214 \r\nL 243.332107 -135.249299 \r\nL 242.325281 -135.17494 \r\nL 241.318455 -135.065842 \r\nL 240.311629 -134.928478 \r\nL 239.304803 -134.768928 \r\nL 238.297977 -134.592823 \r\nL 237.291151 -134.405289 \r\nL 236.284325 -134.210928 \r\nL 235.277499 -134.013799 \r\nL 234.270673 -133.817414 \r\nL 233.263847 -133.62475 \r\nL 232.257021 -133.438253 \r\nL 231.250195 -133.259858 \r\nL 230.243369 -133.090999 \r\nL 229.236543 -132.932617 \r\nL 228.229717 -132.785173 \r\nL 227.222891 -132.648642 \r\nL 226.216065 -132.522512 \r\nL 225.209239 -132.405768 \r\nL 224.202413 -132.296877 \r\nL 223.195587 -132.19377 \r\nL 222.188761 -132.093813 \r\nL 221.181935 -131.993787 \r\nL 220.175109 -131.88987 \r\nL 219.168283 -131.777618 \r\nL 218.161457 -131.651965 \r\nL 217.154631 -131.507222 \r\nL 216.147805 -131.337106 \r\nL 215.140979 -131.134775 \r\nL 214.134153 -130.892882 \r\nL 213.127327 -130.603659 \r\nL 212.120501 -130.259014 \r\nL 211.113675 -129.850652 \r\nL 210.106849 -129.370217 \r\nL 209.100023 -128.809447 \r\nL 208.093197 -128.160353 \r\nL 207.086371 -127.4154 \r\nL 206.079545 -126.567695 \r\nL 205.072719 -125.611179 \r\nL 204.065893 -124.540807 \r\nL 203.059067 -123.35272 \r\nL 202.052241 -122.044394 \r\nL 201.045415 -120.614766 \r\nL 200.038589 -119.064328 \r\nL 199.031763 -117.395188 \r\nL 198.024937 -115.611088 \r\nL 197.018111 -113.717388 \r\nL 196.011285 -111.721002 \r\nL 195.004459 -109.630299 \r\nL 193.997633 -107.454965 \r\nL 192.990807 -105.20583 \r\nL 191.983981 -102.894669 \r\nL 190.977155 -100.533979 \r\nL 189.970329 -98.136742 \r\nL 188.963503 -95.716178 \r\nL 187.956677 -93.285504 \r\nL 186.949851 -90.857689 \r\nL 185.943025 -88.445236 \r\nL 184.936199 -86.05998 \r\nL 183.929373 -83.712902 \r\nL 182.922547 -81.413989 \r\nL 181.915721 -79.172117 \r\nL 180.908895 -76.994967 \r\nL 179.902069 -74.888982 \r\nL 178.895243 -72.859349 \r\nL 177.888417 -70.910023 \r\nL 176.881591 -69.04377 \r\nL 175.874765 -67.262239 \r\nL 174.867939 -65.566053 \r\nL 173.861113 -63.954919 \r\nL 172.854287 -62.427746 \r\nL 171.847461 -60.982767 \r\nL 170.840635 -59.61767 \r\nL 169.833809 -58.32972 \r\nL 168.826983 -57.115878 \r\nL 167.820157 -55.972911 \r\nL 166.813331 -54.897488 \r\nL 165.806505 -53.886265 \r\nL 164.799679 -52.935959 \r\nL 163.792853 -52.043399 \r\nL 162.786028 -51.205568 \r\nL 161.779202 -50.419634 \r\nL 160.772376 -49.682959 \r\nL 159.76555 -48.993106 \r\nL 158.758724 -48.347833 \r\nL 157.751898 -47.745075 \r\nL 156.745072 -47.182932 \r\nL 155.738246 -46.659636 \r\nL 154.73142 -46.173534 \r\nL 153.724594 -45.723059 \r\nL 152.717768 -45.306705 \r\nL 151.710942 -44.923007 \r\nL 150.704116 -44.57052 \r\nL 149.69729 -44.247803 \r\nL 148.690464 -43.95341 \r\nL 147.683638 -43.685883 \r\nL 146.676812 -43.443747 \r\nL 145.669986 -43.22551 \r\nL 144.66316 -43.029671 \r\nL 143.656334 -42.854722 \r\nL 142.649508 -42.699158 \r\nL 141.642682 -42.561491 \r\nL 140.635856 -42.440252 \r\nL 139.62903 -42.334011 \r\nL 138.622204 -42.241383 \r\nL 137.615378 -42.161035 \r\nL 136.608552 -42.091702 \r\nL 135.601726 -42.032188 \r\nL 134.5949 -41.981372 \r\nL 133.588074 -41.938215 \r\nL 132.581248 -41.90176 \r\nL 131.574422 -41.871134 \r\nL 130.567596 -41.845544 \r\nL 129.56077 -41.824279 \r\nL 128.553944 -41.806706 \r\nL 127.547118 -41.792264 \r\nz\r\n\" id=\"mae5297abb9\" style=\"stroke:#ffff00;\"/>\r\n    </defs>\r\n    <g clip-path=\"url(#p3b80d5449c)\">\r\n     <use style=\"fill:#ffff00;fill-opacity:0.25;stroke:#ffff00;\" x=\"0\" xlink:href=\"#mae5297abb9\" y=\"266.374219\"/>\r\n    </g>\r\n   </g>\r\n   <g id=\"patch_3\">\r\n    <path d=\"M 53.222031 224.64 \r\nL 53.222031 7.2 \r\n\" style=\"fill:none;stroke:#ffffff;stroke-linecap:square;stroke-linejoin:miter;stroke-width:1.25;\"/>\r\n   </g>\r\n   <g id=\"patch_4\">\r\n    <path d=\"M 388.022031 224.64 \r\nL 388.022031 7.2 \r\n\" style=\"fill:none;stroke:#ffffff;stroke-linecap:square;stroke-linejoin:miter;stroke-width:1.25;\"/>\r\n   </g>\r\n   <g id=\"patch_5\">\r\n    <path d=\"M 53.222031 224.64 \r\nL 388.022031 224.64 \r\n\" style=\"fill:none;stroke:#ffffff;stroke-linecap:square;stroke-linejoin:miter;stroke-width:1.25;\"/>\r\n   </g>\r\n   <g id=\"patch_6\">\r\n    <path d=\"M 53.222031 7.2 \r\nL 388.022031 7.2 \r\n\" style=\"fill:none;stroke:#ffffff;stroke-linecap:square;stroke-linejoin:miter;stroke-width:1.25;\"/>\r\n   </g>\r\n  </g>\r\n </g>\r\n <defs>\r\n  <clipPath id=\"p3b80d5449c\">\r\n   <rect height=\"217.44\" width=\"334.8\" x=\"53.222031\" y=\"7.2\"/>\r\n  </clipPath>\r\n </defs>\r\n</svg>\r\n",
      "image/png": "[encoded data removed]"
     },
     "metadata": {}
    }
   ],
   "source": [
    "#kdeplot shows the density of values, with the highest density ranging from the 50s to 60s, this tells us most movies were actually quite mid \n",
    "\n",
    "df = disney_.all_ratings\n",
    "sns.set_theme(style=\"dark\")\n",
    "\n",
    "sns.kdeplot(disney_['imdb2'], color='green', shade=True, cbar=True)\n",
    "sns.kdeplot(disney_['metascore'], color='blue', shade=True, cbar=True)\n",
    "sns.kdeplot(disney_['rotten_tomatoes2'], color='red', shade=True, cbar=True)\n",
    "sns.kdeplot(disney_['all_ratings'], color='yellow', shade=True, cbar=True)"
   ]
  },
  {
   "cell_type": "code",
   "execution_count": 210,
   "metadata": {},
   "outputs": [
    {
     "output_type": "execute_result",
     "data": {
      "text/plain": [
       "array([[ 0.76902779,  1.02793747,  1.27703946, -0.36585712],\n",
       "       [-1.31113954,  0.17082198, -0.33906443,  1.60640155],\n",
       "       [ 0.82070748,  0.90541652,  2.40477395, -0.092841  ]])"
      ]
     },
     "metadata": {},
     "execution_count": 210
    }
   ],
   "source": []
  },
  {
   "cell_type": "code",
   "execution_count": 34,
   "metadata": {},
   "outputs": [
    {
     "output_type": "execute_result",
     "data": {
      "text/plain": [
       "150.0"
      ]
     },
     "metadata": {},
     "execution_count": 34
    }
   ],
   "source": [
    "disney_['Running time'].max()\n",
    "#disney_['Running time'].min()\n",
    "#disney_['Running time'].mean()"
   ]
  },
  {
   "cell_type": "code",
   "execution_count": 8,
   "metadata": {},
   "outputs": [
    {
     "output_type": "stream",
     "name": "stdout",
     "text": [
      "<class 'pandas.core.frame.DataFrame'>\nRangeIndex: 53 entries, 0 to 52\nData columns (total 20 columns):\n #   Column              Non-Null Count  Dtype  \n---  ------              --------------  -----  \n 0   title               53 non-null     object \n 1   Production company  53 non-null     object \n 2   Country             53 non-null     object \n 3   Language            53 non-null     object \n 4   Running time        53 non-null     float64\n 5   Budget              53 non-null     float64\n 6   Box office          53 non-null     float64\n 7   Release date        53 non-null     object \n 8   imdb                53 non-null     float64\n 9   metascore           53 non-null     float64\n 10  rotten_tomatoes     53 non-null     object \n 11  Directed by         53 non-null     object \n 12  Produced by         53 non-null     object \n 13  Based on            53 non-null     object \n 14  Starring            53 non-null     object \n 15  Music by            53 non-null     object \n 16  Distributed by      53 non-null     object \n 17  Cinematography      53 non-null     object \n 18  Edited by           53 non-null     object \n 19  Screenplay by       53 non-null     object \ndtypes: float64(5), object(15)\nmemory usage: 8.4+ KB\n"
     ]
    }
   ],
   "source": [
    "disney_.info()"
   ]
  },
  {
   "cell_type": "code",
   "execution_count": 80,
   "metadata": {},
   "outputs": [
    {
     "output_type": "execute_result",
     "data": {
      "text/plain": [
       "[50.0, 89.0, 100.0, 66.0, 88.0]"
      ]
     },
     "metadata": {},
     "execution_count": 80
    }
   ],
   "source": [
    "x[:5]"
   ]
  },
  {
   "cell_type": "code",
   "execution_count": 81,
   "metadata": {},
   "outputs": [
    {
     "output_type": "execute_result",
     "data": {
      "text/plain": [
       "100.0"
      ]
     },
     "metadata": {},
     "execution_count": 81
    }
   ],
   "source": [
    "p = pd.Series(data=x, index=range(0,53))\n",
    "\n",
    "p.max()"
   ]
  },
  {
   "cell_type": "code",
   "execution_count": 82,
   "metadata": {},
   "outputs": [],
   "source": [
    "disney_['rotten_tomatoes2'] = p"
   ]
  },
  {
   "cell_type": "code",
   "execution_count": 83,
   "metadata": {},
   "outputs": [
    {
     "output_type": "stream",
     "name": "stdout",
     "text": [
      "<class 'pandas.core.frame.DataFrame'>\nRangeIndex: 53 entries, 0 to 52\nData columns (total 21 columns):\n #   Column              Non-Null Count  Dtype  \n---  ------              --------------  -----  \n 0   title               53 non-null     object \n 1   Production company  53 non-null     object \n 2   Country             53 non-null     object \n 3   Language            53 non-null     object \n 4   Running time        53 non-null     float64\n 5   Budget              53 non-null     float64\n 6   Box office          53 non-null     float64\n 7   Release date        53 non-null     object \n 8   imdb                53 non-null     float64\n 9   metascore           53 non-null     float64\n 10  rotten_tomatoes     53 non-null     object \n 11  Directed by         53 non-null     object \n 12  Produced by         53 non-null     object \n 13  Based on            53 non-null     object \n 14  Starring            53 non-null     object \n 15  Music by            53 non-null     object \n 16  Distributed by      53 non-null     object \n 17  Cinematography      53 non-null     object \n 18  Edited by           53 non-null     object \n 19  Screenplay by       53 non-null     object \n 20  rotten_tomatoes2    53 non-null     float64\ndtypes: float64(6), object(15)\nmemory usage: 8.8+ KB\n"
     ]
    }
   ],
   "source": [
    "disney_.info()"
   ]
  },
  {
   "cell_type": "code",
   "execution_count": 84,
   "metadata": {},
   "outputs": [
    {
     "output_type": "execute_result",
     "data": {
      "text/plain": [
       "                          title       Production company        Country  \\\n",
       "0             Song of the South  Walt Disney Productions  United States   \n",
       "1  20,000 Leagues Under the Sea  Walt Disney Productions  United States   \n",
       "2                  Mary Poppins  Walt Disney Productions  United States   \n",
       "3      Bedknobs and Broomsticks  Walt Disney Productions  United States   \n",
       "4                 Freaky Friday  Walt Disney Productions  United States   \n",
       "\n",
       "  Language  Running time     Budget   Box office Release date  imdb  \\\n",
       "0  English          94.0  2125000.0   65000000.0   11/12/1946   7.1   \n",
       "1  English         127.0  5000000.0   28200000.0   12/23/1954   7.2   \n",
       "2  English         139.0        4.4  103100000.0    8/27/1964   7.8   \n",
       "3  English         118.0  6300000.0   17900000.0    10/7/1971   7.1   \n",
       "4  English          95.0  5000000.0   36000000.0   12/20/1976   6.2   \n",
       "\n",
       "   metascore  ...                                        Directed by  \\\n",
       "0       54.0  ...  ['Live action:', 'Harve Foster', 'Animation:',...   \n",
       "1       83.0  ...                                  Richard Fleischer   \n",
       "2       88.0  ...                                   Robert Stevenson   \n",
       "3       59.0  ...                                   Robert Stevenson   \n",
       "4       70.0  ...                                        Gary Nelson   \n",
       "\n",
       "   Produced by                                           Based on  \\\n",
       "0  Walt Disney      ['Uncle Remus', 'by', 'Joel Chandler Harris']   \n",
       "1  Walt Disney  ['Twenty Thousand Leagues Under the Sea', 'by'...   \n",
       "2  Walt Disney            ['Mary Poppins', 'by', 'P. L. Travers']   \n",
       "3   Bill Walsh  ['The Magic Bedknob', '&', 'Bonfires and Broom...   \n",
       "4   Ron Miller               ['Freaky Friday', 'by Mary Rodgers']   \n",
       "\n",
       "                                            Starring  \\\n",
       "0  ['James Baskett', 'Bobby Driscoll', 'Luana Pat...   \n",
       "1  ['Kirk Douglas', 'James Mason', 'Paul Lukas', ...   \n",
       "2  ['Julie Andrews', 'Dick Van Dyke', 'David Toml...   \n",
       "3  ['Angela Lansbury', 'David Tomlinson', 'John E...   \n",
       "4   ['Jodie Foster', 'Barbara Harris', 'John Astin']   \n",
       "\n",
       "                                            Music by  \\\n",
       "0  ['Edward Plumb', 'Daniele Amfitheatrof', 'Paul...   \n",
       "1  ['Paul Smith', 'Joseph S. Dubin', '(orchestrat...   \n",
       "2        ['Richard M. Sherman', 'Robert B. Sherman']   \n",
       "3                                       Irwin Kostal   \n",
       "4                                      Johnny Mandel   \n",
       "\n",
       "             Distributed by      Cinematography          Edited by  \\\n",
       "0        RKO Radio Pictures        Gregg Toland  William M. Morgan   \n",
       "1  Buena Vista Distribution        Franz Planer      Elmo Williams   \n",
       "2  Buena Vista Distribution       Edward Colman   Cotton Warburton   \n",
       "3  Buena Vista Distribution   Frank V. Phillips   Cotton Warburton   \n",
       "4  Buena Vista Distribution  Charles F. Wheeler   Cotton Warburton   \n",
       "\n",
       "                                       Screenplay by rotten_tomatoes2  \n",
       "0  ['Live action:', 'Morton Grant', 'Maurice Rapf...             50.0  \n",
       "1                                        Earl Felton             89.0  \n",
       "2                      ['Bill Walsh', 'Don DaGradi']            100.0  \n",
       "3                      ['Bill Walsh', 'Don DaGradi']             66.0  \n",
       "4                                       Mary Rodgers             88.0  \n",
       "\n",
       "[5 rows x 21 columns]"
      ],
      "text/html": "<div>\n<style scoped>\n    .dataframe tbody tr th:only-of-type {\n        vertical-align: middle;\n    }\n\n    .dataframe tbody tr th {\n        vertical-align: top;\n    }\n\n    .dataframe thead th {\n        text-align: right;\n    }\n</style>\n<table border=\"1\" class=\"dataframe\">\n  <thead>\n    <tr style=\"text-align: right;\">\n      <th></th>\n      <th>title</th>\n      <th>Production company</th>\n      <th>Country</th>\n      <th>Language</th>\n      <th>Running time</th>\n      <th>Budget</th>\n      <th>Box office</th>\n      <th>Release date</th>\n      <th>imdb</th>\n      <th>metascore</th>\n      <th>...</th>\n      <th>Directed by</th>\n      <th>Produced by</th>\n      <th>Based on</th>\n      <th>Starring</th>\n      <th>Music by</th>\n      <th>Distributed by</th>\n      <th>Cinematography</th>\n      <th>Edited by</th>\n      <th>Screenplay by</th>\n      <th>rotten_tomatoes2</th>\n    </tr>\n  </thead>\n  <tbody>\n    <tr>\n      <th>0</th>\n      <td>Song of the South</td>\n      <td>Walt Disney Productions</td>\n      <td>United States</td>\n      <td>English</td>\n      <td>94.0</td>\n      <td>2125000.0</td>\n      <td>65000000.0</td>\n      <td>11/12/1946</td>\n      <td>7.1</td>\n      <td>54.0</td>\n      <td>...</td>\n      <td>['Live action:', 'Harve Foster', 'Animation:',...</td>\n      <td>Walt Disney</td>\n      <td>['Uncle Remus', 'by', 'Joel Chandler Harris']</td>\n      <td>['James Baskett', 'Bobby Driscoll', 'Luana Pat...</td>\n      <td>['Edward Plumb', 'Daniele Amfitheatrof', 'Paul...</td>\n      <td>RKO Radio Pictures</td>\n      <td>Gregg Toland</td>\n      <td>William M. Morgan</td>\n      <td>['Live action:', 'Morton Grant', 'Maurice Rapf...</td>\n      <td>50.0</td>\n    </tr>\n    <tr>\n      <th>1</th>\n      <td>20,000 Leagues Under the Sea</td>\n      <td>Walt Disney Productions</td>\n      <td>United States</td>\n      <td>English</td>\n      <td>127.0</td>\n      <td>5000000.0</td>\n      <td>28200000.0</td>\n      <td>12/23/1954</td>\n      <td>7.2</td>\n      <td>83.0</td>\n      <td>...</td>\n      <td>Richard Fleischer</td>\n      <td>Walt Disney</td>\n      <td>['Twenty Thousand Leagues Under the Sea', 'by'...</td>\n      <td>['Kirk Douglas', 'James Mason', 'Paul Lukas', ...</td>\n      <td>['Paul Smith', 'Joseph S. Dubin', '(orchestrat...</td>\n      <td>Buena Vista Distribution</td>\n      <td>Franz Planer</td>\n      <td>Elmo Williams</td>\n      <td>Earl Felton</td>\n      <td>89.0</td>\n    </tr>\n    <tr>\n      <th>2</th>\n      <td>Mary Poppins</td>\n      <td>Walt Disney Productions</td>\n      <td>United States</td>\n      <td>English</td>\n      <td>139.0</td>\n      <td>4.4</td>\n      <td>103100000.0</td>\n      <td>8/27/1964</td>\n      <td>7.8</td>\n      <td>88.0</td>\n      <td>...</td>\n      <td>Robert Stevenson</td>\n      <td>Walt Disney</td>\n      <td>['Mary Poppins', 'by', 'P. L. Travers']</td>\n      <td>['Julie Andrews', 'Dick Van Dyke', 'David Toml...</td>\n      <td>['Richard M. Sherman', 'Robert B. Sherman']</td>\n      <td>Buena Vista Distribution</td>\n      <td>Edward Colman</td>\n      <td>Cotton Warburton</td>\n      <td>['Bill Walsh', 'Don DaGradi']</td>\n      <td>100.0</td>\n    </tr>\n    <tr>\n      <th>3</th>\n      <td>Bedknobs and Broomsticks</td>\n      <td>Walt Disney Productions</td>\n      <td>United States</td>\n      <td>English</td>\n      <td>118.0</td>\n      <td>6300000.0</td>\n      <td>17900000.0</td>\n      <td>10/7/1971</td>\n      <td>7.1</td>\n      <td>59.0</td>\n      <td>...</td>\n      <td>Robert Stevenson</td>\n      <td>Bill Walsh</td>\n      <td>['The Magic Bedknob', '&amp;', 'Bonfires and Broom...</td>\n      <td>['Angela Lansbury', 'David Tomlinson', 'John E...</td>\n      <td>Irwin Kostal</td>\n      <td>Buena Vista Distribution</td>\n      <td>Frank V. Phillips</td>\n      <td>Cotton Warburton</td>\n      <td>['Bill Walsh', 'Don DaGradi']</td>\n      <td>66.0</td>\n    </tr>\n    <tr>\n      <th>4</th>\n      <td>Freaky Friday</td>\n      <td>Walt Disney Productions</td>\n      <td>United States</td>\n      <td>English</td>\n      <td>95.0</td>\n      <td>5000000.0</td>\n      <td>36000000.0</td>\n      <td>12/20/1976</td>\n      <td>6.2</td>\n      <td>70.0</td>\n      <td>...</td>\n      <td>Gary Nelson</td>\n      <td>Ron Miller</td>\n      <td>['Freaky Friday', 'by Mary Rodgers']</td>\n      <td>['Jodie Foster', 'Barbara Harris', 'John Astin']</td>\n      <td>Johnny Mandel</td>\n      <td>Buena Vista Distribution</td>\n      <td>Charles F. Wheeler</td>\n      <td>Cotton Warburton</td>\n      <td>Mary Rodgers</td>\n      <td>88.0</td>\n    </tr>\n  </tbody>\n</table>\n<p>5 rows × 21 columns</p>\n</div>"
     },
     "metadata": {},
     "execution_count": 84
    }
   ],
   "source": [
    "disney_.head()"
   ]
  },
  {
   "cell_type": "code",
   "execution_count": 247,
   "metadata": {},
   "outputs": [
    {
     "output_type": "execute_result",
     "data": {
      "text/plain": [
       "                                       title  all_ratings\n",
       "Release date                                             \n",
       "2/23/2017               Beauty and the Beast    89.666667\n",
       "3/11/2019                              Dumbo    88.666667\n",
       "8/27/1964                       Mary Poppins    88.666667\n",
       "7/9/2019                       The Lion King    88.666667\n",
       "10/29/1993    The Nightmare Before Christmas    85.666667"
      ],
      "text/html": "<div>\n<style scoped>\n    .dataframe tbody tr th:only-of-type {\n        vertical-align: middle;\n    }\n\n    .dataframe tbody tr th {\n        vertical-align: top;\n    }\n\n    .dataframe thead th {\n        text-align: right;\n    }\n</style>\n<table border=\"1\" class=\"dataframe\">\n  <thead>\n    <tr style=\"text-align: right;\">\n      <th></th>\n      <th>title</th>\n      <th>all_ratings</th>\n    </tr>\n    <tr>\n      <th>Release date</th>\n      <th></th>\n      <th></th>\n    </tr>\n  </thead>\n  <tbody>\n    <tr>\n      <th>2/23/2017</th>\n      <td>Beauty and the Beast</td>\n      <td>89.666667</td>\n    </tr>\n    <tr>\n      <th>3/11/2019</th>\n      <td>Dumbo</td>\n      <td>88.666667</td>\n    </tr>\n    <tr>\n      <th>8/27/1964</th>\n      <td>Mary Poppins</td>\n      <td>88.666667</td>\n    </tr>\n    <tr>\n      <th>7/9/2019</th>\n      <td>The Lion King</td>\n      <td>88.666667</td>\n    </tr>\n    <tr>\n      <th>10/29/1993</th>\n      <td>The Nightmare Before Christmas</td>\n      <td>85.666667</td>\n    </tr>\n  </tbody>\n</table>\n</div>"
     },
     "metadata": {},
     "execution_count": 247
    }
   ],
   "source": [
    "dates = disney_.groupby(by=['Release date'])[['title','all_ratings']].max().sort_values(by=['all_ratings'], ascending=False)\n",
    "dates['1/']"
   ]
  },
  {
   "cell_type": "code",
   "execution_count": 248,
   "metadata": {},
   "outputs": [
    {
     "output_type": "execute_result",
     "data": {
      "text/plain": [
       "str"
      ]
     },
     "metadata": {},
     "execution_count": 248
    }
   ],
   "source": [
    "type(disney_['Release date'][0])"
   ]
  },
  {
   "cell_type": "code",
   "execution_count": null,
   "metadata": {},
   "outputs": [],
   "source": []
  }
 ]
}