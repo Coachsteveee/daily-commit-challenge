{
 "cells": [
  {
   "cell_type": "markdown",
   "metadata": {},
   "source": [
    "# 1.\n",
    "import necessary libs"
   ]
  },
  {
   "cell_type": "code",
   "execution_count": 1,
   "metadata": {},
   "outputs": [],
   "source": [
    "#from pandas_datareader import data, wb\n",
    "\n",
    "import pandas as pd\n",
    "import numpy as np\n",
    "import matplotlib.pyplot as plt\n",
    "%matplotlib inline\n",
    "\n",
    "import seaborn as sns"
   ]
  },
  {
   "cell_type": "markdown",
   "metadata": {},
   "source": [
    "# 2.\n",
    "import dataset and set index serially"
   ]
  },
  {
   "cell_type": "code",
   "execution_count": 2,
   "metadata": {},
   "outputs": [],
   "source": [
    "disney  = pd.read_csv('disney_movies.csv', index_col=0)"
   ]
  },
  {
   "cell_type": "markdown",
   "metadata": {},
   "source": [
    "# 3.\n",
    "preview dataset"
   ]
  },
  {
   "cell_type": "code",
   "execution_count": 3,
   "metadata": {},
   "outputs": [
    {
     "data": {
      "text/html": [
       "<div>\n",
       "<style scoped>\n",
       "    .dataframe tbody tr th:only-of-type {\n",
       "        vertical-align: middle;\n",
       "    }\n",
       "\n",
       "    .dataframe tbody tr th {\n",
       "        vertical-align: top;\n",
       "    }\n",
       "\n",
       "    .dataframe thead th {\n",
       "        text-align: right;\n",
       "    }\n",
       "</style>\n",
       "<table border=\"1\" class=\"dataframe\">\n",
       "  <thead>\n",
       "    <tr style=\"text-align: right;\">\n",
       "      <th></th>\n",
       "      <th>title</th>\n",
       "      <th>Production company</th>\n",
       "      <th>Country</th>\n",
       "      <th>Language</th>\n",
       "      <th>Running time</th>\n",
       "      <th>Budget</th>\n",
       "      <th>Box office</th>\n",
       "      <th>Release date</th>\n",
       "      <th>imdb</th>\n",
       "      <th>metascore</th>\n",
       "      <th>rotten_tomatoes</th>\n",
       "      <th>Directed by</th>\n",
       "      <th>Produced by</th>\n",
       "      <th>Based on</th>\n",
       "      <th>Starring</th>\n",
       "      <th>Music by</th>\n",
       "      <th>Distributed by</th>\n",
       "      <th>Cinematography</th>\n",
       "      <th>Edited by</th>\n",
       "      <th>Screenplay by</th>\n",
       "    </tr>\n",
       "  </thead>\n",
       "  <tbody>\n",
       "    <tr>\n",
       "      <th>0</th>\n",
       "      <td>Academy Award Review of</td>\n",
       "      <td>Walt Disney Productions</td>\n",
       "      <td>United States</td>\n",
       "      <td>English</td>\n",
       "      <td>41.0</td>\n",
       "      <td>NaN</td>\n",
       "      <td>4.547200e+01</td>\n",
       "      <td>5/19/1937</td>\n",
       "      <td>7.2</td>\n",
       "      <td>NaN</td>\n",
       "      <td>NaN</td>\n",
       "      <td>NaN</td>\n",
       "      <td>NaN</td>\n",
       "      <td>NaN</td>\n",
       "      <td>NaN</td>\n",
       "      <td>NaN</td>\n",
       "      <td>NaN</td>\n",
       "      <td>NaN</td>\n",
       "      <td>NaN</td>\n",
       "      <td>NaN</td>\n",
       "    </tr>\n",
       "    <tr>\n",
       "      <th>1</th>\n",
       "      <td>Snow White and the Seven Dwarfs</td>\n",
       "      <td>Walt Disney Productions</td>\n",
       "      <td>United States</td>\n",
       "      <td>English</td>\n",
       "      <td>83.0</td>\n",
       "      <td>1490000.0</td>\n",
       "      <td>4.180000e+08</td>\n",
       "      <td>12/21/1937</td>\n",
       "      <td>7.6</td>\n",
       "      <td>95.0</td>\n",
       "      <td>NaN</td>\n",
       "      <td>['David Hand (supervising)', 'William Cottrell...</td>\n",
       "      <td>Walt Disney</td>\n",
       "      <td>['Snow White', 'by The', 'Brothers Grimm']</td>\n",
       "      <td>['Adriana Caselotti', 'Lucille La Verne', 'Har...</td>\n",
       "      <td>['Frank Churchill', 'Paul Smith', 'Leigh Harli...</td>\n",
       "      <td>RKO Radio Pictures</td>\n",
       "      <td>NaN</td>\n",
       "      <td>NaN</td>\n",
       "      <td>NaN</td>\n",
       "    </tr>\n",
       "    <tr>\n",
       "      <th>2</th>\n",
       "      <td>Pinocchio</td>\n",
       "      <td>Walt Disney Productions</td>\n",
       "      <td>United States</td>\n",
       "      <td>English</td>\n",
       "      <td>88.0</td>\n",
       "      <td>2600000.0</td>\n",
       "      <td>1.640000e+08</td>\n",
       "      <td>2/7/1940</td>\n",
       "      <td>7.4</td>\n",
       "      <td>99.0</td>\n",
       "      <td>73%</td>\n",
       "      <td>['Ben Sharpsteen', 'Hamilton Luske', 'Bill Rob...</td>\n",
       "      <td>Walt Disney</td>\n",
       "      <td>['The Adventures of Pinocchio', 'by', 'Carlo C...</td>\n",
       "      <td>['Cliff Edwards', 'Dickie Jones', 'Christian R...</td>\n",
       "      <td>['Leigh Harline', 'Paul J. Smith']</td>\n",
       "      <td>RKO Radio Pictures</td>\n",
       "      <td>NaN</td>\n",
       "      <td>NaN</td>\n",
       "      <td>NaN</td>\n",
       "    </tr>\n",
       "    <tr>\n",
       "      <th>3</th>\n",
       "      <td>Fantasia</td>\n",
       "      <td>Walt Disney Productions</td>\n",
       "      <td>United States</td>\n",
       "      <td>English</td>\n",
       "      <td>126.0</td>\n",
       "      <td>2280000.0</td>\n",
       "      <td>8.330000e+07</td>\n",
       "      <td>11/13/1940</td>\n",
       "      <td>7.7</td>\n",
       "      <td>96.0</td>\n",
       "      <td>95%</td>\n",
       "      <td>['Samuel Armstrong', 'James Algar', 'Bill Robe...</td>\n",
       "      <td>['Walt Disney', 'Ben Sharpsteen']</td>\n",
       "      <td>NaN</td>\n",
       "      <td>['Leopold Stokowski', 'Deems Taylor']</td>\n",
       "      <td>See program</td>\n",
       "      <td>RKO Radio Pictures</td>\n",
       "      <td>James Wong Howe</td>\n",
       "      <td>NaN</td>\n",
       "      <td>NaN</td>\n",
       "    </tr>\n",
       "    <tr>\n",
       "      <th>4</th>\n",
       "      <td>The Reluctant Dragon</td>\n",
       "      <td>Walt Disney Productions</td>\n",
       "      <td>United States</td>\n",
       "      <td>English</td>\n",
       "      <td>74.0</td>\n",
       "      <td>600000.0</td>\n",
       "      <td>9.600000e+05</td>\n",
       "      <td>6/20/1941</td>\n",
       "      <td>6.9</td>\n",
       "      <td>NaN</td>\n",
       "      <td>68%</td>\n",
       "      <td>['Alfred Werker', '(live action)', 'Hamilton L...</td>\n",
       "      <td>Walt Disney</td>\n",
       "      <td>NaN</td>\n",
       "      <td>['Robert Benchley', 'Frances Gifford', 'Buddy ...</td>\n",
       "      <td>['Frank Churchill', 'Larry Morey']</td>\n",
       "      <td>RKO Radio Pictures</td>\n",
       "      <td>Bert Giennon</td>\n",
       "      <td>Paul Weatherwax</td>\n",
       "      <td>NaN</td>\n",
       "    </tr>\n",
       "  </tbody>\n",
       "</table>\n",
       "</div>"
      ],
      "text/plain": [
       "                             title       Production company        Country  \\\n",
       "0          Academy Award Review of  Walt Disney Productions  United States   \n",
       "1  Snow White and the Seven Dwarfs  Walt Disney Productions  United States   \n",
       "2                        Pinocchio  Walt Disney Productions  United States   \n",
       "3                         Fantasia  Walt Disney Productions  United States   \n",
       "4             The Reluctant Dragon  Walt Disney Productions  United States   \n",
       "\n",
       "  Language  Running time     Budget    Box office Release date  imdb  \\\n",
       "0  English          41.0        NaN  4.547200e+01    5/19/1937   7.2   \n",
       "1  English          83.0  1490000.0  4.180000e+08   12/21/1937   7.6   \n",
       "2  English          88.0  2600000.0  1.640000e+08     2/7/1940   7.4   \n",
       "3  English         126.0  2280000.0  8.330000e+07   11/13/1940   7.7   \n",
       "4  English          74.0   600000.0  9.600000e+05    6/20/1941   6.9   \n",
       "\n",
       "   metascore rotten_tomatoes  \\\n",
       "0        NaN             NaN   \n",
       "1       95.0             NaN   \n",
       "2       99.0             73%   \n",
       "3       96.0             95%   \n",
       "4        NaN             68%   \n",
       "\n",
       "                                         Directed by  \\\n",
       "0                                                NaN   \n",
       "1  ['David Hand (supervising)', 'William Cottrell...   \n",
       "2  ['Ben Sharpsteen', 'Hamilton Luske', 'Bill Rob...   \n",
       "3  ['Samuel Armstrong', 'James Algar', 'Bill Robe...   \n",
       "4  ['Alfred Werker', '(live action)', 'Hamilton L...   \n",
       "\n",
       "                         Produced by  \\\n",
       "0                                NaN   \n",
       "1                        Walt Disney   \n",
       "2                        Walt Disney   \n",
       "3  ['Walt Disney', 'Ben Sharpsteen']   \n",
       "4                        Walt Disney   \n",
       "\n",
       "                                            Based on  \\\n",
       "0                                                NaN   \n",
       "1         ['Snow White', 'by The', 'Brothers Grimm']   \n",
       "2  ['The Adventures of Pinocchio', 'by', 'Carlo C...   \n",
       "3                                                NaN   \n",
       "4                                                NaN   \n",
       "\n",
       "                                            Starring  \\\n",
       "0                                                NaN   \n",
       "1  ['Adriana Caselotti', 'Lucille La Verne', 'Har...   \n",
       "2  ['Cliff Edwards', 'Dickie Jones', 'Christian R...   \n",
       "3              ['Leopold Stokowski', 'Deems Taylor']   \n",
       "4  ['Robert Benchley', 'Frances Gifford', 'Buddy ...   \n",
       "\n",
       "                                            Music by      Distributed by  \\\n",
       "0                                                NaN                 NaN   \n",
       "1  ['Frank Churchill', 'Paul Smith', 'Leigh Harli...  RKO Radio Pictures   \n",
       "2                 ['Leigh Harline', 'Paul J. Smith']  RKO Radio Pictures   \n",
       "3                                        See program  RKO Radio Pictures   \n",
       "4                 ['Frank Churchill', 'Larry Morey']  RKO Radio Pictures   \n",
       "\n",
       "    Cinematography        Edited by Screenplay by  \n",
       "0              NaN              NaN           NaN  \n",
       "1              NaN              NaN           NaN  \n",
       "2              NaN              NaN           NaN  \n",
       "3  James Wong Howe              NaN           NaN  \n",
       "4     Bert Giennon  Paul Weatherwax           NaN  "
      ]
     },
     "execution_count": 3,
     "metadata": {},
     "output_type": "execute_result"
    }
   ],
   "source": [
    "#.head() shows first 5 rows of the dataset\n",
    "\n",
    "disney.head()"
   ]
  },
  {
   "cell_type": "code",
   "execution_count": 4,
   "metadata": {},
   "outputs": [
    {
     "name": "stdout",
     "output_type": "stream",
     "text": [
      "<class 'pandas.core.frame.DataFrame'>\n",
      "Int64Index: 444 entries, 0 to 443\n",
      "Data columns (total 20 columns):\n",
      " #   Column              Non-Null Count  Dtype  \n",
      "---  ------              --------------  -----  \n",
      " 0   title               444 non-null    object \n",
      " 1   Production company  399 non-null    object \n",
      " 2   Country             441 non-null    object \n",
      " 3   Language            443 non-null    object \n",
      " 4   Running time        430 non-null    float64\n",
      " 5   Budget              278 non-null    float64\n",
      " 6   Box office          358 non-null    float64\n",
      " 7   Release date        435 non-null    object \n",
      " 8   imdb                424 non-null    float64\n",
      " 9   metascore           293 non-null    float64\n",
      " 10  rotten_tomatoes     391 non-null    object \n",
      " 11  Directed by         443 non-null    object \n",
      " 12  Produced by         435 non-null    object \n",
      " 13  Based on            221 non-null    object \n",
      " 14  Starring            409 non-null    object \n",
      " 15  Music by            433 non-null    object \n",
      " 16  Distributed by      441 non-null    object \n",
      " 17  Cinematography      352 non-null    object \n",
      " 18  Edited by           404 non-null    object \n",
      " 19  Screenplay by       204 non-null    object \n",
      "dtypes: float64(5), object(15)\n",
      "memory usage: 72.8+ KB\n"
     ]
    }
   ],
   "source": [
    "#so we have 20 cols and about 440+ rows quite large\n",
    "\n",
    "disney.info()"
   ]
  },
  {
   "cell_type": "markdown",
   "metadata": {},
   "source": [
    "# 4 \n",
    "find total number of NaN values, this filters out values that cant be worked\n"
   ]
  },
  {
   "cell_type": "code",
   "execution_count": 5,
   "metadata": {},
   "outputs": [
    {
     "data": {
      "text/plain": [
       "1202"
      ]
     },
     "execution_count": 5,
     "metadata": {},
     "output_type": "execute_result"
    }
   ],
   "source": [
    "missing_val = disney.isnull().sum()\n",
    "\n",
    "missing_val.sum()"
   ]
  },
  {
   "cell_type": "markdown",
   "metadata": {},
   "source": [
    "# 5. \n",
    "drop NaN values.\n",
    "\n",
    "we drop NAN values to make a complete dataset we can work with\n",
    "\n",
    "as a result we managed to get 53 rows, the `dropna()` really sizes the dataset down "
   ]
  },
  {
   "cell_type": "code",
   "execution_count": 6,
   "metadata": {},
   "outputs": [
    {
     "name": "stdout",
     "output_type": "stream",
     "text": [
      "<class 'pandas.core.frame.DataFrame'>\n",
      "RangeIndex: 53 entries, 0 to 52\n",
      "Data columns (total 20 columns):\n",
      " #   Column              Non-Null Count  Dtype  \n",
      "---  ------              --------------  -----  \n",
      " 0   title               53 non-null     object \n",
      " 1   Production company  53 non-null     object \n",
      " 2   Country             53 non-null     object \n",
      " 3   Language            53 non-null     object \n",
      " 4   Running time        53 non-null     float64\n",
      " 5   Budget              53 non-null     float64\n",
      " 6   Box office          53 non-null     float64\n",
      " 7   Release date        53 non-null     object \n",
      " 8   imdb                53 non-null     float64\n",
      " 9   metascore           53 non-null     float64\n",
      " 10  rotten_tomatoes     53 non-null     object \n",
      " 11  Directed by         53 non-null     object \n",
      " 12  Produced by         53 non-null     object \n",
      " 13  Based on            53 non-null     object \n",
      " 14  Starring            53 non-null     object \n",
      " 15  Music by            53 non-null     object \n",
      " 16  Distributed by      53 non-null     object \n",
      " 17  Cinematography      53 non-null     object \n",
      " 18  Edited by           53 non-null     object \n",
      " 19  Screenplay by       53 non-null     object \n",
      "dtypes: float64(5), object(15)\n",
      "memory usage: 8.4+ KB\n"
     ]
    }
   ],
   "source": [
    "disney_ = disney.dropna().reset_index(drop = True)\n",
    "\n",
    "disney_.info()"
   ]
  },
  {
   "cell_type": "markdown",
   "metadata": {},
   "source": [
    "# 6\n",
    "formatting the rotten_tomatoes and imdb ratings columns"
   ]
  },
  {
   "cell_type": "code",
   "execution_count": 7,
   "metadata": {},
   "outputs": [
    {
     "data": {
      "text/plain": [
       "[50.0, 89.0, 100.0, 66.0, 88.0]"
      ]
     },
     "execution_count": 7,
     "metadata": {},
     "output_type": "execute_result"
    }
   ],
   "source": [
    "#this converts rotten_tomatoes ratings from string to float\n",
    "rt = []\n",
    "\n",
    "for i in disney_['rotten_tomatoes']:\n",
    "    y = list(i)\n",
    "    y.remove('%')\n",
    "    z = ''.join(y)\n",
    "    rt.append(float(z))\n",
    "\n",
    "rt[:5]"
   ]
  },
  {
   "cell_type": "code",
   "execution_count": 8,
   "metadata": {},
   "outputs": [
    {
     "data": {
      "text/plain": [
       "0     50.0\n",
       "1     89.0\n",
       "2    100.0\n",
       "3     66.0\n",
       "4     88.0\n",
       "Name: rotten_tomatoes2, dtype: float64"
      ]
     },
     "execution_count": 8,
     "metadata": {},
     "output_type": "execute_result"
    }
   ],
   "source": [
    "disney_['rotten_tomatoes2'] = pd.Series(rt, index=range(0,len(rt)))\n",
    "\n",
    "\n",
    "disney_.rotten_tomatoes2.head()"
   ]
  },
  {
   "cell_type": "code",
   "execution_count": 9,
   "metadata": {},
   "outputs": [
    {
     "data": {
      "text/plain": [
       "[71.0, 72.0, 78.0, 71.0, 62.0]"
      ]
     },
     "execution_count": 9,
     "metadata": {},
     "output_type": "execute_result"
    }
   ],
   "source": [
    "#this converts imdbs ratings to 10x, so calculation of min,max rated movies are easier\n",
    "imdb = []\n",
    "\n",
    "for x in disney_['imdb']:\n",
    "    y = x * 10\n",
    "    imdb.append(y)\n",
    "\n",
    "imdb[:5]"
   ]
  },
  {
   "cell_type": "code",
   "execution_count": 10,
   "metadata": {},
   "outputs": [
    {
     "data": {
      "text/plain": [
       "0    71.0\n",
       "1    72.0\n",
       "2    78.0\n",
       "3    71.0\n",
       "4    62.0\n",
       "Name: imdb2, dtype: float64"
      ]
     },
     "execution_count": 10,
     "metadata": {},
     "output_type": "execute_result"
    }
   ],
   "source": [
    "disney_['imdb2'] = pd.Series(imdb, index=range(0,len(imdb)))\n",
    "\n",
    "disney_['imdb2'].head()"
   ]
  },
  {
   "cell_type": "markdown",
   "metadata": {},
   "source": [
    "# 7 \n",
    "by using `.groupby()` method, we can see that we have each score from the three ratings but if we want to calculate the average of all these scores, it is much harder thus the ratings are all grouped into one"
   ]
  },
  {
   "cell_type": "code",
   "execution_count": 11,
   "metadata": {},
   "outputs": [
    {
     "data": {
      "text/html": [
       "<div>\n",
       "<style scoped>\n",
       "    .dataframe tbody tr th:only-of-type {\n",
       "        vertical-align: middle;\n",
       "    }\n",
       "\n",
       "    .dataframe tbody tr th {\n",
       "        vertical-align: top;\n",
       "    }\n",
       "\n",
       "    .dataframe thead th {\n",
       "        text-align: right;\n",
       "    }\n",
       "</style>\n",
       "<table border=\"1\" class=\"dataframe\">\n",
       "  <thead>\n",
       "    <tr style=\"text-align: right;\">\n",
       "      <th></th>\n",
       "      <th>metascore</th>\n",
       "      <th>rotten_tomatoes2</th>\n",
       "      <th>imdb2</th>\n",
       "    </tr>\n",
       "    <tr>\n",
       "      <th>title</th>\n",
       "      <th></th>\n",
       "      <th></th>\n",
       "      <th></th>\n",
       "    </tr>\n",
       "  </thead>\n",
       "  <tbody>\n",
       "    <tr>\n",
       "      <th>Dumbo</th>\n",
       "      <td>96.0</td>\n",
       "      <td>98.0</td>\n",
       "      <td>72.0</td>\n",
       "    </tr>\n",
       "    <tr>\n",
       "      <th>Beauty and the Beast</th>\n",
       "      <td>95.0</td>\n",
       "      <td>94.0</td>\n",
       "      <td>80.0</td>\n",
       "    </tr>\n",
       "    <tr>\n",
       "      <th>The Lion King</th>\n",
       "      <td>88.0</td>\n",
       "      <td>93.0</td>\n",
       "      <td>85.0</td>\n",
       "    </tr>\n",
       "    <tr>\n",
       "      <th>Mary Poppins</th>\n",
       "      <td>88.0</td>\n",
       "      <td>100.0</td>\n",
       "      <td>78.0</td>\n",
       "    </tr>\n",
       "    <tr>\n",
       "      <th>20,000 Leagues Under the Sea</th>\n",
       "      <td>83.0</td>\n",
       "      <td>89.0</td>\n",
       "      <td>72.0</td>\n",
       "    </tr>\n",
       "  </tbody>\n",
       "</table>\n",
       "</div>"
      ],
      "text/plain": [
       "                              metascore  rotten_tomatoes2  imdb2\n",
       "title                                                           \n",
       "Dumbo                              96.0              98.0   72.0\n",
       "Beauty and the Beast               95.0              94.0   80.0\n",
       "The Lion King                      88.0              93.0   85.0\n",
       "Mary Poppins                       88.0             100.0   78.0\n",
       "20,000 Leagues Under the Sea       83.0              89.0   72.0"
      ]
     },
     "execution_count": 11,
     "metadata": {},
     "output_type": "execute_result"
    }
   ],
   "source": [
    "disney_.groupby(by=['title'])[['metascore','rotten_tomatoes2','imdb2']].min().sort_values(by='metascore', ascending=False).head()"
   ]
  },
  {
   "cell_type": "markdown",
   "metadata": {},
   "source": [
    "# 8\n",
    "first make an average rating of all ratings (`metascore`, `imdb` and `rotten_tomatoes`) included in the dataset call it `avg_ratings`"
   ]
  },
  {
   "cell_type": "code",
   "execution_count": 12,
   "metadata": {},
   "outputs": [
    {
     "data": {
      "text/html": [
       "<div>\n",
       "<style scoped>\n",
       "    .dataframe tbody tr th:only-of-type {\n",
       "        vertical-align: middle;\n",
       "    }\n",
       "\n",
       "    .dataframe tbody tr th {\n",
       "        vertical-align: top;\n",
       "    }\n",
       "\n",
       "    .dataframe thead th {\n",
       "        text-align: right;\n",
       "    }\n",
       "</style>\n",
       "<table border=\"1\" class=\"dataframe\">\n",
       "  <thead>\n",
       "    <tr style=\"text-align: right;\">\n",
       "      <th></th>\n",
       "      <th>title</th>\n",
       "      <th>Production company</th>\n",
       "      <th>Country</th>\n",
       "      <th>Language</th>\n",
       "      <th>Running time</th>\n",
       "      <th>Budget</th>\n",
       "      <th>Box office</th>\n",
       "      <th>Release date</th>\n",
       "      <th>imdb</th>\n",
       "      <th>metascore</th>\n",
       "      <th>...</th>\n",
       "      <th>Based on</th>\n",
       "      <th>Starring</th>\n",
       "      <th>Music by</th>\n",
       "      <th>Distributed by</th>\n",
       "      <th>Cinematography</th>\n",
       "      <th>Edited by</th>\n",
       "      <th>Screenplay by</th>\n",
       "      <th>rotten_tomatoes2</th>\n",
       "      <th>imdb2</th>\n",
       "      <th>avg_ratings</th>\n",
       "    </tr>\n",
       "  </thead>\n",
       "  <tbody>\n",
       "    <tr>\n",
       "      <th>0</th>\n",
       "      <td>Song of the South</td>\n",
       "      <td>Walt Disney Productions</td>\n",
       "      <td>United States</td>\n",
       "      <td>English</td>\n",
       "      <td>94.0</td>\n",
       "      <td>2125000.0</td>\n",
       "      <td>65000000.0</td>\n",
       "      <td>11/12/1946</td>\n",
       "      <td>7.1</td>\n",
       "      <td>54.0</td>\n",
       "      <td>...</td>\n",
       "      <td>['Uncle Remus', 'by', 'Joel Chandler Harris']</td>\n",
       "      <td>['James Baskett', 'Bobby Driscoll', 'Luana Pat...</td>\n",
       "      <td>['Edward Plumb', 'Daniele Amfitheatrof', 'Paul...</td>\n",
       "      <td>RKO Radio Pictures</td>\n",
       "      <td>Gregg Toland</td>\n",
       "      <td>William M. Morgan</td>\n",
       "      <td>['Live action:', 'Morton Grant', 'Maurice Rapf...</td>\n",
       "      <td>50.0</td>\n",
       "      <td>71.0</td>\n",
       "      <td>58.333333</td>\n",
       "    </tr>\n",
       "    <tr>\n",
       "      <th>1</th>\n",
       "      <td>20,000 Leagues Under the Sea</td>\n",
       "      <td>Walt Disney Productions</td>\n",
       "      <td>United States</td>\n",
       "      <td>English</td>\n",
       "      <td>127.0</td>\n",
       "      <td>5000000.0</td>\n",
       "      <td>28200000.0</td>\n",
       "      <td>12/23/1954</td>\n",
       "      <td>7.2</td>\n",
       "      <td>83.0</td>\n",
       "      <td>...</td>\n",
       "      <td>['Twenty Thousand Leagues Under the Sea', 'by'...</td>\n",
       "      <td>['Kirk Douglas', 'James Mason', 'Paul Lukas', ...</td>\n",
       "      <td>['Paul Smith', 'Joseph S. Dubin', '(orchestrat...</td>\n",
       "      <td>Buena Vista Distribution</td>\n",
       "      <td>Franz Planer</td>\n",
       "      <td>Elmo Williams</td>\n",
       "      <td>Earl Felton</td>\n",
       "      <td>89.0</td>\n",
       "      <td>72.0</td>\n",
       "      <td>81.333333</td>\n",
       "    </tr>\n",
       "    <tr>\n",
       "      <th>2</th>\n",
       "      <td>Mary Poppins</td>\n",
       "      <td>Walt Disney Productions</td>\n",
       "      <td>United States</td>\n",
       "      <td>English</td>\n",
       "      <td>139.0</td>\n",
       "      <td>4.4</td>\n",
       "      <td>103100000.0</td>\n",
       "      <td>8/27/1964</td>\n",
       "      <td>7.8</td>\n",
       "      <td>88.0</td>\n",
       "      <td>...</td>\n",
       "      <td>['Mary Poppins', 'by', 'P. L. Travers']</td>\n",
       "      <td>['Julie Andrews', 'Dick Van Dyke', 'David Toml...</td>\n",
       "      <td>['Richard M. Sherman', 'Robert B. Sherman']</td>\n",
       "      <td>Buena Vista Distribution</td>\n",
       "      <td>Edward Colman</td>\n",
       "      <td>Cotton Warburton</td>\n",
       "      <td>['Bill Walsh', 'Don DaGradi']</td>\n",
       "      <td>100.0</td>\n",
       "      <td>78.0</td>\n",
       "      <td>88.666667</td>\n",
       "    </tr>\n",
       "    <tr>\n",
       "      <th>3</th>\n",
       "      <td>Bedknobs and Broomsticks</td>\n",
       "      <td>Walt Disney Productions</td>\n",
       "      <td>United States</td>\n",
       "      <td>English</td>\n",
       "      <td>118.0</td>\n",
       "      <td>6300000.0</td>\n",
       "      <td>17900000.0</td>\n",
       "      <td>10/7/1971</td>\n",
       "      <td>7.1</td>\n",
       "      <td>59.0</td>\n",
       "      <td>...</td>\n",
       "      <td>['The Magic Bedknob', '&amp;', 'Bonfires and Broom...</td>\n",
       "      <td>['Angela Lansbury', 'David Tomlinson', 'John E...</td>\n",
       "      <td>Irwin Kostal</td>\n",
       "      <td>Buena Vista Distribution</td>\n",
       "      <td>Frank V. Phillips</td>\n",
       "      <td>Cotton Warburton</td>\n",
       "      <td>['Bill Walsh', 'Don DaGradi']</td>\n",
       "      <td>66.0</td>\n",
       "      <td>71.0</td>\n",
       "      <td>65.333333</td>\n",
       "    </tr>\n",
       "    <tr>\n",
       "      <th>4</th>\n",
       "      <td>Freaky Friday</td>\n",
       "      <td>Walt Disney Productions</td>\n",
       "      <td>United States</td>\n",
       "      <td>English</td>\n",
       "      <td>95.0</td>\n",
       "      <td>5000000.0</td>\n",
       "      <td>36000000.0</td>\n",
       "      <td>12/20/1976</td>\n",
       "      <td>6.2</td>\n",
       "      <td>70.0</td>\n",
       "      <td>...</td>\n",
       "      <td>['Freaky Friday', 'by Mary Rodgers']</td>\n",
       "      <td>['Jodie Foster', 'Barbara Harris', 'John Astin']</td>\n",
       "      <td>Johnny Mandel</td>\n",
       "      <td>Buena Vista Distribution</td>\n",
       "      <td>Charles F. Wheeler</td>\n",
       "      <td>Cotton Warburton</td>\n",
       "      <td>Mary Rodgers</td>\n",
       "      <td>88.0</td>\n",
       "      <td>62.0</td>\n",
       "      <td>73.333333</td>\n",
       "    </tr>\n",
       "  </tbody>\n",
       "</table>\n",
       "<p>5 rows × 23 columns</p>\n",
       "</div>"
      ],
      "text/plain": [
       "                          title       Production company        Country  \\\n",
       "0             Song of the South  Walt Disney Productions  United States   \n",
       "1  20,000 Leagues Under the Sea  Walt Disney Productions  United States   \n",
       "2                  Mary Poppins  Walt Disney Productions  United States   \n",
       "3      Bedknobs and Broomsticks  Walt Disney Productions  United States   \n",
       "4                 Freaky Friday  Walt Disney Productions  United States   \n",
       "\n",
       "  Language  Running time     Budget   Box office Release date  imdb  \\\n",
       "0  English          94.0  2125000.0   65000000.0   11/12/1946   7.1   \n",
       "1  English         127.0  5000000.0   28200000.0   12/23/1954   7.2   \n",
       "2  English         139.0        4.4  103100000.0    8/27/1964   7.8   \n",
       "3  English         118.0  6300000.0   17900000.0    10/7/1971   7.1   \n",
       "4  English          95.0  5000000.0   36000000.0   12/20/1976   6.2   \n",
       "\n",
       "   metascore  ...                                           Based on  \\\n",
       "0       54.0  ...      ['Uncle Remus', 'by', 'Joel Chandler Harris']   \n",
       "1       83.0  ...  ['Twenty Thousand Leagues Under the Sea', 'by'...   \n",
       "2       88.0  ...            ['Mary Poppins', 'by', 'P. L. Travers']   \n",
       "3       59.0  ...  ['The Magic Bedknob', '&', 'Bonfires and Broom...   \n",
       "4       70.0  ...               ['Freaky Friday', 'by Mary Rodgers']   \n",
       "\n",
       "                                            Starring  \\\n",
       "0  ['James Baskett', 'Bobby Driscoll', 'Luana Pat...   \n",
       "1  ['Kirk Douglas', 'James Mason', 'Paul Lukas', ...   \n",
       "2  ['Julie Andrews', 'Dick Van Dyke', 'David Toml...   \n",
       "3  ['Angela Lansbury', 'David Tomlinson', 'John E...   \n",
       "4   ['Jodie Foster', 'Barbara Harris', 'John Astin']   \n",
       "\n",
       "                                            Music by  \\\n",
       "0  ['Edward Plumb', 'Daniele Amfitheatrof', 'Paul...   \n",
       "1  ['Paul Smith', 'Joseph S. Dubin', '(orchestrat...   \n",
       "2        ['Richard M. Sherman', 'Robert B. Sherman']   \n",
       "3                                       Irwin Kostal   \n",
       "4                                      Johnny Mandel   \n",
       "\n",
       "             Distributed by      Cinematography          Edited by  \\\n",
       "0        RKO Radio Pictures        Gregg Toland  William M. Morgan   \n",
       "1  Buena Vista Distribution        Franz Planer      Elmo Williams   \n",
       "2  Buena Vista Distribution       Edward Colman   Cotton Warburton   \n",
       "3  Buena Vista Distribution   Frank V. Phillips   Cotton Warburton   \n",
       "4  Buena Vista Distribution  Charles F. Wheeler   Cotton Warburton   \n",
       "\n",
       "                                       Screenplay by rotten_tomatoes2 imdb2  \\\n",
       "0  ['Live action:', 'Morton Grant', 'Maurice Rapf...             50.0  71.0   \n",
       "1                                        Earl Felton             89.0  72.0   \n",
       "2                      ['Bill Walsh', 'Don DaGradi']            100.0  78.0   \n",
       "3                      ['Bill Walsh', 'Don DaGradi']             66.0  71.0   \n",
       "4                                       Mary Rodgers             88.0  62.0   \n",
       "\n",
       "  avg_ratings  \n",
       "0   58.333333  \n",
       "1   81.333333  \n",
       "2   88.666667  \n",
       "3   65.333333  \n",
       "4   73.333333  \n",
       "\n",
       "[5 rows x 23 columns]"
      ]
     },
     "execution_count": 12,
     "metadata": {},
     "output_type": "execute_result"
    }
   ],
   "source": [
    "disney_['avg_ratings'] = (disney_.metascore + disney_.rotten_tomatoes2 + disney_.imdb2)/3\n",
    "\n",
    "disney_.head()"
   ]
  },
  {
   "cell_type": "markdown",
   "metadata": {},
   "source": [
    "# 9\n",
    "groupby() once again is used for grouping the `avg_ratings` and `title` columns, now we can get the top movies"
   ]
  },
  {
   "cell_type": "code",
   "execution_count": 13,
   "metadata": {},
   "outputs": [
    {
     "data": {
      "text/html": [
       "<div>\n",
       "<style scoped>\n",
       "    .dataframe tbody tr th:only-of-type {\n",
       "        vertical-align: middle;\n",
       "    }\n",
       "\n",
       "    .dataframe tbody tr th {\n",
       "        vertical-align: top;\n",
       "    }\n",
       "\n",
       "    .dataframe thead th {\n",
       "        text-align: right;\n",
       "    }\n",
       "</style>\n",
       "<table border=\"1\" class=\"dataframe\">\n",
       "  <thead>\n",
       "    <tr style=\"text-align: right;\">\n",
       "      <th></th>\n",
       "      <th>avg_ratings</th>\n",
       "    </tr>\n",
       "    <tr>\n",
       "      <th>title</th>\n",
       "      <th></th>\n",
       "    </tr>\n",
       "  </thead>\n",
       "  <tbody>\n",
       "    <tr>\n",
       "      <th>Beauty and the Beast</th>\n",
       "      <td>89.666667</td>\n",
       "    </tr>\n",
       "    <tr>\n",
       "      <th>Mary Poppins</th>\n",
       "      <td>88.666667</td>\n",
       "    </tr>\n",
       "    <tr>\n",
       "      <th>The Lion King</th>\n",
       "      <td>88.666667</td>\n",
       "    </tr>\n",
       "    <tr>\n",
       "      <th>Dumbo</th>\n",
       "      <td>88.666667</td>\n",
       "    </tr>\n",
       "    <tr>\n",
       "      <th>The Nightmare Before Christmas</th>\n",
       "      <td>85.666667</td>\n",
       "    </tr>\n",
       "  </tbody>\n",
       "</table>\n",
       "</div>"
      ],
      "text/plain": [
       "                                avg_ratings\n",
       "title                                      \n",
       "Beauty and the Beast              89.666667\n",
       "Mary Poppins                      88.666667\n",
       "The Lion King                     88.666667\n",
       "Dumbo                             88.666667\n",
       "The Nightmare Before Christmas    85.666667"
      ]
     },
     "execution_count": 13,
     "metadata": {},
     "output_type": "execute_result"
    }
   ],
   "source": [
    "highestrated = disney_.groupby(by=['title'])[['avg_ratings']].max().sort_values(by='avg_ratings', ascending=False)\n",
    "\n",
    "highestrated.iloc[:5]"
   ]
  },
  {
   "cell_type": "markdown",
   "metadata": {},
   "source": [
    "# 10\n",
    "we can now get the lowest rated movies as well based off of `avg_ratings`"
   ]
  },
  {
   "cell_type": "code",
   "execution_count": 14,
   "metadata": {},
   "outputs": [
    {
     "data": {
      "text/html": [
       "<div>\n",
       "<style scoped>\n",
       "    .dataframe tbody tr th:only-of-type {\n",
       "        vertical-align: middle;\n",
       "    }\n",
       "\n",
       "    .dataframe tbody tr th {\n",
       "        vertical-align: top;\n",
       "    }\n",
       "\n",
       "    .dataframe thead th {\n",
       "        text-align: right;\n",
       "    }\n",
       "</style>\n",
       "<table border=\"1\" class=\"dataframe\">\n",
       "  <thead>\n",
       "    <tr style=\"text-align: right;\">\n",
       "      <th></th>\n",
       "      <th>avg_ratings</th>\n",
       "    </tr>\n",
       "    <tr>\n",
       "      <th>title</th>\n",
       "      <th></th>\n",
       "    </tr>\n",
       "  </thead>\n",
       "  <tbody>\n",
       "    <tr>\n",
       "      <th>Confessions of a Teenage Drama Queen</th>\n",
       "      <td>31.333333</td>\n",
       "    </tr>\n",
       "    <tr>\n",
       "      <th>Flubber</th>\n",
       "      <td>38.000000</td>\n",
       "    </tr>\n",
       "    <tr>\n",
       "      <th>The Three Musketeers</th>\n",
       "      <td>39.333333</td>\n",
       "    </tr>\n",
       "    <tr>\n",
       "      <th>The Lone Ranger</th>\n",
       "      <td>43.666667</td>\n",
       "    </tr>\n",
       "    <tr>\n",
       "      <th>Pirates of the Caribbean: Dead Men Tell No Tales</th>\n",
       "      <td>44.333333</td>\n",
       "    </tr>\n",
       "  </tbody>\n",
       "</table>\n",
       "</div>"
      ],
      "text/plain": [
       "                                                  avg_ratings\n",
       "title                                                        \n",
       "Confessions of a Teenage Drama Queen                31.333333\n",
       "Flubber                                             38.000000\n",
       "The Three Musketeers                                39.333333\n",
       "The Lone Ranger                                     43.666667\n",
       "Pirates of the Caribbean: Dead Men Tell No Tales    44.333333"
      ]
     },
     "execution_count": 14,
     "metadata": {},
     "output_type": "execute_result"
    }
   ],
   "source": [
    "lowestrated = disney_.groupby(by=['title'])[['avg_ratings']].min().sort_values(by='avg_ratings')\n",
    "\n",
    "lowestrated.iloc[:5]"
   ]
  },
  {
   "cell_type": "markdown",
   "metadata": {},
   "source": [
    "# 11\n",
    "kdeplot shows the density of values, with the most concentrated ratings ranging from the 50s to 60s, this tells us most movies were actually quite mid. this is a good thing not good or bad hh\n",
    "\n",
    "also seaborn lib here is for visualization, we found top and lowest rated movies, but the chart gives more insight here.\n",
    "\n",
    "from the chart, `imdb` ratings have a high density ranging from 40s to 90s regions\n",
    "\n",
    "`metascore` ranging from 20s to 100s\n",
    "\n",
    "and `rotten_tomatoes2` from 0s to 100s"
   ]
  },
  {
   "cell_type": "code",
   "execution_count": 15,
   "metadata": {},
   "outputs": [
    {
     "data": {
      "text/plain": [
       "<AxesSubplot:xlabel='Ratings', ylabel='Density'>"
      ]
     },
     "execution_count": 15,
     "metadata": {},
     "output_type": "execute_result"
    },
    {
     "data": {
      "image/png": "[encoded data removed]",
      "text/plain": [
       "<Figure size 432x288 with 1 Axes>"
      ]
     },
     "metadata": {
      "needs_background": "light"
     },
     "output_type": "display_data"
    }
   ],
   "source": [
    "disney_['avg_ratings']\n",
    "\n",
    "\n",
    "plt.xlabel('Ratings')\n",
    "\n",
    "sns.kdeplot(disney_['imdb2'], color='green', shade=True, cbar=True)\n",
    "sns.kdeplot(disney_['metascore'], color='blue', shade=True, cbar=True)\n",
    "sns.kdeplot(disney_['rotten_tomatoes2'], color='red', shade=True, cbar=True)\n",
    "\n"
   ]
  },
  {
   "cell_type": "markdown",
   "metadata": {},
   "source": [
    "# 12\n",
    " the combination of the 3 kdpelots look messy, using the `avg_ratings` column we should get a better outlook of where the density of valuea re most concentrated in \n",
    "\n",
    " and that is exactly the case, we get most of the density between 50s and 70s and now we can locate which movies fall between those ranges."
   ]
  },
  {
   "cell_type": "code",
   "execution_count": 16,
   "metadata": {},
   "outputs": [
    {
     "data": {
      "text/plain": [
       "<AxesSubplot:xlabel='AVERAGE RATINGS', ylabel='Count'>"
      ]
     },
     "execution_count": 16,
     "metadata": {},
     "output_type": "execute_result"
    },
    {
     "data": {
      "image/png": "[encoded data removed]",
      "text/plain": [
       "<Figure size 432x288 with 1 Axes>"
      ]
     },
     "metadata": {
      "needs_background": "light"
     },
     "output_type": "display_data"
    }
   ],
   "source": [
    "plt.xlabel('AVERAGE RATINGS')\n",
    "sns.histplot(disney_['avg_ratings'], color='purple', kde=True, bins=20)"
   ]
  },
  {
   "cell_type": "markdown",
   "metadata": {},
   "source": [
    "# 13\n",
    "we never got what mid movies would be like because we could not create a criteria for what the ratings would be.\n",
    "\n",
    "with the help of the maps, we now get the idea that they fall within 50s-70s of the `avg_ratings`. \n",
    "\n",
    "total of 20 movies are found"
   ]
  },
  {
   "cell_type": "code",
   "execution_count": 17,
   "metadata": {},
   "outputs": [
    {
     "data": {
      "text/html": [
       "<div>\n",
       "<style scoped>\n",
       "    .dataframe tbody tr th:only-of-type {\n",
       "        vertical-align: middle;\n",
       "    }\n",
       "\n",
       "    .dataframe tbody tr th {\n",
       "        vertical-align: top;\n",
       "    }\n",
       "\n",
       "    .dataframe thead th {\n",
       "        text-align: right;\n",
       "    }\n",
       "</style>\n",
       "<table border=\"1\" class=\"dataframe\">\n",
       "  <thead>\n",
       "    <tr style=\"text-align: right;\">\n",
       "      <th></th>\n",
       "      <th>avg_ratings</th>\n",
       "    </tr>\n",
       "    <tr>\n",
       "      <th>title</th>\n",
       "      <th></th>\n",
       "    </tr>\n",
       "  </thead>\n",
       "  <tbody>\n",
       "    <tr>\n",
       "      <th>Beauty and the Beast</th>\n",
       "      <td>89.666667</td>\n",
       "    </tr>\n",
       "    <tr>\n",
       "      <th>Mary Poppins</th>\n",
       "      <td>88.666667</td>\n",
       "    </tr>\n",
       "    <tr>\n",
       "      <th>The Lion King</th>\n",
       "      <td>88.666667</td>\n",
       "    </tr>\n",
       "    <tr>\n",
       "      <th>Dumbo</th>\n",
       "      <td>88.666667</td>\n",
       "    </tr>\n",
       "    <tr>\n",
       "      <th>The Nightmare Before Christmas</th>\n",
       "      <td>85.666667</td>\n",
       "    </tr>\n",
       "    <tr>\n",
       "      <th>Arrietty</th>\n",
       "      <td>83.666667</td>\n",
       "    </tr>\n",
       "    <tr>\n",
       "      <th>20,000 Leagues Under the Sea</th>\n",
       "      <td>81.333333</td>\n",
       "    </tr>\n",
       "    <tr>\n",
       "      <th>Big Hero 6</th>\n",
       "      <td>80.333333</td>\n",
       "    </tr>\n",
       "    <tr>\n",
       "      <th>James and the Giant Peach</th>\n",
       "      <td>78.666667</td>\n",
       "    </tr>\n",
       "    <tr>\n",
       "      <th>Mulan</th>\n",
       "      <td>77.666667</td>\n",
       "    </tr>\n",
       "    <tr>\n",
       "      <th>Frankenweenie</th>\n",
       "      <td>76.666667</td>\n",
       "    </tr>\n",
       "    <tr>\n",
       "      <th>Glory Road</th>\n",
       "      <td>76.666667</td>\n",
       "    </tr>\n",
       "    <tr>\n",
       "      <th>Tex</th>\n",
       "      <td>76.000000</td>\n",
       "    </tr>\n",
       "    <tr>\n",
       "      <th>The Chronicles of Narnia: The Lion, the Witch and the Wardrobe</th>\n",
       "      <td>73.333333</td>\n",
       "    </tr>\n",
       "    <tr>\n",
       "      <th>Freaky Friday</th>\n",
       "      <td>73.333333</td>\n",
       "    </tr>\n",
       "    <tr>\n",
       "      <th>Holes</th>\n",
       "      <td>73.000000</td>\n",
       "    </tr>\n",
       "    <tr>\n",
       "      <th>Cinderella</th>\n",
       "      <td>73.000000</td>\n",
       "    </tr>\n",
       "    <tr>\n",
       "      <th>The Parent Trap</th>\n",
       "      <td>71.666667</td>\n",
       "    </tr>\n",
       "    <tr>\n",
       "      <th>Mary Poppins Returns</th>\n",
       "      <td>70.666667</td>\n",
       "    </tr>\n",
       "  </tbody>\n",
       "</table>\n",
       "</div>"
      ],
      "text/plain": [
       "                                                    avg_ratings\n",
       "title                                                          \n",
       "Beauty and the Beast                                  89.666667\n",
       "Mary Poppins                                          88.666667\n",
       "The Lion King                                         88.666667\n",
       "Dumbo                                                 88.666667\n",
       "The Nightmare Before Christmas                        85.666667\n",
       "Arrietty                                              83.666667\n",
       "20,000 Leagues Under the Sea                          81.333333\n",
       "Big Hero 6                                            80.333333\n",
       "James and the Giant Peach                             78.666667\n",
       "Mulan                                                 77.666667\n",
       "Frankenweenie                                         76.666667\n",
       "Glory Road                                            76.666667\n",
       "Tex                                                   76.000000\n",
       "The Chronicles of Narnia: The Lion, the Witch a...    73.333333\n",
       "Freaky Friday                                         73.333333\n",
       "Holes                                                 73.000000\n",
       "Cinderella                                            73.000000\n",
       "The Parent Trap                                       71.666667\n",
       "Mary Poppins Returns                                  70.666667"
      ]
     },
     "execution_count": 17,
     "metadata": {},
     "output_type": "execute_result"
    }
   ],
   "source": [
    "top_movies = highestrated[highestrated>70]\n",
    "top_movies.dropna(inplace=True)\n",
    "\n",
    "top_movies"
   ]
  },
  {
   "cell_type": "code",
   "execution_count": 18,
   "metadata": {},
   "outputs": [
    {
     "data": {
      "text/html": [
       "<div>\n",
       "<style scoped>\n",
       "    .dataframe tbody tr th:only-of-type {\n",
       "        vertical-align: middle;\n",
       "    }\n",
       "\n",
       "    .dataframe tbody tr th {\n",
       "        vertical-align: top;\n",
       "    }\n",
       "\n",
       "    .dataframe thead th {\n",
       "        text-align: right;\n",
       "    }\n",
       "</style>\n",
       "<table border=\"1\" class=\"dataframe\">\n",
       "  <thead>\n",
       "    <tr style=\"text-align: right;\">\n",
       "      <th></th>\n",
       "      <th>avg_ratings</th>\n",
       "    </tr>\n",
       "    <tr>\n",
       "      <th>title</th>\n",
       "      <th></th>\n",
       "    </tr>\n",
       "  </thead>\n",
       "  <tbody>\n",
       "    <tr>\n",
       "      <th>Eight Below</th>\n",
       "      <td>69.666667</td>\n",
       "    </tr>\n",
       "    <tr>\n",
       "      <th>Muppet Treasure Island</th>\n",
       "      <td>68.000000</td>\n",
       "    </tr>\n",
       "    <tr>\n",
       "      <th>Into the Woods</th>\n",
       "      <td>66.333333</td>\n",
       "    </tr>\n",
       "    <tr>\n",
       "      <th>Bedknobs and Broomsticks</th>\n",
       "      <td>65.333333</td>\n",
       "    </tr>\n",
       "    <tr>\n",
       "      <th>White Fang</th>\n",
       "      <td>64.666667</td>\n",
       "    </tr>\n",
       "  </tbody>\n",
       "</table>\n",
       "</div>"
      ],
      "text/plain": [
       "                          avg_ratings\n",
       "title                                \n",
       "Eight Below                 69.666667\n",
       "Muppet Treasure Island      68.000000\n",
       "Into the Woods              66.333333\n",
       "Bedknobs and Broomsticks    65.333333\n",
       "White Fang                  64.666667"
      ]
     },
     "execution_count": 18,
     "metadata": {},
     "output_type": "execute_result"
    }
   ],
   "source": [
    "mid_movies = highestrated[highestrated>=50][highestrated<=70]\n",
    "mid_movies.dropna(inplace=True)\n",
    "\n",
    "mid_movies.head()"
   ]
  },
  {
   "cell_type": "code",
   "execution_count": 19,
   "metadata": {},
   "outputs": [
    {
     "data": {
      "text/html": [
       "<div>\n",
       "<style scoped>\n",
       "    .dataframe tbody tr th:only-of-type {\n",
       "        vertical-align: middle;\n",
       "    }\n",
       "\n",
       "    .dataframe tbody tr th {\n",
       "        vertical-align: top;\n",
       "    }\n",
       "\n",
       "    .dataframe thead th {\n",
       "        text-align: right;\n",
       "    }\n",
       "</style>\n",
       "<table border=\"1\" class=\"dataframe\">\n",
       "  <thead>\n",
       "    <tr style=\"text-align: right;\">\n",
       "      <th></th>\n",
       "      <th>avg_ratings</th>\n",
       "    </tr>\n",
       "    <tr>\n",
       "      <th>title</th>\n",
       "      <th></th>\n",
       "    </tr>\n",
       "  </thead>\n",
       "  <tbody>\n",
       "    <tr>\n",
       "      <th>National Treasure: Book of Secrets</th>\n",
       "      <td>49.666667</td>\n",
       "    </tr>\n",
       "    <tr>\n",
       "      <th>The Sorcerer's Apprentice</th>\n",
       "      <td>49.000000</td>\n",
       "    </tr>\n",
       "    <tr>\n",
       "      <th>101 Dalmatians</th>\n",
       "      <td>49.000000</td>\n",
       "    </tr>\n",
       "    <tr>\n",
       "      <th>Around the World in 80 Days</th>\n",
       "      <td>46.666667</td>\n",
       "    </tr>\n",
       "    <tr>\n",
       "      <th>Mars Needs Moms</th>\n",
       "      <td>46.666667</td>\n",
       "    </tr>\n",
       "  </tbody>\n",
       "</table>\n",
       "</div>"
      ],
      "text/plain": [
       "                                    avg_ratings\n",
       "title                                          \n",
       "National Treasure: Book of Secrets    49.666667\n",
       "The Sorcerer's Apprentice             49.000000\n",
       "101 Dalmatians                        49.000000\n",
       "Around the World in 80 Days           46.666667\n",
       "Mars Needs Moms                       46.666667"
      ]
     },
     "execution_count": 19,
     "metadata": {},
     "output_type": "execute_result"
    }
   ],
   "source": [
    "low_rated_movies = highestrated[highestrated<50]\n",
    "low_rated_movies.dropna(inplace=True)\n",
    "\n",
    "low_rated_movies.head()"
   ]
  },
  {
   "cell_type": "markdown",
   "metadata": {},
   "source": [
    "# 14\n",
    "making the `Release date` column from `str` to `datetime` format \n",
    "\n",
    "afterwards we make individual columns grouping into `Month` and `Year`"
   ]
  },
  {
   "cell_type": "code",
   "execution_count": 20,
   "metadata": {},
   "outputs": [
    {
     "data": {
      "text/plain": [
       "str"
      ]
     },
     "execution_count": 20,
     "metadata": {},
     "output_type": "execute_result"
    }
   ],
   "source": [
    "type(disney_['Release date'][0])"
   ]
  },
  {
   "cell_type": "code",
   "execution_count": 21,
   "metadata": {},
   "outputs": [
    {
     "data": {
      "text/plain": [
       "pandas._libs.tslibs.timestamps.Timestamp"
      ]
     },
     "execution_count": 21,
     "metadata": {},
     "output_type": "execute_result"
    }
   ],
   "source": [
    "disney_['Release date'] = pd.to_datetime(disney_['Release date'])\n",
    "#successfully converted to timestamp\n",
    "type(disney_['Release date'][0])"
   ]
  },
  {
   "cell_type": "code",
   "execution_count": 22,
   "metadata": {},
   "outputs": [
    {
     "data": {
      "text/plain": [
       "0    1946\n",
       "1    1954\n",
       "2    1964\n",
       "3    1971\n",
       "4    1976\n",
       "Name: Year, dtype: int64"
      ]
     },
     "execution_count": 22,
     "metadata": {},
     "output_type": "execute_result"
    }
   ],
   "source": [
    "#makes individual columns for year and month based off of the Release date column\n",
    "disney_['Month'] = disney_['Release date'].apply(lambda time: time.month)\n",
    "\n",
    "disney_['Year'] = disney_['Release date'].apply(lambda time: time.year)\n",
    "#successfully gotten the years in an ascending order\n",
    "disney_.Year.head()"
   ]
  },
  {
   "cell_type": "code",
   "execution_count": 23,
   "metadata": {},
   "outputs": [
    {
     "data": {
      "text/plain": [
       "0     11\n",
       "1     12\n",
       "2      8\n",
       "3     10\n",
       "4     12\n",
       "5     12\n",
       "6      7\n",
       "7      6\n",
       "8      1\n",
       "9      7\n",
       "10    11\n",
       "11     7\n",
       "12     2\n",
       "13     4\n",
       "14    11\n",
       "15     7\n",
       "16    11\n",
       "17     7\n",
       "18    12\n",
       "19     8\n",
       "20    10\n",
       "21     4\n",
       "22     8\n",
       "23     2\n",
       "24     6\n",
       "25     6\n",
       "26     9\n",
       "27    12\n",
       "28     1\n",
       "29     2\n",
       "30    10\n",
       "31    12\n",
       "32     5\n",
       "33     3\n",
       "34     2\n",
       "35     7\n",
       "36     3\n",
       "37     7\n",
       "38     2\n",
       "39     9\n",
       "40     6\n",
       "41     5\n",
       "42    10\n",
       "43    10\n",
       "44    12\n",
       "45     2\n",
       "46     1\n",
       "47     2\n",
       "48     5\n",
       "49    11\n",
       "50     3\n",
       "51     7\n",
       "52     3\n",
       "Name: Month, dtype: int64"
      ]
     },
     "execution_count": 23,
     "metadata": {},
     "output_type": "execute_result"
    }
   ],
   "source": [
    "#we have gotten the months also in an ascending order but could use some formatting, replacing the numbers with their respective names\n",
    "disney_.Month"
   ]
  },
  {
   "cell_type": "code",
   "execution_count": 24,
   "metadata": {},
   "outputs": [
    {
     "data": {
      "text/plain": [
       "0    Nov\n",
       "1    Dec\n",
       "2    Aug\n",
       "3    Oct\n",
       "4    Dec\n",
       "Name: Month, dtype: object"
      ]
     },
     "execution_count": 24,
     "metadata": {},
     "output_type": "execute_result"
    }
   ],
   "source": [
    "mmap = {1: 'Jan', 2: 'Feb',3:'Mar',4:'Apr',5:'May',6:'Jun',7:'Jul',8:'Aug',9:'Sep',10:'Oct',11:'Nov',12:'Dec'}\n",
    "\n",
    "#apply ze function to the Month column\n",
    "\n",
    "disney_.Month = disney_.Month.map(mmap)\n",
    "\n",
    "disney_.Month.head()"
   ]
  },
  {
   "cell_type": "code",
   "execution_count": 25,
   "metadata": {},
   "outputs": [
    {
     "data": {
      "text/plain": [
       "<AxesSubplot:xlabel='Year', ylabel='Count'>"
      ]
     },
     "execution_count": 25,
     "metadata": {},
     "output_type": "execute_result"
    },
    {
     "data": {
      "image/png": "[encoded data removed]",
      "text/plain": [
       "<Figure size 432x288 with 1 Axes>"
      ]
     },
     "metadata": {
      "needs_background": "light"
     },
     "output_type": "display_data"
    }
   ],
   "source": [
    "#from the histplot we observe that most movies actually >1/2 of the movies were produced after the 2000s\n",
    "sns.histplot(x='Year', data=disney_, kde=True, color='purple', fill=False)"
   ]
  },
  {
   "cell_type": "code",
   "execution_count": 26,
   "metadata": {},
   "outputs": [
    {
     "data": {
      "text/plain": [
       "<AxesSubplot:xlabel='Month', ylabel='Count'>"
      ]
     },
     "execution_count": 26,
     "metadata": {},
     "output_type": "execute_result"
    },
    {
     "data": {
      "image/png": "[encoded data removed]",
      "text/plain": [
       "<Figure size 432x288 with 1 Axes>"
      ]
     },
     "metadata": {
      "needs_background": "light"
     },
     "output_type": "display_data"
    }
   ],
   "source": [
    "#what info can we get from the months? lots of movies released in february, july and dec 7,8 and 7 respectively.\n",
    "\n",
    "sns.histplot(x='Month', data=disney_, color='purple', bins=30, fill=False)"
   ]
  },
  {
   "cell_type": "markdown",
   "metadata": {},
   "source": [
    "# 15 \n",
    "finding correlations"
   ]
  },
  {
   "cell_type": "code",
   "execution_count": 27,
   "metadata": {},
   "outputs": [
    {
     "data": {
      "text/html": [
       "<div>\n",
       "<style scoped>\n",
       "    .dataframe tbody tr th:only-of-type {\n",
       "        vertical-align: middle;\n",
       "    }\n",
       "\n",
       "    .dataframe tbody tr th {\n",
       "        vertical-align: top;\n",
       "    }\n",
       "\n",
       "    .dataframe thead th {\n",
       "        text-align: right;\n",
       "    }\n",
       "</style>\n",
       "<table border=\"1\" class=\"dataframe\">\n",
       "  <thead>\n",
       "    <tr style=\"text-align: right;\">\n",
       "      <th></th>\n",
       "      <th>title</th>\n",
       "      <th>Production company</th>\n",
       "      <th>Country</th>\n",
       "      <th>Language</th>\n",
       "      <th>Running time</th>\n",
       "      <th>Budget</th>\n",
       "      <th>Box office</th>\n",
       "      <th>Release date</th>\n",
       "      <th>imdb</th>\n",
       "      <th>metascore</th>\n",
       "      <th>...</th>\n",
       "      <th>Music by</th>\n",
       "      <th>Distributed by</th>\n",
       "      <th>Cinematography</th>\n",
       "      <th>Edited by</th>\n",
       "      <th>Screenplay by</th>\n",
       "      <th>rotten_tomatoes2</th>\n",
       "      <th>imdb2</th>\n",
       "      <th>avg_ratings</th>\n",
       "      <th>Month</th>\n",
       "      <th>Year</th>\n",
       "    </tr>\n",
       "  </thead>\n",
       "  <tbody>\n",
       "    <tr>\n",
       "      <th>0</th>\n",
       "      <td>Song of the South</td>\n",
       "      <td>Walt Disney Productions</td>\n",
       "      <td>United States</td>\n",
       "      <td>English</td>\n",
       "      <td>94.0</td>\n",
       "      <td>2125000.0</td>\n",
       "      <td>65000000.0</td>\n",
       "      <td>1946-11-12</td>\n",
       "      <td>7.1</td>\n",
       "      <td>54.0</td>\n",
       "      <td>...</td>\n",
       "      <td>['Edward Plumb', 'Daniele Amfitheatrof', 'Paul...</td>\n",
       "      <td>RKO Radio Pictures</td>\n",
       "      <td>Gregg Toland</td>\n",
       "      <td>William M. Morgan</td>\n",
       "      <td>['Live action:', 'Morton Grant', 'Maurice Rapf...</td>\n",
       "      <td>50.0</td>\n",
       "      <td>71.0</td>\n",
       "      <td>58.333333</td>\n",
       "      <td>Nov</td>\n",
       "      <td>1946</td>\n",
       "    </tr>\n",
       "    <tr>\n",
       "      <th>1</th>\n",
       "      <td>20,000 Leagues Under the Sea</td>\n",
       "      <td>Walt Disney Productions</td>\n",
       "      <td>United States</td>\n",
       "      <td>English</td>\n",
       "      <td>127.0</td>\n",
       "      <td>5000000.0</td>\n",
       "      <td>28200000.0</td>\n",
       "      <td>1954-12-23</td>\n",
       "      <td>7.2</td>\n",
       "      <td>83.0</td>\n",
       "      <td>...</td>\n",
       "      <td>['Paul Smith', 'Joseph S. Dubin', '(orchestrat...</td>\n",
       "      <td>Buena Vista Distribution</td>\n",
       "      <td>Franz Planer</td>\n",
       "      <td>Elmo Williams</td>\n",
       "      <td>Earl Felton</td>\n",
       "      <td>89.0</td>\n",
       "      <td>72.0</td>\n",
       "      <td>81.333333</td>\n",
       "      <td>Dec</td>\n",
       "      <td>1954</td>\n",
       "    </tr>\n",
       "    <tr>\n",
       "      <th>2</th>\n",
       "      <td>Mary Poppins</td>\n",
       "      <td>Walt Disney Productions</td>\n",
       "      <td>United States</td>\n",
       "      <td>English</td>\n",
       "      <td>139.0</td>\n",
       "      <td>4.4</td>\n",
       "      <td>103100000.0</td>\n",
       "      <td>1964-08-27</td>\n",
       "      <td>7.8</td>\n",
       "      <td>88.0</td>\n",
       "      <td>...</td>\n",
       "      <td>['Richard M. Sherman', 'Robert B. Sherman']</td>\n",
       "      <td>Buena Vista Distribution</td>\n",
       "      <td>Edward Colman</td>\n",
       "      <td>Cotton Warburton</td>\n",
       "      <td>['Bill Walsh', 'Don DaGradi']</td>\n",
       "      <td>100.0</td>\n",
       "      <td>78.0</td>\n",
       "      <td>88.666667</td>\n",
       "      <td>Aug</td>\n",
       "      <td>1964</td>\n",
       "    </tr>\n",
       "    <tr>\n",
       "      <th>3</th>\n",
       "      <td>Bedknobs and Broomsticks</td>\n",
       "      <td>Walt Disney Productions</td>\n",
       "      <td>United States</td>\n",
       "      <td>English</td>\n",
       "      <td>118.0</td>\n",
       "      <td>6300000.0</td>\n",
       "      <td>17900000.0</td>\n",
       "      <td>1971-10-07</td>\n",
       "      <td>7.1</td>\n",
       "      <td>59.0</td>\n",
       "      <td>...</td>\n",
       "      <td>Irwin Kostal</td>\n",
       "      <td>Buena Vista Distribution</td>\n",
       "      <td>Frank V. Phillips</td>\n",
       "      <td>Cotton Warburton</td>\n",
       "      <td>['Bill Walsh', 'Don DaGradi']</td>\n",
       "      <td>66.0</td>\n",
       "      <td>71.0</td>\n",
       "      <td>65.333333</td>\n",
       "      <td>Oct</td>\n",
       "      <td>1971</td>\n",
       "    </tr>\n",
       "    <tr>\n",
       "      <th>4</th>\n",
       "      <td>Freaky Friday</td>\n",
       "      <td>Walt Disney Productions</td>\n",
       "      <td>United States</td>\n",
       "      <td>English</td>\n",
       "      <td>95.0</td>\n",
       "      <td>5000000.0</td>\n",
       "      <td>36000000.0</td>\n",
       "      <td>1976-12-20</td>\n",
       "      <td>6.2</td>\n",
       "      <td>70.0</td>\n",
       "      <td>...</td>\n",
       "      <td>Johnny Mandel</td>\n",
       "      <td>Buena Vista Distribution</td>\n",
       "      <td>Charles F. Wheeler</td>\n",
       "      <td>Cotton Warburton</td>\n",
       "      <td>Mary Rodgers</td>\n",
       "      <td>88.0</td>\n",
       "      <td>62.0</td>\n",
       "      <td>73.333333</td>\n",
       "      <td>Dec</td>\n",
       "      <td>1976</td>\n",
       "    </tr>\n",
       "  </tbody>\n",
       "</table>\n",
       "<p>5 rows × 25 columns</p>\n",
       "</div>"
      ],
      "text/plain": [
       "                          title       Production company        Country  \\\n",
       "0             Song of the South  Walt Disney Productions  United States   \n",
       "1  20,000 Leagues Under the Sea  Walt Disney Productions  United States   \n",
       "2                  Mary Poppins  Walt Disney Productions  United States   \n",
       "3      Bedknobs and Broomsticks  Walt Disney Productions  United States   \n",
       "4                 Freaky Friday  Walt Disney Productions  United States   \n",
       "\n",
       "  Language  Running time     Budget   Box office Release date  imdb  \\\n",
       "0  English          94.0  2125000.0   65000000.0   1946-11-12   7.1   \n",
       "1  English         127.0  5000000.0   28200000.0   1954-12-23   7.2   \n",
       "2  English         139.0        4.4  103100000.0   1964-08-27   7.8   \n",
       "3  English         118.0  6300000.0   17900000.0   1971-10-07   7.1   \n",
       "4  English          95.0  5000000.0   36000000.0   1976-12-20   6.2   \n",
       "\n",
       "   metascore  ...                                           Music by  \\\n",
       "0       54.0  ...  ['Edward Plumb', 'Daniele Amfitheatrof', 'Paul...   \n",
       "1       83.0  ...  ['Paul Smith', 'Joseph S. Dubin', '(orchestrat...   \n",
       "2       88.0  ...        ['Richard M. Sherman', 'Robert B. Sherman']   \n",
       "3       59.0  ...                                       Irwin Kostal   \n",
       "4       70.0  ...                                      Johnny Mandel   \n",
       "\n",
       "             Distributed by      Cinematography          Edited by  \\\n",
       "0        RKO Radio Pictures        Gregg Toland  William M. Morgan   \n",
       "1  Buena Vista Distribution        Franz Planer      Elmo Williams   \n",
       "2  Buena Vista Distribution       Edward Colman   Cotton Warburton   \n",
       "3  Buena Vista Distribution   Frank V. Phillips   Cotton Warburton   \n",
       "4  Buena Vista Distribution  Charles F. Wheeler   Cotton Warburton   \n",
       "\n",
       "                                       Screenplay by rotten_tomatoes2 imdb2  \\\n",
       "0  ['Live action:', 'Morton Grant', 'Maurice Rapf...             50.0  71.0   \n",
       "1                                        Earl Felton             89.0  72.0   \n",
       "2                      ['Bill Walsh', 'Don DaGradi']            100.0  78.0   \n",
       "3                      ['Bill Walsh', 'Don DaGradi']             66.0  71.0   \n",
       "4                                       Mary Rodgers             88.0  62.0   \n",
       "\n",
       "  avg_ratings Month  Year  \n",
       "0   58.333333   Nov  1946  \n",
       "1   81.333333   Dec  1954  \n",
       "2   88.666667   Aug  1964  \n",
       "3   65.333333   Oct  1971  \n",
       "4   73.333333   Dec  1976  \n",
       "\n",
       "[5 rows x 25 columns]"
      ]
     },
     "execution_count": 27,
     "metadata": {},
     "output_type": "execute_result"
    }
   ],
   "source": [
    "disney_.head()"
   ]
  },
  {
   "cell_type": "code",
   "execution_count": 28,
   "metadata": {},
   "outputs": [
    {
     "data": {
      "text/plain": [
       "<AxesSubplot:>"
      ]
     },
     "execution_count": 28,
     "metadata": {},
     "output_type": "execute_result"
    },
    {
     "data": {
      "image/png": "[encoded data removed]",
      "text/plain": [
       "<Figure size 432x288 with 2 Axes>"
      ]
     },
     "metadata": {
      "needs_background": "light"
     },
     "output_type": "display_data"
    }
   ],
   "source": [
    "rb = disney_.corr()\n",
    "to_drop=['imdb','imdb2','rotten_tomatoes2', 'metascore', 'Year']\n",
    "\n",
    "rb.drop(to_drop, inplace=True, axis=1)\n",
    "rb.drop(to_drop, inplace=True, axis=0)\n",
    "\n",
    "\n",
    "sns.heatmap(rb, annot=True, cmap='YlGnBu')\n",
    "\n",
    "#note how theres positive corr between budget n box office,avg_ratings n box office and running time and box office n budget which makes sense higher running time, higher the budget and so forth\n",
    "\n",
    "#as for negative correlations which onluy occurs once btwn budget and avg_ratings, nearly insignificant but there, as budget increases the avg_ratings reduce weird but i think this is affected by the data presented note disney_['Budget'][2] is 4.4 whereas others have various zeros"
   ]
  },
  {
   "cell_type": "code",
   "execution_count": 29,
   "metadata": {},
   "outputs": [
    {
     "data": {
      "text/plain": [
       "<seaborn.matrix.ClusterGrid at 0x23437598be0>"
      ]
     },
     "execution_count": 29,
     "metadata": {},
     "output_type": "execute_result"
    },
    {
     "data": {
      "image/png": "[encoded data removed]",
      "text/plain": [
       "<Figure size 720x720 with 4 Axes>"
      ]
     },
     "metadata": {
      "needs_background": "light"
     },
     "output_type": "display_data"
    }
   ],
   "source": [
    "#clustermap here just gives a better view but in clusters\n",
    "sns.clustermap(rb, annot=True, cmap='YlGnBu')"
   ]
  },
  {
   "cell_type": "code",
   "execution_count": 31,
   "metadata": {},
   "outputs": [
    {
     "data": {
      "text/plain": [
       "<AxesSubplot:>"
      ]
     },
     "execution_count": 31,
     "metadata": {},
     "output_type": "execute_result"
    },
    {
     "data": {
      "image/png": "[encoded data removed]",
      "text/plain": [
       "<Figure size 432x288 with 2 Axes>"
      ]
     },
     "metadata": {
      "needs_background": "light"
     },
     "output_type": "display_data"
    }
   ],
   "source": [
    "#individual ratings we can see that they're all positively correlated, so if a movie has a low metascore rating most likely it will get a low rotten tomatoes or imdb rating\n",
    "\n",
    "nu = disney_.corr()\n",
    "to_drop = ['Year', 'Budget', 'imdb', 'Box office', 'Running time', 'avg_ratings']\n",
    "\n",
    "nu.drop(to_drop, inplace=True, axis=0)\n",
    "nu.drop(to_drop, inplace=True, axis=1)\n",
    "sns.heatmap(nu, annot=True, cmap='YlGnBu')"
   ]
  },
  {
   "cell_type": "code",
   "execution_count": 32,
   "metadata": {},
   "outputs": [
    {
     "data": {
      "text/html": [
       "<div>\n",
       "<style scoped>\n",
       "    .dataframe tbody tr th:only-of-type {\n",
       "        vertical-align: middle;\n",
       "    }\n",
       "\n",
       "    .dataframe tbody tr th {\n",
       "        vertical-align: top;\n",
       "    }\n",
       "\n",
       "    .dataframe thead th {\n",
       "        text-align: right;\n",
       "    }\n",
       "</style>\n",
       "<table border=\"1\" class=\"dataframe\">\n",
       "  <thead>\n",
       "    <tr style=\"text-align: right;\">\n",
       "      <th></th>\n",
       "      <th>title</th>\n",
       "      <th>Box office</th>\n",
       "      <th>Year</th>\n",
       "    </tr>\n",
       "  </thead>\n",
       "  <tbody>\n",
       "    <tr>\n",
       "      <th>51</th>\n",
       "      <td>The Lion King</td>\n",
       "      <td>1.657000e+09</td>\n",
       "      <td>2019</td>\n",
       "    </tr>\n",
       "    <tr>\n",
       "      <th>47</th>\n",
       "      <td>Beauty and the Beast</td>\n",
       "      <td>1.264000e+09</td>\n",
       "      <td>2017</td>\n",
       "    </tr>\n",
       "    <tr>\n",
       "      <th>34</th>\n",
       "      <td>Alice in Wonderland</td>\n",
       "      <td>1.025000e+09</td>\n",
       "      <td>2010</td>\n",
       "    </tr>\n",
       "    <tr>\n",
       "      <th>48</th>\n",
       "      <td>Pirates of the Caribbean: Dead Men Tell No Tales</td>\n",
       "      <td>7.949000e+08</td>\n",
       "      <td>2017</td>\n",
       "    </tr>\n",
       "    <tr>\n",
       "      <th>41</th>\n",
       "      <td>Maleficent</td>\n",
       "      <td>7.585000e+08</td>\n",
       "      <td>2014</td>\n",
       "    </tr>\n",
       "  </tbody>\n",
       "</table>\n",
       "</div>"
      ],
      "text/plain": [
       "                                               title    Box office  Year\n",
       "51                                     The Lion King  1.657000e+09  2019\n",
       "47                              Beauty and the Beast  1.264000e+09  2017\n",
       "34                               Alice in Wonderland  1.025000e+09  2010\n",
       "48  Pirates of the Caribbean: Dead Men Tell No Tales  7.949000e+08  2017\n",
       "41                                        Maleficent  7.585000e+08  2014"
      ]
     },
     "execution_count": 32,
     "metadata": {},
     "output_type": "execute_result"
    }
   ],
   "source": [
    "pp = disney_[['title', 'Box office','Year']].sort_values(by='Box office', ascending=False)\n",
    "\n",
    "x = pp[:5]\n",
    "x"
   ]
  },
  {
   "cell_type": "code",
   "execution_count": 33,
   "metadata": {},
   "outputs": [
    {
     "data": {
      "text/plain": [
       "<seaborn.axisgrid.FacetGrid at 0x23435ad88e0>"
      ]
     },
     "execution_count": 33,
     "metadata": {},
     "output_type": "execute_result"
    },
    {
     "data": {
      "image/png": "[encoded data removed]",
      "text/plain": [
       "<Figure size 637.375x360 with 1 Axes>"
      ]
     },
     "metadata": {
      "needs_background": "light"
     },
     "output_type": "display_data"
    }
   ],
   "source": [
    "sns.displot(data=x, x='Year', y='Box office', hue='title', color='reds')"
   ]
  },
  {
   "cell_type": "code",
   "execution_count": 34,
   "metadata": {},
   "outputs": [
    {
     "data": {
      "text/html": [
       "<div>\n",
       "<style scoped>\n",
       "    .dataframe tbody tr th:only-of-type {\n",
       "        vertical-align: middle;\n",
       "    }\n",
       "\n",
       "    .dataframe tbody tr th {\n",
       "        vertical-align: top;\n",
       "    }\n",
       "\n",
       "    .dataframe thead th {\n",
       "        text-align: right;\n",
       "    }\n",
       "</style>\n",
       "<table border=\"1\" class=\"dataframe\">\n",
       "  <thead>\n",
       "    <tr style=\"text-align: right;\">\n",
       "      <th></th>\n",
       "      <th>title</th>\n",
       "      <th>Language</th>\n",
       "    </tr>\n",
       "  </thead>\n",
       "  <tbody>\n",
       "    <tr>\n",
       "      <th>14</th>\n",
       "      <td>101 Dalmatians</td>\n",
       "      <td>English</td>\n",
       "    </tr>\n",
       "    <tr>\n",
       "      <th>1</th>\n",
       "      <td>20,000 Leagues Under the Sea</td>\n",
       "      <td>English</td>\n",
       "    </tr>\n",
       "    <tr>\n",
       "      <th>42</th>\n",
       "      <td>Alexander and the Terrible, Horrible, No Good,...</td>\n",
       "      <td>English</td>\n",
       "    </tr>\n",
       "    <tr>\n",
       "      <th>34</th>\n",
       "      <td>Alice in Wonderland</td>\n",
       "      <td>English</td>\n",
       "    </tr>\n",
       "    <tr>\n",
       "      <th>11</th>\n",
       "      <td>Angels in the Outfield</td>\n",
       "      <td>English</td>\n",
       "    </tr>\n",
       "  </tbody>\n",
       "</table>\n",
       "</div>"
      ],
      "text/plain": [
       "                                                title Language\n",
       "14                                     101 Dalmatians  English\n",
       "1                        20,000 Leagues Under the Sea  English\n",
       "42  Alexander and the Terrible, Horrible, No Good,...  English\n",
       "34                                Alice in Wonderland  English\n",
       "11                             Angels in the Outfield  English"
      ]
     },
     "execution_count": 34,
     "metadata": {},
     "output_type": "execute_result"
    }
   ],
   "source": [
    "tl = disney_[['title', 'Language']].sort_values(by='title')\n",
    "tl.head()"
   ]
  },
  {
   "cell_type": "code",
   "execution_count": 35,
   "metadata": {},
   "outputs": [
    {
     "data": {
      "text/plain": [
       "<seaborn.axisgrid.FacetGrid at 0x23437c91910>"
      ]
     },
     "execution_count": 35,
     "metadata": {},
     "output_type": "execute_result"
    },
    {
     "data": {
      "image/png": "[encoded data removed]",
      "text/plain": [
       "<Figure size 631.375x360 with 1 Axes>"
      ]
     },
     "metadata": {
      "needs_background": "light"
     },
     "output_type": "display_data"
    }
   ],
   "source": [
    "sns.displot(data=disney_, x='Month', hue='Language', kind='hist', multiple='stack')"
   ]
  },
  {
   "cell_type": "code",
   "execution_count": 36,
   "metadata": {},
   "outputs": [
    {
     "ename": "TypeError",
     "evalue": "The x variable is categorical, but one of ['numeric', 'datetime'] is required",
     "output_type": "error",
     "traceback": [
      "\u001b[1;31m---------------------------------------------------------------------------\u001b[0m",
      "\u001b[1;31mTypeError\u001b[0m                                 Traceback (most recent call last)",
      "\u001b[1;32m<ipython-input-36-2c3405cae63c>\u001b[0m in \u001b[0;36m<module>\u001b[1;34m\u001b[0m\n\u001b[1;32m----> 1\u001b[1;33m \u001b[0msns\u001b[0m\u001b[1;33m.\u001b[0m\u001b[0mdisplot\u001b[0m\u001b[1;33m(\u001b[0m\u001b[0mdata\u001b[0m\u001b[1;33m=\u001b[0m\u001b[0mdisney_\u001b[0m\u001b[1;33m,\u001b[0m \u001b[0mx\u001b[0m\u001b[1;33m=\u001b[0m\u001b[1;34m'Month'\u001b[0m\u001b[1;33m,\u001b[0m \u001b[0mhue\u001b[0m\u001b[1;33m=\u001b[0m\u001b[1;34m'Country'\u001b[0m\u001b[1;33m,\u001b[0m \u001b[0mkind\u001b[0m\u001b[1;33m=\u001b[0m\u001b[1;34m'kde'\u001b[0m\u001b[1;33m,\u001b[0m \u001b[0mmultiple\u001b[0m\u001b[1;33m=\u001b[0m\u001b[1;34m'stack'\u001b[0m\u001b[1;33m)\u001b[0m\u001b[1;33m\u001b[0m\u001b[1;33m\u001b[0m\u001b[0m\n\u001b[0m",
      "\u001b[1;32m~\\anaconda3\\lib\\site-packages\\seaborn\\distributions.py\u001b[0m in \u001b[0;36mdisplot\u001b[1;34m(data, x, y, hue, row, col, weights, kind, rug, rug_kws, log_scale, legend, palette, hue_order, hue_norm, color, col_wrap, row_order, col_order, height, aspect, facet_kws, **kwargs)\u001b[0m\n\u001b[0;32m   2193\u001b[0m     \u001b[1;32melse\u001b[0m\u001b[1;33m:\u001b[0m\u001b[1;33m\u001b[0m\u001b[1;33m\u001b[0m\u001b[0m\n\u001b[0;32m   2194\u001b[0m         \u001b[0mallowed_types\u001b[0m \u001b[1;33m=\u001b[0m \u001b[1;32mNone\u001b[0m\u001b[1;33m\u001b[0m\u001b[1;33m\u001b[0m\u001b[0m\n\u001b[1;32m-> 2195\u001b[1;33m     \u001b[0mp\u001b[0m\u001b[1;33m.\u001b[0m\u001b[0m_attach\u001b[0m\u001b[1;33m(\u001b[0m\u001b[0mg\u001b[0m\u001b[1;33m,\u001b[0m \u001b[0mallowed_types\u001b[0m\u001b[1;33m=\u001b[0m\u001b[0mallowed_types\u001b[0m\u001b[1;33m,\u001b[0m \u001b[0mlog_scale\u001b[0m\u001b[1;33m=\u001b[0m\u001b[0mlog_scale\u001b[0m\u001b[1;33m)\u001b[0m\u001b[1;33m\u001b[0m\u001b[1;33m\u001b[0m\u001b[0m\n\u001b[0m\u001b[0;32m   2196\u001b[0m \u001b[1;33m\u001b[0m\u001b[0m\n\u001b[0;32m   2197\u001b[0m     \u001b[1;31m# Check for a specification that lacks x/y data and return early\u001b[0m\u001b[1;33m\u001b[0m\u001b[1;33m\u001b[0m\u001b[1;33m\u001b[0m\u001b[0m\n",
      "\u001b[1;32m~\\anaconda3\\lib\\site-packages\\seaborn\\_core.py\u001b[0m in \u001b[0;36m_attach\u001b[1;34m(self, obj, allowed_types, log_scale)\u001b[0m\n\u001b[0;32m   1116\u001b[0m                     \u001b[1;34mf\"{allowed_types} is required\"\u001b[0m\u001b[1;33m\u001b[0m\u001b[1;33m\u001b[0m\u001b[0m\n\u001b[0;32m   1117\u001b[0m                 )\n\u001b[1;32m-> 1118\u001b[1;33m                 \u001b[1;32mraise\u001b[0m \u001b[0mTypeError\u001b[0m\u001b[1;33m(\u001b[0m\u001b[0merr\u001b[0m\u001b[1;33m)\u001b[0m\u001b[1;33m\u001b[0m\u001b[1;33m\u001b[0m\u001b[0m\n\u001b[0m\u001b[0;32m   1119\u001b[0m \u001b[1;33m\u001b[0m\u001b[0m\n\u001b[0;32m   1120\u001b[0m             \u001b[1;31m# Register with the matplotlib unit conversion machinery\u001b[0m\u001b[1;33m\u001b[0m\u001b[1;33m\u001b[0m\u001b[1;33m\u001b[0m\u001b[0m\n",
      "\u001b[1;31mTypeError\u001b[0m: The x variable is categorical, but one of ['numeric', 'datetime'] is required"
     ]
    },
    {
     "data": {
      "image/png": "[encoded data removed]",
      "text/plain": [
       "<Figure size 360x360 with 1 Axes>"
      ]
     },
     "metadata": {
      "needs_background": "light"
     },
     "output_type": "display_data"
    }
   ],
   "source": [
    "sns.displot(data=disney_, x='Month', hue='Country', kind='kde', multiple='stack')"
   ]
  },
  {
   "cell_type": "code",
   "execution_count": 37,
   "metadata": {},
   "outputs": [
    {
     "data": {
      "text/html": [
       "<div>\n",
       "<style scoped>\n",
       "    .dataframe tbody tr th:only-of-type {\n",
       "        vertical-align: middle;\n",
       "    }\n",
       "\n",
       "    .dataframe tbody tr th {\n",
       "        vertical-align: top;\n",
       "    }\n",
       "\n",
       "    .dataframe thead th {\n",
       "        text-align: right;\n",
       "    }\n",
       "</style>\n",
       "<table border=\"1\" class=\"dataframe\">\n",
       "  <thead>\n",
       "    <tr style=\"text-align: right;\">\n",
       "      <th></th>\n",
       "      <th>title</th>\n",
       "      <th>Production company</th>\n",
       "      <th>Country</th>\n",
       "      <th>Language</th>\n",
       "      <th>Running time</th>\n",
       "      <th>Budget</th>\n",
       "      <th>Box office</th>\n",
       "      <th>Release date</th>\n",
       "      <th>imdb</th>\n",
       "      <th>metascore</th>\n",
       "      <th>...</th>\n",
       "      <th>Music by</th>\n",
       "      <th>Distributed by</th>\n",
       "      <th>Cinematography</th>\n",
       "      <th>Edited by</th>\n",
       "      <th>Screenplay by</th>\n",
       "      <th>rotten_tomatoes2</th>\n",
       "      <th>imdb2</th>\n",
       "      <th>avg_ratings</th>\n",
       "      <th>Month</th>\n",
       "      <th>Year</th>\n",
       "    </tr>\n",
       "  </thead>\n",
       "  <tbody>\n",
       "    <tr>\n",
       "      <th>0</th>\n",
       "      <td>Song of the South</td>\n",
       "      <td>Walt Disney Productions</td>\n",
       "      <td>United States</td>\n",
       "      <td>English</td>\n",
       "      <td>94.0</td>\n",
       "      <td>2125000.0</td>\n",
       "      <td>65000000.0</td>\n",
       "      <td>1946-11-12</td>\n",
       "      <td>7.1</td>\n",
       "      <td>54.0</td>\n",
       "      <td>...</td>\n",
       "      <td>['Edward Plumb', 'Daniele Amfitheatrof', 'Paul...</td>\n",
       "      <td>RKO Radio Pictures</td>\n",
       "      <td>Gregg Toland</td>\n",
       "      <td>William M. Morgan</td>\n",
       "      <td>['Live action:', 'Morton Grant', 'Maurice Rapf...</td>\n",
       "      <td>50.0</td>\n",
       "      <td>71.0</td>\n",
       "      <td>58.333333</td>\n",
       "      <td>Nov</td>\n",
       "      <td>1946</td>\n",
       "    </tr>\n",
       "    <tr>\n",
       "      <th>1</th>\n",
       "      <td>20,000 Leagues Under the Sea</td>\n",
       "      <td>Walt Disney Productions</td>\n",
       "      <td>United States</td>\n",
       "      <td>English</td>\n",
       "      <td>127.0</td>\n",
       "      <td>5000000.0</td>\n",
       "      <td>28200000.0</td>\n",
       "      <td>1954-12-23</td>\n",
       "      <td>7.2</td>\n",
       "      <td>83.0</td>\n",
       "      <td>...</td>\n",
       "      <td>['Paul Smith', 'Joseph S. Dubin', '(orchestrat...</td>\n",
       "      <td>Buena Vista Distribution</td>\n",
       "      <td>Franz Planer</td>\n",
       "      <td>Elmo Williams</td>\n",
       "      <td>Earl Felton</td>\n",
       "      <td>89.0</td>\n",
       "      <td>72.0</td>\n",
       "      <td>81.333333</td>\n",
       "      <td>Dec</td>\n",
       "      <td>1954</td>\n",
       "    </tr>\n",
       "    <tr>\n",
       "      <th>2</th>\n",
       "      <td>Mary Poppins</td>\n",
       "      <td>Walt Disney Productions</td>\n",
       "      <td>United States</td>\n",
       "      <td>English</td>\n",
       "      <td>139.0</td>\n",
       "      <td>4.4</td>\n",
       "      <td>103100000.0</td>\n",
       "      <td>1964-08-27</td>\n",
       "      <td>7.8</td>\n",
       "      <td>88.0</td>\n",
       "      <td>...</td>\n",
       "      <td>['Richard M. Sherman', 'Robert B. Sherman']</td>\n",
       "      <td>Buena Vista Distribution</td>\n",
       "      <td>Edward Colman</td>\n",
       "      <td>Cotton Warburton</td>\n",
       "      <td>['Bill Walsh', 'Don DaGradi']</td>\n",
       "      <td>100.0</td>\n",
       "      <td>78.0</td>\n",
       "      <td>88.666667</td>\n",
       "      <td>Aug</td>\n",
       "      <td>1964</td>\n",
       "    </tr>\n",
       "    <tr>\n",
       "      <th>3</th>\n",
       "      <td>Bedknobs and Broomsticks</td>\n",
       "      <td>Walt Disney Productions</td>\n",
       "      <td>United States</td>\n",
       "      <td>English</td>\n",
       "      <td>118.0</td>\n",
       "      <td>6300000.0</td>\n",
       "      <td>17900000.0</td>\n",
       "      <td>1971-10-07</td>\n",
       "      <td>7.1</td>\n",
       "      <td>59.0</td>\n",
       "      <td>...</td>\n",
       "      <td>Irwin Kostal</td>\n",
       "      <td>Buena Vista Distribution</td>\n",
       "      <td>Frank V. Phillips</td>\n",
       "      <td>Cotton Warburton</td>\n",
       "      <td>['Bill Walsh', 'Don DaGradi']</td>\n",
       "      <td>66.0</td>\n",
       "      <td>71.0</td>\n",
       "      <td>65.333333</td>\n",
       "      <td>Oct</td>\n",
       "      <td>1971</td>\n",
       "    </tr>\n",
       "    <tr>\n",
       "      <th>4</th>\n",
       "      <td>Freaky Friday</td>\n",
       "      <td>Walt Disney Productions</td>\n",
       "      <td>United States</td>\n",
       "      <td>English</td>\n",
       "      <td>95.0</td>\n",
       "      <td>5000000.0</td>\n",
       "      <td>36000000.0</td>\n",
       "      <td>1976-12-20</td>\n",
       "      <td>6.2</td>\n",
       "      <td>70.0</td>\n",
       "      <td>...</td>\n",
       "      <td>Johnny Mandel</td>\n",
       "      <td>Buena Vista Distribution</td>\n",
       "      <td>Charles F. Wheeler</td>\n",
       "      <td>Cotton Warburton</td>\n",
       "      <td>Mary Rodgers</td>\n",
       "      <td>88.0</td>\n",
       "      <td>62.0</td>\n",
       "      <td>73.333333</td>\n",
       "      <td>Dec</td>\n",
       "      <td>1976</td>\n",
       "    </tr>\n",
       "  </tbody>\n",
       "</table>\n",
       "<p>5 rows × 25 columns</p>\n",
       "</div>"
      ],
      "text/plain": [
       "                          title       Production company        Country  \\\n",
       "0             Song of the South  Walt Disney Productions  United States   \n",
       "1  20,000 Leagues Under the Sea  Walt Disney Productions  United States   \n",
       "2                  Mary Poppins  Walt Disney Productions  United States   \n",
       "3      Bedknobs and Broomsticks  Walt Disney Productions  United States   \n",
       "4                 Freaky Friday  Walt Disney Productions  United States   \n",
       "\n",
       "  Language  Running time     Budget   Box office Release date  imdb  \\\n",
       "0  English          94.0  2125000.0   65000000.0   1946-11-12   7.1   \n",
       "1  English         127.0  5000000.0   28200000.0   1954-12-23   7.2   \n",
       "2  English         139.0        4.4  103100000.0   1964-08-27   7.8   \n",
       "3  English         118.0  6300000.0   17900000.0   1971-10-07   7.1   \n",
       "4  English          95.0  5000000.0   36000000.0   1976-12-20   6.2   \n",
       "\n",
       "   metascore  ...                                           Music by  \\\n",
       "0       54.0  ...  ['Edward Plumb', 'Daniele Amfitheatrof', 'Paul...   \n",
       "1       83.0  ...  ['Paul Smith', 'Joseph S. Dubin', '(orchestrat...   \n",
       "2       88.0  ...        ['Richard M. Sherman', 'Robert B. Sherman']   \n",
       "3       59.0  ...                                       Irwin Kostal   \n",
       "4       70.0  ...                                      Johnny Mandel   \n",
       "\n",
       "             Distributed by      Cinematography          Edited by  \\\n",
       "0        RKO Radio Pictures        Gregg Toland  William M. Morgan   \n",
       "1  Buena Vista Distribution        Franz Planer      Elmo Williams   \n",
       "2  Buena Vista Distribution       Edward Colman   Cotton Warburton   \n",
       "3  Buena Vista Distribution   Frank V. Phillips   Cotton Warburton   \n",
       "4  Buena Vista Distribution  Charles F. Wheeler   Cotton Warburton   \n",
       "\n",
       "                                       Screenplay by rotten_tomatoes2 imdb2  \\\n",
       "0  ['Live action:', 'Morton Grant', 'Maurice Rapf...             50.0  71.0   \n",
       "1                                        Earl Felton             89.0  72.0   \n",
       "2                      ['Bill Walsh', 'Don DaGradi']            100.0  78.0   \n",
       "3                      ['Bill Walsh', 'Don DaGradi']             66.0  71.0   \n",
       "4                                       Mary Rodgers             88.0  62.0   \n",
       "\n",
       "  avg_ratings Month  Year  \n",
       "0   58.333333   Nov  1946  \n",
       "1   81.333333   Dec  1954  \n",
       "2   88.666667   Aug  1964  \n",
       "3   65.333333   Oct  1971  \n",
       "4   73.333333   Dec  1976  \n",
       "\n",
       "[5 rows x 25 columns]"
      ]
     },
     "execution_count": 37,
     "metadata": {},
     "output_type": "execute_result"
    }
   ],
   "source": [
    "disney_.head()"
   ]
  },
  {
   "cell_type": "code",
   "execution_count": 38,
   "metadata": {},
   "outputs": [
    {
     "data": {
      "text/plain": [
       "<seaborn.axisgrid.FacetGrid at 0x23437e37a30>"
      ]
     },
     "execution_count": 38,
     "metadata": {},
     "output_type": "execute_result"
    },
    {
     "data": {
      "image/png": "[encoded data removed]",
      "text/plain": [
       "<Figure size 1184.38x504 with 1 Axes>"
      ]
     },
     "metadata": {
      "needs_background": "light"
     },
     "output_type": "display_data"
    }
   ],
   "source": [
    "sns.color_palette('ch:s=.25,rot=-.25', as_cmap=True)\n",
    "\n",
    "sns.displot(data=disney_, x='Year', hue='Distributed by', kind='hist', height=7)"
   ]
  },
  {
   "cell_type": "code",
   "execution_count": null,
   "metadata": {},
   "outputs": [],
   "source": []
  }
 ],
 "metadata": {
  "kernelspec": {
   "display_name": "Python 3",
   "language": "python",
   "name": "python3"
  },
  "language_info": {
   "codemirror_mode": {
    "name": "ipython",
    "version": 3
   },
   "file_extension": ".py",
   "mimetype": "text/x-python",
   "name": "python",
   "nbconvert_exporter": "python",
   "pygments_lexer": "ipython3",
   "version": "3.8.5"
  },
  "metadata": {
   "interpreter": {
    "hash": "e87d0413bca7eaa104f583652c3ef7628c5ba006737aef04131a6fafee4558c9"
   }
  }
 },
 "nbformat": 4,
 "nbformat_minor": 2
}
