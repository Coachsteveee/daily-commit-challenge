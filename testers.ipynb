{
 "cells": [
  {
   "cell_type": "code",
   "execution_count": 1,
   "metadata": {},
   "outputs": [],
   "source": [
    "import numpy as np\n",
    "import warnings\n",
    "from pandas_datareader import data, wb\n",
    "\n",
    "from datetime import datetime\n",
    "import yfinance as yf\n",
    "import pandas as pd\n",
    "pd.set_option('display.max_rows', None)\n",
    "warnings.filterwarnings(\"ignore\")\n",
    "\n",
    "from yahoo_fin import stock_info as si\n",
    "\n",
    "start = datetime(2010,1,1) \n",
    "end = datetime(2021,1,1)\n",
    "\n",
    "\n"
   ]
  },
  {
   "cell_type": "code",
   "execution_count": 2,
   "metadata": {},
   "outputs": [],
   "source": [
    "jpy_ticker_list = ['AUDJPY=X', 'CADJPY=X','CHFJPY=X', 'EURJPY=X', 'GBPJPY=X','NZDJPY=X','USDJPY=X' ]\n",
    "jhist = {}\n",
    "for tick in jpy_ticker_list:\n",
    "    jhist[tick] = data.DataReader(tick, 'yahoo', start, end)['Adj Close']\n",
    "\n",
    "\n"
   ]
  },
  {
   "cell_type": "code",
   "execution_count": 3,
   "metadata": {},
   "outputs": [],
   "source": [
    "usd_ticker_list = ['AUDUSD=X',\"EURUSD=X\",'GBPUSD=X','NZDUSD=X','EURCAD=X','GBPCAD=X','EURAUD=X']\n",
    "uhist = {}\n",
    "for tick in usd_ticker_list:\n",
    "    uhist[tick] = data.DataReader(tick, 'yahoo', start, end)['Adj Close']\n"
   ]
  },
  {
   "cell_type": "code",
   "execution_count": 4,
   "metadata": {},
   "outputs": [],
   "source": [
    "chf_ticker_list = ['AUDCHF=X', 'CADCHF=X','EURCHF=X','GBPCHF=X','USDCHF=X']\n",
    "chist = {}\n",
    "for tick in chf_ticker_list:\n",
    "    chist[tick] = data.DataReader(tick, 'yahoo', start, end)['Adj Close']\n"
   ]
  },
  {
   "cell_type": "code",
   "execution_count": 5,
   "metadata": {},
   "outputs": [],
   "source": [
    "dataset = data.get_data_yahoo(jpy_ticker_list+usd_ticker_list+chf_ticker_list+exotics, start, end)['Adj Close']\n",
    "\n",
    "\n",
    "stocks_returns = np.log(dataset/dataset.shift(1))\n",
    "\n"
   ]
  },
  {
   "cell_type": "code",
   "execution_count": null,
   "metadata": {},
   "outputs": [],
   "source": []
  },
  {
   "cell_type": "code",
   "execution_count": 6,
   "metadata": {},
   "outputs": [
    {
     "output_type": "stream",
     "name": "stdout",
     "text": [
      "\nTop Absolute Correlations\nSymbols   Symbols \nAUDJPY=X  NZDJPY=X    0.867466\nAUDUSD=X  NZDUSD=X    0.810318\nAUDJPY=X  CADJPY=X    0.808158\nAUDCHF=X  CADCHF=X    0.787710\nCADCHF=X  USDCHF=X    0.750793\nCADJPY=X  USDJPY=X    0.747049\n          NZDJPY=X    0.745586\nEURJPY=X  GBPJPY=X    0.735866\nAUDJPY=X  AUDUSD=X    0.727418\nNZDJPY=X  NZDUSD=X    0.726108\nCADJPY=X  GBPJPY=X    0.709621\n          EURJPY=X    0.702849\nAUDJPY=X  EURJPY=X    0.696264\nEURAUD=X  AUDCHF=X    0.690707\nAUDJPY=X  GBPJPY=X    0.683584\nCADCHF=X  GBPCHF=X    0.683285\nEURJPY=X  NZDJPY=X    0.679838\nEURCHF=X  GBPCHF=X    0.679382\nCHFJPY=X  EURJPY=X    0.669847\nGBPCHF=X  USDCHF=X    0.667076\nGBPJPY=X  USDJPY=X    0.662501\nCHFJPY=X  USDCHF=X    0.658129\nCADCHF=X  EURCHF=X    0.655628\nGBPJPY=X  NZDJPY=X    0.652215\n          GBPUSD=X    0.649135\nEURCAD=X  EURAUD=X    0.643688\nAUDCHF=X  GBPCHF=X    0.643602\n          EURCHF=X    0.637219\nEURCAD=X  CADCHF=X    0.632487\nEURJPY=X  USDJPY=X    0.617095\nGBPUSD=X  GBPCAD=X    0.616926\nAUDUSD=X  EURAUD=X    0.616238\nAUDJPY=X  AUDCHF=X    0.611652\nNZDJPY=X  AUDUSD=X    0.608566\nEURUSD=X  EURCAD=X    0.606634\nEURCHF=X  USDCHF=X    0.600193\nEURJPY=X  EURUSD=X    0.597802\nAUDJPY=X  USDJPY=X    0.591817\nEURUSD=X  USDCHF=X    0.587557\nAUDUSD=X  AUDCHF=X    0.581697\nAUDCHF=X  USDCHF=X    0.579330\nAUDJPY=X  EURAUD=X    0.572160\nEURUSD=X  GBPUSD=X    0.565667\nEURCAD=X  GBPCAD=X    0.561748\nEURUSD=X  NZDUSD=X    0.542567\nNZDJPY=X  USDJPY=X    0.540821\nCADJPY=X  CADCHF=X    0.533176\nAUDJPY=X  NZDUSD=X    0.533005\nCHFJPY=X  GBPJPY=X    0.531251\nAUDUSD=X  EURUSD=X    0.530775\nGBPJPY=X  GBPCHF=X    0.521594\nCADJPY=X  CHFJPY=X    0.503061\nAUDUSD=X  GBPUSD=X    0.493172\nAUDJPY=X  CHFJPY=X    0.491743\nCHFJPY=X  NZDJPY=X    0.485164\nGBPUSD=X  NZDUSD=X    0.480917\nNZDJPY=X  AUDCHF=X    0.479410\nCHFJPY=X  USDJPY=X    0.466071\nCADJPY=X  EURCAD=X    0.464278\nCHFJPY=X  CADCHF=X    0.460282\nGBPUSD=X  GBPCHF=X    0.455747\nCHFJPY=X  GBPCHF=X    0.444196\n          EURCHF=X    0.435650\nGBPCAD=X  CADCHF=X    0.427230\nNZDJPY=X  EURAUD=X    0.413308\nEURAUD=X  CADCHF=X    0.401847\nCADJPY=X  AUDCHF=X    0.399509\nNZDUSD=X  AUDCHF=X    0.396556\n          EURAUD=X    0.396469\nCHFJPY=X  AUDCHF=X    0.385015\nGBPJPY=X  GBPCAD=X    0.380176\nCADJPY=X  GBPCAD=X    0.377966\nEURCAD=X  AUDCHF=X    0.377777\nEURJPY=X  EURCHF=X    0.376111\nEURCAD=X  USDCHF=X    0.370883\nGBPCAD=X  GBPCHF=X    0.364109\nCADJPY=X  AUDUSD=X    0.360423\nGBPUSD=X  USDCHF=X    0.357869\nUSDJPY=X  USDCHF=X    0.357647\nNZDUSD=X  USDCHF=X    0.350716\nAUDJPY=X  CADCHF=X    0.349480\nCHFJPY=X  EURUSD=X    0.346851\nEURJPY=X  GBPUSD=X    0.346523\nEURUSD=X  EURAUD=X    0.336686\nEURJPY=X  AUDUSD=X    0.332602\nAUDUSD=X  USDCHF=X    0.323637\nNZDJPY=X  GBPUSD=X    0.313282\nUSDJPY=X  CADCHF=X    0.311256\nCADJPY=X  EURAUD=X    0.305366\nAUDJPY=X  GBPUSD=X    0.303680\nEURJPY=X  EURCAD=X    0.296133\nNZDJPY=X  CADCHF=X    0.292937\nEURUSD=X  EURCHF=X    0.292286\nEURJPY=X  NZDUSD=X    0.291542\nNZDJPY=X  EURUSD=X    0.283462\nGBPJPY=X  AUDUSD=X    0.280296\nGBPCAD=X  EURAUD=X    0.269490\nCADJPY=X  NZDUSD=X    0.264273\nUSDJPY=X  EURUSD=X    0.260398\nAUDJPY=X  EURUSD=X    0.252221\nCADJPY=X  GBPCHF=X    0.242501\nGBPJPY=X  AUDCHF=X    0.241931\nUSDJPY=X  EURCAD=X    0.238167\nEURUSD=X  CADCHF=X    0.234418\nAUDJPY=X  EURCHF=X    0.230521\nUSDJPY=X  GBPCHF=X    0.230408\nGBPJPY=X  EURCHF=X    0.229768\nCHFJPY=X  GBPUSD=X    0.229226\nGBPJPY=X  EURUSD=X    0.227641\nAUDJPY=X  GBPCHF=X    0.226471\nCADJPY=X  EURCHF=X    0.225042\nGBPJPY=X  NZDUSD=X    0.224780\nNZDJPY=X  EURCHF=X    0.219621\nAUDJPY=X  EURCAD=X    0.217666\nCHFJPY=X  AUDUSD=X    0.209860\nGBPJPY=X  CADCHF=X    0.208629\nGBPCAD=X  AUDCHF=X    0.208226\nEURCAD=X  GBPCHF=X    0.202986\nUSDJPY=X  AUDCHF=X    0.202647\nNZDJPY=X  GBPCHF=X    0.200836\nEURAUD=X  GBPCHF=X    0.199835\n          USDCHF=X    0.188718\nGBPUSD=X  EURCAD=X    0.188473\nCHFJPY=X  NZDUSD=X    0.186581\nEURJPY=X  EURAUD=X    0.182218\n          USDCHF=X    0.182161\nUSDJPY=X  NZDUSD=X    0.180859\nCADJPY=X  GBPUSD=X    0.179944\nAUDUSD=X  CADCHF=X    0.165944\nUSDJPY=X  EURCHF=X    0.165803\nEURUSD=X  GBPCAD=X    0.165483\nAUDJPY=X  GBPCAD=X    0.162788\nEURCAD=X  EURCHF=X    0.162659\nCHFJPY=X  EURCAD=X    0.157205\nNZDJPY=X  EURCAD=X    0.157155\nAUDUSD=X  EURCHF=X    0.141770\nUSDJPY=X  GBPUSD=X    0.137850\nGBPUSD=X  EURCHF=X    0.134928\nGBPCAD=X  USDCHF=X    0.134778\nEURJPY=X  AUDCHF=X    0.129211\nNZDJPY=X  GBPCAD=X    0.123733\nNZDUSD=X  EURCHF=X    0.121680\nUSDJPY=X  AUDUSD=X    0.120308\nGBPUSD=X  AUDCHF=X    0.114118\nUSDJPY=X  GBPCAD=X    0.112428\nEURAUD=X  EURCHF=X    0.110624\nUSDJPY=X  EURAUD=X    0.110305\nEURUSD=X  GBPCHF=X    0.109557\nAUDUSD=X  GBPCAD=X    0.104630\nCADJPY=X  USDCHF=X    0.104270\nEURJPY=X  GBPCHF=X    0.102675\nGBPJPY=X  EURAUD=X    0.102420\nCADJPY=X  EURUSD=X    0.102171\nNZDUSD=X  CADCHF=X    0.089905\nCHFJPY=X  EURAUD=X    0.088467\nAUDUSD=X  GBPCHF=X    0.085249\n          EURCAD=X    0.070292\nEURJPY=X  CADCHF=X    0.066897\nNZDJPY=X  USDCHF=X    0.052062\nNZDUSD=X  GBPCAD=X    0.051349\n          GBPCHF=X    0.049206\nEURUSD=X  AUDCHF=X    0.047618\nEURJPY=X  GBPCAD=X    0.041964\nGBPJPY=X  EURCAD=X    0.040703\nGBPUSD=X  CADCHF=X    0.040136\nCHFJPY=X  GBPCAD=X    0.037760\nGBPUSD=X  EURAUD=X    0.024411\nAUDJPY=X  USDCHF=X    0.017064\nNZDUSD=X  EURCAD=X    0.008661\nGBPCAD=X  EURCHF=X    0.004346\nGBPJPY=X  USDCHF=X    0.003592\ndtype: float64\n"
     ]
    }
   ],
   "source": [
    "#print('\\nCorrelation Matrix')\n",
    "corr_matrix = stocks_returns.corr()\n",
    "#print (corr_matrix)\n",
    "\n",
    "def get_redundant_pairs(df):\n",
    "    pairs_to_drop = set()\n",
    "    cols = df.columns\n",
    "    for i in range(0, df.shape[1]):\n",
    "        for j in range(0, i+1):\n",
    "            pairs_to_drop.add((cols[i], cols[j]))\n",
    "    return pairs_to_drop\n",
    "\n",
    "def get_top_abs_correlations(df):\n",
    "    au_corr = df.corr().abs().unstack()\n",
    "    labels_to_drop = get_redundant_pairs(df)\n",
    "    au_corr = au_corr.drop(labels=labels_to_drop).sort_values(ascending=False)\n",
    "    return au_corr\n",
    "\n",
    "print(\"\\nTop Absolute Correlations\")\n",
    "print(get_top_abs_correlations(stocks_returns))"
   ]
  }
 ],
 "metadata": {
  "kernelspec": {
   "display_name": "Python 3",
   "language": "python",
   "name": "python3"
  },
  "language_info": {
   "codemirror_mode": {
    "name": "ipython",
    "version": 3
   },
   "file_extension": ".py",
   "mimetype": "text/x-python",
   "name": "python",
   "nbconvert_exporter": "python",
   "pygments_lexer": "ipython3",
   "version": "3.8.3-final"
  }
 },
 "nbformat": 4,
 "nbformat_minor": 4
}