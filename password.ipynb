{
 "metadata": {
  "language_info": {
   "codemirror_mode": {
    "name": "ipython",
    "version": 3
   },
   "file_extension": ".py",
   "mimetype": "text/x-python",
   "name": "python",
   "nbconvert_exporter": "python",
   "pygments_lexer": "ipython3",
   "version": "3.8.3-final"
  },
  "orig_nbformat": 2,
  "kernelspec": {
   "name": "python3",
   "display_name": "Python 3",
   "language": "python"
  }
 },
 "nbformat": 4,
 "nbformat_minor": 2,
 "cells": [
  {
   "cell_type": "code",
   "execution_count": 1,
   "metadata": {},
   "outputs": [],
   "source": [
    "import random"
   ]
  },
  {
   "cell_type": "code",
   "execution_count": 5,
   "metadata": {},
   "outputs": [
    {
     "output_type": "stream",
     "name": "stdout",
     "text": [
      "1\n"
     ]
    }
   ],
   "source": [
    "lower = \"abcdefghijklkmnopqrstuvwxyz\"\n",
    "upper = \"ABCDEFGHIJKLMNOPQRSTUVWXYZ\"\n",
    "numbers = \"0123456789\"\n",
    "special = \"`~!@#$%^&*()_-+={[}]|\\:;'<,>.?\"\n",
    "\n",
    "all = lower + \"--\" + upper + \"--\" + numbers + \"--\" + special\n",
    "length = 16\n",
    "password = \"\".join(random.sample(all,length))\n",
    "#print(password)\n",
    "print(1)"
   ]
  },
  {
   "cell_type": "code",
   "execution_count": 17,
   "metadata": {},
   "outputs": [
    {
     "output_type": "execute_result",
     "data": {
      "text/plain": [
       "2"
      ]
     },
     "metadata": {},
     "execution_count": 17
    }
   ],
   "source": [
    "numbers = \"0123456789\"\n",
    "\n",
    "length = 6\n",
    "\n",
    "\n",
    "passcode = \"\".join(random.sample(numbers,length))\n",
    "print(passcode)\n",
    "#print(2)"
   ]
  },
  {
   "cell_type": "code",
   "execution_count": null,
   "metadata": {},
   "outputs": [],
   "source": []
  },
  {
   "cell_type": "code",
   "execution_count": 3,
   "metadata": {},
   "outputs": [
    {
     "output_type": "stream",
     "name": "stdout",
     "text": [
      "id . 128\ncountry . Nigeria\nconfirmed . 78434\nactive . 8910\ndeaths . 1221\nrecovered . 68303\nlatitude . 9.082\nlongitude . 8.6753\nlast_update . 1608564176000\n"
     ]
    }
   ],
   "source": [
    "from covid import Covid\n",
    "covid = Covid()\n",
    "cases = covid.get_status_by_country_name(\"Nigeria\")\n",
    "for x in cases:\n",
    "    print(x,\".\",cases[x])"
   ]
  },
  {
   "cell_type": "code",
   "execution_count": 4,
   "metadata": {},
   "outputs": [
    {
     "output_type": "stream",
     "name": "stdout",
     "text": [
      "[{'id': '178', 'name': 'US'}, {'id': '80', 'name': 'India'}, {'id': '24', 'name': 'Brazil'}, {'id': '142', 'name': 'Russia'}, {'id': '63', 'name': 'France'}, {'id': '182', 'name': 'United Kingdom'}, {'id': '86', 'name': 'Italy'}, {'id': '177', 'name': 'Turkey'}, {'id': '162', 'name': 'Spain'}, {'id': '7', 'name': 'Argentina'}, {'id': '38', 'name': 'Colombia'}, {'id': '67', 'name': 'Germany'}, {'id': '115', 'name': 'Mexico'}, {'id': '138', 'name': 'Poland'}, {'id': '82', 'name': 'Iran'}, {'id': '136', 'name': 'Peru'}, {'id': '180', 'name': 'Ukraine'}, {'id': '160', 'name': 'South Africa'}, {'id': '124', 'name': 'Netherlands'}, {'id': '81', 'name': 'Indonesia'}, {'id': '17', 'name': 'Belgium'}, {'id': '47', 'name': 'Czechia'}, {'id': '83', 'name': 'Iraq'}, {'id': '36', 'name': 'Chile'}, {'id': '141', 'name': 'Romania'}, {'id': '14', 'name': 'Bangladesh'}, {'id': '33', 'name': 'Canada'}, {'id': '137', 'name': 'Philippines'}, {'id': '132', 'name': 'Pakistan'}, {'id': '120', 'name': 'Morocco'}, {'id': '167', 'name': 'Switzerland'}, {'id': '150', 'name': 'Saudi Arabia'}, {'id': '85', 'name': 'Israel'}, {'id': '139', 'name': 'Portugal'}, {'id': '10', 'name': 'Austria'}, {'id': '166', 'name': 'Sweden'}, {'id': '78', 'name': 'Hungary'}, {'id': '152', 'name': 'Serbia'}, {'id': '89', 'name': 'Jordan'}, {'id': '123', 'name': 'Nepal'}, {'id': '53', 'name': 'Ecuador'}, {'id': '133', 'name': 'Panama'}, {'id': '66', 'name': 'Georgia'}, {'id': '90', 'name': 'Kazakhstan'}, {'id': '181', 'name': 'United Arab Emirates'}, {'id': '88', 'name': 'Japan'}, {'id': '26', 'name': 'Bulgaria'}, {'id': '44', 'name': 'Croatia'}, {'id': '11', 'name': 'Azerbaijan'}, {'id': '16', 'name': 'Belarus'}, {'id': '52', 'name': 'Dominican Republic'}, {'id': '42', 'name': 'Costa Rica'}, {'id': '8', 'name': 'Armenia'}, {'id': '21', 'name': 'Bolivia'}, {'id': '98', 'name': 'Lebanon'}, {'id': '94', 'name': 'Kuwait'}, {'id': '140', 'name': 'Qatar'}, {'id': '156', 'name': 'Slovakia'}, {'id': '71', 'name': 'Guatemala'}, {'id': '116', 'name': 'Moldova'}, {'id': '131', 'name': 'Oman'}, {'id': '69', 'name': 'Greece'}, {'id': '54', 'name': 'Egypt'}, {'id': '60', 'name': 'Ethiopia'}, {'id': '77', 'name': 'Honduras'}, {'id': '48', 'name': 'Denmark'}, {'id': '176', 'name': 'Tunisia'}, {'id': '188', 'name': 'West Bank and Gaza'}, {'id': '28', 'name': 'Burma'}, {'id': '186', 'name': 'Venezuela'}, {'id': '22', 'name': 'Bosnia and Herzegovina'}, {'id': '157', 'name': 'Slovenia'}, {'id': '103', 'name': 'Lithuania'}, {'id': '37', 'name': 'China'}, {'id': '135', 'name': 'Paraguay'}, {'id': '3', 'name': 'Algeria'}, {'id': '91', 'name': 'Kenya'}, {'id': '101', 'name': 'Libya'}, {'id': '13', 'name': 'Bahrain'}, {'id': '108', 'name': 'Malaysia'}, {'id': '95', 'name': 'Kyrgyzstan'}, {'id': '84', 'name': 'Ireland'}, {'id': '184', 'name': 'Uzbekistan'}, {'id': '129', 'name': 'North Macedonia'}, {'id': '128', 'name': 'Nigeria'}, {'id': '155', 'name': 'Singapore'}, {'id': '68', 'name': 'Ghana'}, {'id': '1', 'name': 'Afghanistan'}, {'id': '2', 'name': 'Albania'}, {'id': '93', 'name': 'Kosovo'}, {'id': '92', 'name': 'Korea, South'}, {'id': '55', 'name': 'El Salvador'}, {'id': '119', 'name': 'Montenegro'}, {'id': '130', 'name': 'Norway'}, {'id': '104', 'name': 'Luxembourg'}, {'id': '163', 'name': 'Sri Lanka'}, {'id': '62', 'name': 'Finland'}, {'id': '9', 'name': 'Australia'}, {'id': '179', 'name': 'Uganda'}, {'id': '97', 'name': 'Latvia'}, {'id': '32', 'name': 'Cameroon'}, {'id': '43', 'name': \"Cote d'Ivoire\"}, {'id': '164', 'name': 'Sudan'}, {'id': '58', 'name': 'Estonia'}, {'id': '190', 'name': 'Zambia'}, {'id': '106', 'name': 'Madagascar'}, {'id': '151', 'name': 'Senegal'}, {'id': '121', 'name': 'Mozambique'}, {'id': '122', 'name': 'Namibia'}, {'id': '5', 'name': 'Angola'}, {'id': '46', 'name': 'Cyprus'}, {'id': '41', 'name': 'Congo (Kinshasa)'}, {'id': '72', 'name': 'Guinea'}, {'id': '109', 'name': 'Maldives'}, {'id': '170', 'name': 'Tajikistan'}, {'id': '23', 'name': 'Botswana'}, {'id': '87', 'name': 'Jamaica'}, {'id': '30', 'name': 'Cabo Verde'}, {'id': '111', 'name': 'Malta'}, {'id': '191', 'name': 'Zimbabwe'}, {'id': '113', 'name': 'Mauritania'}, {'id': '183', 'name': 'Uruguay'}, {'id': '75', 'name': 'Haiti'}, {'id': '45', 'name': 'Cuba'}, {'id': '64', 'name': 'Gabon'}, {'id': '18', 'name': 'Belize'}, {'id': '168', 'name': 'Syria'}, {'id': '12', 'name': 'Bahamas'}, {'id': '4', 'name': 'Andorra'}, {'id': '175', 'name': 'Trinidad and Tobago'}, {'id': '59', 'name': 'Eswatini'}, {'id': '143', 'name': 'Rwanda'}, {'id': '107', 'name': 'Malawi'}, {'id': '40', 'name': 'Congo (Brazzaville)'}, {'id': '74', 'name': 'Guyana'}, {'id': '126', 'name': 'Nicaragua'}, {'id': '110', 'name': 'Mali'}, {'id': '50', 'name': 'Djibouti'}, {'id': '79', 'name': 'Iceland'}, {'id': '165', 'name': 'Suriname'}, {'id': '56', 'name': 'Equatorial Guinea'}, {'id': '34', 'name': 'Central African Republic'}, {'id': '159', 'name': 'Somalia'}, {'id': '172', 'name': 'Thailand'}, {'id': '27', 'name': 'Burkina Faso'}, {'id': '65', 'name': 'Gambia'}, {'id': '174', 'name': 'Togo'}, {'id': '161', 'name': 'South Sudan'}, {'id': '19', 'name': 'Benin'}, {'id': '73', 'name': 'Guinea-Bissau'}, {'id': '154', 'name': 'Sierra Leone'}, {'id': '99', 'name': 'Lesotho'}, {'id': '127', 'name': 'Niger'}, {'id': '125', 'name': 'New Zealand'}, {'id': '189', 'name': 'Yemen'}, {'id': '148', 'name': 'San Marino'}, {'id': '35', 'name': 'Chad'}, {'id': '100', 'name': 'Liberia'}, {'id': '102', 'name': 'Liechtenstein'}, {'id': '187', 'name': 'Vietnam'}, {'id': '149', 'name': 'Sao Tome and Principe'}, {'id': '118', 'name': 'Mongolia'}, {'id': '169', 'name': 'Taiwan*'}, {'id': '29', 'name': 'Burundi'}, {'id': '134', 'name': 'Papua New Guinea'}, {'id': '49', 'name': 'Diamond Princess'}, {'id': '57', 'name': 'Eritrea'}, {'id': '117', 'name': 'Monaco'}, {'id': '39', 'name': 'Comoros'}, {'id': '114', 'name': 'Mauritius'}, {'id': '171', 'name': 'Tanzania'}, {'id': '20', 'name': 'Bhutan'}, {'id': '31', 'name': 'Cambodia'}, {'id': '15', 'name': 'Barbados'}, {'id': '145', 'name': 'Saint Lucia'}, {'id': '153', 'name': 'Seychelles'}, {'id': '25', 'name': 'Brunei'}, {'id': '6', 'name': 'Antigua and Barbuda'}, {'id': '146', 'name': 'Saint Vincent and the Grenadines'}, {'id': '51', 'name': 'Dominica'}, {'id': '70', 'name': 'Grenada'}, {'id': '61', 'name': 'Fiji'}, {'id': '96', 'name': 'Laos'}, {'id': '173', 'name': 'Timor-Leste'}, {'id': '76', 'name': 'Holy See'}, {'id': '144', 'name': 'Saint Kitts and Nevis'}, {'id': '158', 'name': 'Solomon Islands'}, {'id': '105', 'name': 'MS Zaandam'}, {'id': '112', 'name': 'Marshall Islands'}, {'id': '147', 'name': 'Samoa'}, {'id': '185', 'name': 'Vanuatu'}]\n"
     ]
    }
   ],
   "source": [
    "countries =  covid.list_countries()\n",
    "print(countries)"
   ]
  },
  {
   "cell_type": "code",
   "execution_count": null,
   "metadata": {},
   "outputs": [],
   "source": []
  }
 ]
}