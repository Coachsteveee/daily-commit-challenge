{
 "metadata": {
  "language_info": {
   "codemirror_mode": {
    "name": "ipython",
    "version": 3
   },
   "file_extension": ".py",
   "mimetype": "text/x-python",
   "name": "python",
   "nbconvert_exporter": "python",
   "pygments_lexer": "ipython3",
   "version": "3.7.4"
  },
  "orig_nbformat": 2,
  "kernelspec": {
   "name": "python374jvsc74a57bd0e87d0413bca7eaa104f583652c3ef7628c5ba006737aef04131a6fafee4558c9",
   "display_name": "Python 3.7.4 64-bit"
  },
  "metadata": {
   "interpreter": {
    "hash": "e87d0413bca7eaa104f583652c3ef7628c5ba006737aef04131a6fafee4558c9"
   }
  }
 },
 "nbformat": 4,
 "nbformat_minor": 2,
 "cells": [
  {
   "source": [
    "# Triangle Judgement Program\n",
    "code used to implement a black box test, other details will be uploaded"
   ],
   "cell_type": "markdown",
   "metadata": {}
  },
  {
   "cell_type": "code",
   "execution_count": 12,
   "metadata": {},
   "outputs": [
    {
     "output_type": "stream",
     "name": "stdout",
     "text": [
      "The sides entered are: -2 -3 4\nNon-Triangle\n"
     ]
    }
   ],
   "source": [
    "def is_valid_triangle(a,b,c):\n",
    "    if a==0 or b==0 or c==0:\n",
    "        return False\n",
    "    elif a+b>=c and b+c>=a and c+a>=b:\n",
    "        return True\n",
    "    else:\n",
    "        return False\n",
    "\n",
    "def triangle_type(a,b,c):\n",
    "    if a==b and b==c and c==a:\n",
    "        print('General Triangle')\n",
    "    elif a==b or b==c or a==c:\n",
    "        print('Isoscles Triangle')\n",
    "    elif a+b>=c and b+c>=a and c+a>=b:\n",
    "        print('General Triangle')\n",
    "    else:\n",
    "        print('Non-Triangle')\n",
    "try:\n",
    "    a = int(input('Enter length of side a: '))\n",
    "    b = int(input('Enter length of side b: '))\n",
    "    c = int(input('Enter length of side c: '))\n",
    "\n",
    "except (ValueError):\n",
    "    pass\n",
    "\n",
    "print('The sides entered are:', a, b, c)\n",
    "\n",
    "if is_valid_triangle(a, b, c):\n",
    "    triangle_type(a, b, c)\n",
    "else:\n",
    "    print('Non-Triangle')\n"
   ]
  }
 ]
}