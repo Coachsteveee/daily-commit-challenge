{
 "cells": [
  {
   "cell_type": "markdown",
   "metadata": {},
   "source": [
    "# Reduce Function\r\n",
    "Given a list of rational numbers,find their product.\r\n",
    "\r\n",
    "Concept\r\n",
    "The reduce() function applies a function of two arguments cumulatively on a list of objects in succession from left to right to reduce it to one value. Say you have a list, say [1,2,3] and you have to find its sum.\r\n",
    ">>>>>> reduce(lambda x, y : x +y, [1,2,3])\r\n",
    "\r\n",
    "Here the task to find the gcf when given a list of numbers, the code can let you specify the number of fractions you want to process and returns the output fraction."
   ]
  },
  {
   "cell_type": "code",
   "execution_count": 11,
   "metadata": {},
   "outputs": [
    {
     "name": "stdout",
     "output_type": "stream",
     "text": [
      "5 8\n"
     ]
    }
   ],
   "source": [
    "from fractions import Fraction\r\n",
    "from functools import reduce\r\n",
    "\r\n",
    "def product(fracs):\r\n",
    "    t = reduce(lambda x, y: x * y, fracs)\r\n",
    "    return t.numerator, t.denominator\r\n",
    "\r\n",
    "if __name__ == '__main__':\r\n",
    "    fracs = []\r\n",
    "    for _ in range(int(input())):\r\n",
    "        fracs.append(Fraction(*map(int, input().split())))\r\n",
    "    result = product(fracs)\r\n",
    "    print(*result)"
   ]
  },
  {
   "cell_type": "markdown",
   "metadata": {},
   "source": []
  },
  {
   "cell_type": "code",
   "execution_count": null,
   "metadata": {},
   "outputs": [],
   "source": []
  }
 ],
 "metadata": {
  "interpreter": {
   "hash": "25bf1dab56f13e21d80318cd5e789e076f92a14fa9924f370a2a818164c863f4"
  },
  "kernelspec": {
   "display_name": "Python 3.9.5 64-bit",
   "name": "python3"
  },
  "language_info": {
   "codemirror_mode": {
    "name": "ipython",
    "version": 3
   },
   "file_extension": ".py",
   "mimetype": "text/x-python",
   "name": "python",
   "nbconvert_exporter": "python",
   "pygments_lexer": "ipython3",
   "version": "3.9.5"
  },
  "orig_nbformat": 4
 },
 "nbformat": 4,
 "nbformat_minor": 2
}