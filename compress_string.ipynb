{
 "cells": [
  {
   "cell_type": "markdown",
   "metadata": {},
   "source": [
    "# Compress the String\r\n",
    "In this task, we would like for you to appreciate the usefulness of the groupby() function of itertools . To read more about this function, Check this out() .\r\n",
    "\r\n",
    "You are given a string `S`. Suppose a character `c` occurs consecutively `X`  times in the string. Replace these consecutive occurrences of the character `c` with (`X`,`c`) in the string."
   ]
  },
  {
   "cell_type": "code",
   "execution_count": 145,
   "metadata": {},
   "outputs": [
    {
     "name": "stdout",
     "output_type": "stream",
     "text": [
      "(1, 1) (1, 2) (1, 3) (1, 2) (2, 4) (1, 3) (1, 4) (1, 3) (1, 2) (1, 3) (1, 2) (4, 3) (2, 1) (1, 2) (1, 5) (1, 7) (1, 4) (2, 8) (2, 4) (1, 7) (1, 3) (1, 7) (1, 3) (2, 7) (3, 3)\n"
     ]
    }
   ],
   "source": [
    "from itertools import groupby\r\n",
    "\r\n",
    "print(*[(len(list(g)), int(k)) for k, g in groupby(input())])"
   ]
  }
 ],
 "metadata": {
  "interpreter": {
   "hash": "25bf1dab56f13e21d80318cd5e789e076f92a14fa9924f370a2a818164c863f4"
  },
  "kernelspec": {
   "display_name": "Python 3.9.5 64-bit",
   "name": "python3"
  },
  "language_info": {
   "codemirror_mode": {
    "name": "ipython",
    "version": 3
   },
   "file_extension": ".py",
   "mimetype": "text/x-python",
   "name": "python",
   "nbconvert_exporter": "python",
   "pygments_lexer": "ipython3",
   "version": "3.9.5"
  },
  "orig_nbformat": 4
 },
 "nbformat": 4,
 "nbformat_minor": 2
}