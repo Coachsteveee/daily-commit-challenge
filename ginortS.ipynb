{
 "cells": [
  {
   "cell_type": "markdown",
   "metadata": {},
   "source": [
    "# ginortS\r\n",
    "\r\n",
    "You are given a string `S`.\r\n",
    "`S` contains alphanumeric characters only.\r\n",
    "\r\n",
    "Your task is to sort the string  in the following manner:\r\n",
    "\r\n",
    "All sorted lowercase letters are ahead of uppercase letters.\r\n",
    "All sorted uppercase letters are ahead of digits.\r\n",
    "All sorted odd digits are ahead of sorted even digits."
   ]
  },
  {
   "cell_type": "code",
   "execution_count": 39,
   "metadata": {},
   "outputs": [],
   "source": [
    "def ginort():\r\n",
    "    upper = []\r\n",
    "    lower = []\r\n",
    "    even = []\r\n",
    "    odd = []\r\n",
    "\r\n",
    "    s=input()\r\n",
    "    for x in s:\r\n",
    "        if x.isalpha():\r\n",
    "            if x.isupper():\r\n",
    "                upper.append(x)\r\n",
    "            else:\r\n",
    "                lower.append(x)\r\n",
    "        else:\r\n",
    "            if int(x)%2 == 0:\r\n",
    "                even.append(x)\r\n",
    "            else:\r\n",
    "                odd.append(x)\r\n",
    "\r\n",
    "    sorted_ = \"\".join(sorted(lower)+sorted(upper)+sorted(odd)+sorted(even))           \r\n",
    "    print(sorted_)\r\n"
   ]
  },
  {
   "cell_type": "code",
   "execution_count": 40,
   "metadata": {},
   "outputs": [
    {
     "name": "stdout",
     "output_type": "stream",
     "text": [
      "ginortS13552444\n"
     ]
    }
   ],
   "source": [
    "ginort()"
   ]
  },
  {
   "cell_type": "code",
   "execution_count": null,
   "metadata": {},
   "outputs": [],
   "source": []
  }
 ],
 "metadata": {
  "interpreter": {
   "hash": "25bf1dab56f13e21d80318cd5e789e076f92a14fa9924f370a2a818164c863f4"
  },
  "kernelspec": {
   "display_name": "Python 3.9.5 64-bit",
   "name": "python3"
  },
  "language_info": {
   "codemirror_mode": {
    "name": "ipython",
    "version": 3
   },
   "file_extension": ".py",
   "mimetype": "text/x-python",
   "name": "python",
   "nbconvert_exporter": "python",
   "pygments_lexer": "ipython3",
   "version": "3.9.5"
  },
  "orig_nbformat": 4
 },
 "nbformat": 4,
 "nbformat_minor": 2
}