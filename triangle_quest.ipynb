{
 "cells": [
  {
   "cell_type": "markdown",
   "metadata": {},
   "source": [
    "# TRAINGLE QUEST\r\n",
    "You are given a positive integer . Print a numerical triangle of height  like the one below:\r\n",
    "\r\n",
    "1\r\n",
    "\r\n",
    "22\r\n",
    "\r\n",
    "333\r\n",
    "\r\n",
    "4444\r\n",
    "\r\n",
    "55555\r\n",
    "......\r\n",
    "Can you do it using only arithmetic operations, a single for loop and print statement?\r\n",
    "\r\n",
    "Use no more than two lines. The first line (the for statement) is already written for you. You have to complete the print statement.\r\n",
    "\r\n",
    "Note: Using anything related to strings will give a score of ."
   ]
  },
  {
   "cell_type": "code",
   "execution_count": 52,
   "metadata": {},
   "outputs": [
    {
     "name": "stdout",
     "output_type": "stream",
     "text": [
      "1\n",
      "22\n",
      "333\n",
      "4444\n"
     ]
    }
   ],
   "source": [
    "for i in range(1,int(input())): \r\n",
    "    print(10**i//9*i)"
   ]
  }
 ],
 "metadata": {
  "interpreter": {
   "hash": "25bf1dab56f13e21d80318cd5e789e076f92a14fa9924f370a2a818164c863f4"
  },
  "kernelspec": {
   "display_name": "Python 3.9.5 64-bit",
   "name": "python3"
  },
  "language_info": {
   "codemirror_mode": {
    "name": "ipython",
    "version": 3
   },
   "file_extension": ".py",
   "mimetype": "text/x-python",
   "name": "python",
   "nbconvert_exporter": "python",
   "pygments_lexer": "ipython3",
   "version": "3.9.5"
  },
  "orig_nbformat": 4
 },
 "nbformat": 4,
 "nbformat_minor": 2
}